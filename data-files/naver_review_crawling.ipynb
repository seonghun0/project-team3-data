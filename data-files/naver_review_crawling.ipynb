{
 "cells": [
  {
   "cell_type": "code",
   "execution_count": null,
   "metadata": {},
   "outputs": [],
   "source": [
    "import requests\n",
    "from bs4 import BeautifulSoup\n",
    "import time\n",
    "\n",
    "url = 'https://movie.naver.com/movie/point/af/list.naver?&page={0}'\n",
    "page = 1\n",
    "while True :\n",
    "    \n",
    "    r = requests.get(url.format(page))\n",
    "    soup = BeautifulSoup(r.text,'html.parser')\n",
    "    list = soup.select('div#cbody #old_content .list_netizen')\n",
    "\n",
    "    for li in list:\n",
    "        title = li.select('.title .movie.color_b')\n",
    "        point = li.select('.title em')\n",
    "        review = li.select('.title .report')\n",
    "        date = li.select('td')\n",
    "\n",
    "        for tit, p, r in zip(title,point,review):\n",
    "            tit = tit.get_text()\n",
    "            pt = p.get_text()\n",
    "            rw = r['onclick'][67:-29]\n",
    "            print('[{0}][{1}][{2}]'.format(pt, tit, rw))\n",
    "\n",
    "    if page == 10:\n",
    "        break\n",
    "\n",
    "    page += 1"
   ]
  }
 ],
 "metadata": {
  "language_info": {
   "name": "python"
  },
  "orig_nbformat": 4
 },
 "nbformat": 4,
 "nbformat_minor": 2
}
