{
 "cells": [
  {
   "cell_type": "code",
   "execution_count": 1,
   "metadata": {},
   "outputs": [],
   "source": [
    "import requests\n",
    "import json\n",
    "import pandas as pd\n",
    "import numpy as np\n",
    "import pymysql\n",
    "import os"
   ]
  },
  {
   "cell_type": "code",
   "execution_count": 3,
   "metadata": {},
   "outputs": [
    {
     "name": "stderr",
     "output_type": "stream",
     "text": [
      "C:\\Users\\user\\.conda\\envs\\ykseo\\lib\\site-packages\\IPython\\core\\interactiveshell.py:3441: DtypeWarning: Columns (1,4,7,12,17,23) have mixed types.Specify dtype option on import or set low_memory=False.\n",
      "  exec(code_obj, self.user_global_ns, self.user_ns)\n"
     ]
    }
   ],
   "source": [
    "# 1. 영화id를 사용하기 위해 영화정보 파일가져오기 \n",
    "tmdb_movie_list = pd.read_csv('../data-files/total_tmdbmovielist.csv', index_col=0) "
   ]
  },
  {
   "cell_type": "code",
   "execution_count": 4,
   "metadata": {},
   "outputs": [
    {
     "name": "stdout",
     "output_type": "stream",
     "text": [
      "<class 'pandas.core.frame.DataFrame'>\n",
      "Int64Index: 630159 entries, 0 to 630185\n",
      "Data columns (total 25 columns):\n",
      " #   Column                 Non-Null Count   Dtype  \n",
      "---  ------                 --------------   -----  \n",
      " 0   adult                  630158 non-null  object \n",
      " 1   backdrop_path          150102 non-null  object \n",
      " 2   belongs_to_collection  11995 non-null   object \n",
      " 3   budget                 630157 non-null  object \n",
      " 4   genres                 630155 non-null  object \n",
      " 5   homepage               69801 non-null   object \n",
      " 6   id                     630156 non-null  object \n",
      " 7   imdb_id                396414 non-null  object \n",
      " 8   original_language      630157 non-null  object \n",
      " 9   original_title         630130 non-null  object \n",
      " 10  overview               25238 non-null   object \n",
      " 11  popularity             630119 non-null  object \n",
      " 12  poster_path            426255 non-null  object \n",
      " 13  production_companies   630119 non-null  object \n",
      " 14  production_countries   630088 non-null  object \n",
      " 15  release_date           571778 non-null  object \n",
      " 16  revenue                630088 non-null  object \n",
      " 17  runtime                577000 non-null  float64\n",
      " 18  spoken_languages       630088 non-null  object \n",
      " 19  status                 630088 non-null  object \n",
      " 20  tagline                8100 non-null    object \n",
      " 21  title                  630086 non-null  object \n",
      " 22  video                  630086 non-null  object \n",
      " 23  vote_average           630086 non-null  float64\n",
      " 24  vote_count             630086 non-null  float64\n",
      "dtypes: float64(3), object(22)\n",
      "memory usage: 125.0+ MB\n"
     ]
    }
   ],
   "source": [
    "# 2. 영화정보 중 id만 가져오기\n",
    "tmdb_movie_list.info()\n",
    "tmdb_movie_id_list = tmdb_movie_list[[\"id\"]]\n",
    "# del tmdb_movie_list"
   ]
  },
  {
   "cell_type": "code",
   "execution_count": 5,
   "metadata": {},
   "outputs": [
    {
     "name": "stdout",
     "output_type": "stream",
     "text": [
      "(630159, 1)\n"
     ]
    },
    {
     "data": {
      "text/html": [
       "<div>\n",
       "<style scoped>\n",
       "    .dataframe tbody tr th:only-of-type {\n",
       "        vertical-align: middle;\n",
       "    }\n",
       "\n",
       "    .dataframe tbody tr th {\n",
       "        vertical-align: top;\n",
       "    }\n",
       "\n",
       "    .dataframe thead th {\n",
       "        text-align: right;\n",
       "    }\n",
       "</style>\n",
       "<table border=\"1\" class=\"dataframe\">\n",
       "  <thead>\n",
       "    <tr style=\"text-align: right;\">\n",
       "      <th></th>\n",
       "      <th>id</th>\n",
       "    </tr>\n",
       "  </thead>\n",
       "  <tbody>\n",
       "    <tr>\n",
       "      <th>0</th>\n",
       "      <td>2.0</td>\n",
       "    </tr>\n",
       "    <tr>\n",
       "      <th>1</th>\n",
       "      <td>3.0</td>\n",
       "    </tr>\n",
       "    <tr>\n",
       "      <th>2</th>\n",
       "      <td>5.0</td>\n",
       "    </tr>\n",
       "    <tr>\n",
       "      <th>3</th>\n",
       "      <td>6.0</td>\n",
       "    </tr>\n",
       "    <tr>\n",
       "      <th>4</th>\n",
       "      <td>8.0</td>\n",
       "    </tr>\n",
       "  </tbody>\n",
       "</table>\n",
       "</div>"
      ],
      "text/plain": [
       "    id\n",
       "0  2.0\n",
       "1  3.0\n",
       "2  5.0\n",
       "3  6.0\n",
       "4  8.0"
      ]
     },
     "execution_count": 5,
     "metadata": {},
     "output_type": "execute_result"
    }
   ],
   "source": [
    "print(tmdb_movie_id_list.shape)\n",
    "tmdb_movie_id_list.head()"
   ]
  },
  {
   "cell_type": "code",
   "execution_count": 9,
   "metadata": {},
   "outputs": [],
   "source": [
    "## 영화id를 이용하여 crew정보 crawling  (너무 오래걸림)\n",
    "\n",
    "all_crew_list = []\n",
    "all_cast_list = []\n",
    "error_list = []\n",
    "for idx,  movie_id in enumerate(tmdb_movie_id_list[\"id\"].values):\n",
    "    try :\n",
    "        crew_url=\"https://api.themoviedb.org/3/movie/{0}?api_key=36927ad1d2817ff0fa31947e47d186fd&append_to_response=credits\"\n",
    "        response = requests.get(crew_url.format(movie_id))\n",
    "        json_object = response.content\n",
    "        movie_data = json.loads(json_object)\n",
    "        \n",
    "        # crew_list += movie_data[\"credit\"]['crew']\n",
    "        crew_list = movie_data[\"credits\"][\"crew\"]\n",
    "        for crew in crew_list:\n",
    "            crew[\"movie_id\"] = movie_id\n",
    "            all_crew_list.append(crew)\n",
    "    except:\n",
    "        error_list.append(movie_id)\n",
    "\n",
    "    if idx == 500:\n",
    "        break"
   ]
  },
  {
   "cell_type": "code",
   "execution_count": 2,
   "metadata": {},
   "outputs": [],
   "source": [
    "# 현재 상영 중인 영화\n",
    "now_playing_movies=pd.read_csv(\"../data-files/now_playing_movies.csv\", index_col=0)"
   ]
  },
  {
   "cell_type": "code",
   "execution_count": 3,
   "metadata": {},
   "outputs": [
    {
     "name": "stdout",
     "output_type": "stream",
     "text": [
      "<class 'pandas.core.frame.DataFrame'>\n",
      "Int64Index: 200 entries, 0 to 199\n",
      "Data columns (total 14 columns):\n",
      " #   Column             Non-Null Count  Dtype  \n",
      "---  ------             --------------  -----  \n",
      " 0   adult              200 non-null    bool   \n",
      " 1   backdrop_path      200 non-null    object \n",
      " 2   genre_ids          200 non-null    object \n",
      " 3   id                 200 non-null    int64  \n",
      " 4   original_language  200 non-null    object \n",
      " 5   original_title     200 non-null    object \n",
      " 6   overview           160 non-null    object \n",
      " 7   popularity         200 non-null    float64\n",
      " 8   poster_path        200 non-null    object \n",
      " 9   release_date       200 non-null    object \n",
      " 10  title              200 non-null    object \n",
      " 11  video              200 non-null    bool   \n",
      " 12  vote_average       200 non-null    float64\n",
      " 13  vote_count         200 non-null    int64  \n",
      "dtypes: bool(2), float64(2), int64(2), object(8)\n",
      "memory usage: 20.7+ KB\n"
     ]
    }
   ],
   "source": [
    "now_playing_movies.info()"
   ]
  },
  {
   "cell_type": "code",
   "execution_count": 4,
   "metadata": {},
   "outputs": [
    {
     "data": {
      "text/html": [
       "<div>\n",
       "<style scoped>\n",
       "    .dataframe tbody tr th:only-of-type {\n",
       "        vertical-align: middle;\n",
       "    }\n",
       "\n",
       "    .dataframe tbody tr th {\n",
       "        vertical-align: top;\n",
       "    }\n",
       "\n",
       "    .dataframe thead th {\n",
       "        text-align: right;\n",
       "    }\n",
       "</style>\n",
       "<table border=\"1\" class=\"dataframe\">\n",
       "  <thead>\n",
       "    <tr style=\"text-align: right;\">\n",
       "      <th></th>\n",
       "      <th>id</th>\n",
       "    </tr>\n",
       "  </thead>\n",
       "  <tbody>\n",
       "    <tr>\n",
       "      <th>0</th>\n",
       "      <td>580489</td>\n",
       "    </tr>\n",
       "    <tr>\n",
       "      <th>1</th>\n",
       "      <td>512195</td>\n",
       "    </tr>\n",
       "    <tr>\n",
       "      <th>2</th>\n",
       "      <td>585245</td>\n",
       "    </tr>\n",
       "    <tr>\n",
       "      <th>3</th>\n",
       "      <td>566525</td>\n",
       "    </tr>\n",
       "    <tr>\n",
       "      <th>4</th>\n",
       "      <td>568124</td>\n",
       "    </tr>\n",
       "    <tr>\n",
       "      <th>...</th>\n",
       "      <td>...</td>\n",
       "    </tr>\n",
       "    <tr>\n",
       "      <th>195</th>\n",
       "      <td>116322</td>\n",
       "    </tr>\n",
       "    <tr>\n",
       "      <th>196</th>\n",
       "      <td>817566</td>\n",
       "    </tr>\n",
       "    <tr>\n",
       "      <th>197</th>\n",
       "      <td>8373</td>\n",
       "    </tr>\n",
       "    <tr>\n",
       "      <th>198</th>\n",
       "      <td>258489</td>\n",
       "    </tr>\n",
       "    <tr>\n",
       "      <th>199</th>\n",
       "      <td>761898</td>\n",
       "    </tr>\n",
       "  </tbody>\n",
       "</table>\n",
       "<p>200 rows × 1 columns</p>\n",
       "</div>"
      ],
      "text/plain": [
       "         id\n",
       "0    580489\n",
       "1    512195\n",
       "2    585245\n",
       "3    566525\n",
       "4    568124\n",
       "..      ...\n",
       "195  116322\n",
       "196  817566\n",
       "197    8373\n",
       "198  258489\n",
       "199  761898\n",
       "\n",
       "[200 rows x 1 columns]"
      ]
     },
     "execution_count": 4,
     "metadata": {},
     "output_type": "execute_result"
    }
   ],
   "source": [
    "now_playing_movies_id_list = now_playing_movies[[\"id\"]]\n",
    "now_playing_movies_id_list"
   ]
  },
  {
   "cell_type": "code",
   "execution_count": 5,
   "metadata": {},
   "outputs": [],
   "source": [
    "all_crew_list = []\n",
    "error_list = []\n",
    "for idx,  movie_id in enumerate(now_playing_movies_id_list[\"id\"].values):\n",
    "    try :\n",
    "        crew_url=\"https://api.themoviedb.org/3/movie/{0}?api_key=36927ad1d2817ff0fa31947e47d186fd&append_to_response=credits\"\n",
    "        response = requests.get(crew_url.format(movie_id))\n",
    "        json_object = response.content\n",
    "        movie_data = json.loads(json_object)\n",
    "        \n",
    "        # crew_list += movie_data[\"credit\"]['crew']\n",
    "        crew_list = movie_data[\"credits\"][\"crew\"]\n",
    "        for crew in crew_list:\n",
    "            crew[\"movie_id\"] = movie_id\n",
    "            all_crew_list.append(crew)\n",
    "    except:\n",
    "        error_list.append(movie_id)\n",
    "\n",
    "    #if idx == 500:\n",
    "        #break"
   ]
  },
  {
   "cell_type": "code",
   "execution_count": 6,
   "metadata": {},
   "outputs": [
    {
     "name": "stdout",
     "output_type": "stream",
     "text": [
      "<class 'pandas.core.frame.DataFrame'>\n",
      "RangeIndex: 14316 entries, 0 to 14315\n",
      "Data columns (total 12 columns):\n",
      " #   Column                Non-Null Count  Dtype  \n",
      "---  ------                --------------  -----  \n",
      " 0   adult                 14316 non-null  bool   \n",
      " 1   gender                14316 non-null  int64  \n",
      " 2   id                    14316 non-null  int64  \n",
      " 3   known_for_department  14316 non-null  object \n",
      " 4   name                  14316 non-null  object \n",
      " 5   original_name         14316 non-null  object \n",
      " 6   popularity            14316 non-null  float64\n",
      " 7   profile_path          2093 non-null   object \n",
      " 8   credit_id             14316 non-null  object \n",
      " 9   department            14316 non-null  object \n",
      " 10  job                   14316 non-null  object \n",
      " 11  movie_id              14316 non-null  int64  \n",
      "dtypes: bool(1), float64(1), int64(3), object(7)\n",
      "memory usage: 1.2+ MB\n"
     ]
    }
   ],
   "source": [
    "# crew 정보 csv파일로 저장 \n",
    "crews=pd.DataFrame(all_crew_list)\n",
    "crews.info()\n"
   ]
  },
  {
   "cell_type": "code",
   "execution_count": 7,
   "metadata": {},
   "outputs": [],
   "source": [
    "crews.to_csv(\"../data-files/crew.csv\", header=True, index=True)"
   ]
  },
  {
   "cell_type": "code",
   "execution_count": 7,
   "metadata": {},
   "outputs": [],
   "source": [
    "# crew정보 DB(mysql)에 저장\n",
    "import pymysql\n",
    "\n",
    "conn = pymysql.connect(host=\"localhost\",\n",
    "                       database=\"finalteam3\",\n",
    "                       user=\"kdigital\",\n",
    "                       password=\"mysql\",\n",
    "                       charset=\"utf8\")\n",
    "\n",
    "cursor = conn.cursor()\n",
    "cursor.execute('DELETE FROM crew')\n",
    "#error_list=[]\n",
    "for a in crews.values:\n",
    "    sql= \"\"\"INSERT INTO crew \n",
    "    (adult, gender, id, known_for_department, name, original_name, popularity, profile_path, credit_id, department, job, movie_id) \n",
    "            VALUES(%s, %s, %s, %s, %s, %s, %s, %s, %s, %s, %s, %s)\"\"\"\n",
    "    cursor.execute(sql, list(a))\n",
    "    #except:\n",
    "        ##error_list.append(a)\n",
    "\n",
    "\n",
    "conn.commit() # 이전에 실행된 SQL 결과를 확정\n",
    "cursor.close()\n",
    "conn.close()"
   ]
  }
 ],
 "metadata": {
  "interpreter": {
   "hash": "f2fcd694705e23828841e6436414841c9e0551977625b01a6a0c570cf77493f9"
  },
  "kernelspec": {
   "display_name": "Python 3.7.11 64-bit ('ykseo': conda)",
   "language": "python",
   "name": "python3"
  },
  "language_info": {
   "codemirror_mode": {
    "name": "ipython",
    "version": 3
   },
   "file_extension": ".py",
   "mimetype": "text/x-python",
   "name": "python",
   "nbconvert_exporter": "python",
   "pygments_lexer": "ipython3",
   "version": "3.9.7"
  },
  "orig_nbformat": 4
 },
 "nbformat": 4,
 "nbformat_minor": 2
}
