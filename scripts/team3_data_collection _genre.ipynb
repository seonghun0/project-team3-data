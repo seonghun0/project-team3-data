{
 "cells": [
  {
   "cell_type": "code",
   "execution_count": 3,
   "metadata": {},
   "outputs": [],
   "source": [
    "import requests\n",
    "import json\n",
    "import pandas as pd\n",
    "import numpy as np\n",
    "import pymysql\n",
    "import os"
   ]
  },
  {
   "cell_type": "code",
   "execution_count": 13,
   "metadata": {},
   "outputs": [
    {
     "data": {
      "text/plain": [
       "{'genres': [{'id': 28, 'name': '액션'},\n",
       "  {'id': 12, 'name': '모험'},\n",
       "  {'id': 16, 'name': '애니메이션'},\n",
       "  {'id': 35, 'name': '코미디'},\n",
       "  {'id': 80, 'name': '범죄'},\n",
       "  {'id': 99, 'name': '다큐멘터리'},\n",
       "  {'id': 18, 'name': '드라마'},\n",
       "  {'id': 10751, 'name': '가족'},\n",
       "  {'id': 14, 'name': '판타지'},\n",
       "  {'id': 36, 'name': '역사'},\n",
       "  {'id': 27, 'name': '공포'},\n",
       "  {'id': 10402, 'name': '음악'},\n",
       "  {'id': 9648, 'name': '미스터리'},\n",
       "  {'id': 10749, 'name': '로맨스'},\n",
       "  {'id': 878, 'name': 'SF'},\n",
       "  {'id': 10770, 'name': 'TV 영화'},\n",
       "  {'id': 53, 'name': '스릴러'},\n",
       "  {'id': 10752, 'name': '전쟁'},\n",
       "  {'id': 37, 'name': '서부'}]}"
      ]
     },
     "execution_count": 13,
     "metadata": {},
     "output_type": "execute_result"
    }
   ],
   "source": [
    "# 1. 영화장르 정보 crawling 후 csv파일로 저장 \n",
    "\n",
    "genre_url=\"https://api.themoviedb.org/3/genre/movie/list?api_key=36927ad1d2817ff0fa31947e47d186fd&language=ko-KR\"\n",
    "response = requests.get(genre_url)\n",
    "json_object = response.content\n",
    "genre_data = json.loads(json_object)\n",
    "genre_data\n",
    "genre_data_df = pd.DataFrame(genre_data['genres'])\n",
    "\n",
    "#genre_data_df.to_csv(\"genre.csv\")"
   ]
  },
  {
   "cell_type": "code",
   "execution_count": 19,
   "metadata": {},
   "outputs": [],
   "source": [
    "# 2. mysql genre table에 영화 장르정보 삽입\n",
    "\n",
    "conn = pymysql.connect(host=\"localhost\",\n",
    "                       database=\"finalteam3\",\n",
    "                       user=\"kdigital\",\n",
    "                       password=\"mysql\",\n",
    "                       charset=\"utf8\")\n",
    "cursor = conn.cursor()\n",
    "\n",
    "cursor.execute('DELETE FROM genre')\n",
    "for id, name in genre_data_df.values:\n",
    "    # print(\"{0}/{1}\".format(id, name))\n",
    "    sql= \"INSERT INTO genre VALUES(%s, %s)\"\n",
    "    cursor.execute(sql, (id, name))\n",
    "\n",
    "conn.commit()\n",
    "cursor.close()\n",
    "conn.close()\n"
   ]
  }
 ],
 "metadata": {
  "interpreter": {
   "hash": "f2fcd694705e23828841e6436414841c9e0551977625b01a6a0c570cf77493f9"
  },
  "kernelspec": {
   "display_name": "Python 3.7.11 64-bit ('ykseo': conda)",
   "language": "python",
   "name": "python3"
  },
  "language_info": {
   "codemirror_mode": {
    "name": "ipython",
    "version": 3
   },
   "file_extension": ".py",
   "mimetype": "text/x-python",
   "name": "python",
   "nbconvert_exporter": "python",
   "pygments_lexer": "ipython3",
   "version": "3.7.11"
  },
  "orig_nbformat": 4
 },
 "nbformat": 4,
 "nbformat_minor": 2
}
