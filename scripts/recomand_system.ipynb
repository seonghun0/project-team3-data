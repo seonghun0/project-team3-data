{
 "cells": [
  {
   "cell_type": "code",
   "execution_count": 2,
   "metadata": {},
   "outputs": [],
   "source": [
    "import pandas as pd\n",
    "import numpy as np\n",
    "import os\n",
    "import pymysql"
   ]
  },
  {
   "cell_type": "code",
   "execution_count": 3,
   "metadata": {},
   "outputs": [],
   "source": [
    "# 1. connect\n",
    "conn = pymysql.connect(host=\"127.0.0.1\", port=3306, db='finalteam3', user=\"kdigital\", password=\"mysql\", charset=\"utf8\")\n",
    "\n",
    "# 2. get command object\n",
    "cursor = conn.cursor()\n",
    "\n",
    "# 3. execute command\n",
    "sql = \"\"\"select m.movie_id, vote_average, vote_count, popularity,title, mg.genre_id, g.name, m.posterpath\n",
    "         from movie m\n",
    "         join movie_genre mg on (m.movie_id = mg.movie_id)\n",
    "         join genre g on(g.genre_id = mg.genre_id)\n",
    "         where vote_count > 3\"\"\"\n",
    "cursor.execute(sql)\n",
    "\n",
    "# 4. close resource\n",
    "cursor.close()\n",
    "conn.close()"
   ]
  },
  {
   "cell_type": "code",
   "execution_count": 4,
   "metadata": {},
   "outputs": [],
   "source": [
    "rows = cursor.fetchall()\n",
    "movies = pd.DataFrame(rows, columns=['movie_id','vote_average','vote_count','popularity','title','genre_id','genre','posterpath'])"
   ]
  },
  {
   "cell_type": "code",
   "execution_count": 5,
   "metadata": {},
   "outputs": [
    {
     "name": "stdout",
     "output_type": "stream",
     "text": [
      "<class 'pandas.core.frame.DataFrame'>\n",
      "RangeIndex: 111337 entries, 0 to 111336\n",
      "Data columns (total 6 columns):\n",
      " #   Column        Non-Null Count   Dtype  \n",
      "---  ------        --------------   -----  \n",
      " 0   movie_id      111337 non-null  int64  \n",
      " 1   genre         111337 non-null  object \n",
      " 2   vote_count    111337 non-null  int64  \n",
      " 3   title         111337 non-null  object \n",
      " 4   vote_average  111337 non-null  float64\n",
      " 5   posterpath    111337 non-null  object \n",
      "dtypes: float64(1), int64(2), object(3)\n",
      "memory usage: 5.1+ MB\n"
     ]
    }
   ],
   "source": [
    "data = movies[['movie_id','genre','vote_count','title','vote_average','posterpath']]\n",
    "data.info()"
   ]
  },
  {
   "cell_type": "code",
   "execution_count": 6,
   "metadata": {},
   "outputs": [
    {
     "name": "stderr",
     "output_type": "stream",
     "text": [
      "/Users/parkseonghun/opt/miniconda3/envs/kdigital-busan/lib/python3.7/site-packages/ipykernel_launcher.py:1: SettingWithCopyWarning: \n",
      "A value is trying to be set on a copy of a slice from a DataFrame.\n",
      "Try using .loc[row_indexer,col_indexer] = value instead\n",
      "\n",
      "See the caveats in the documentation: https://pandas.pydata.org/pandas-docs/stable/user_guide/indexing.html#returning-a-view-versus-a-copy\n",
      "  \"\"\"Entry point for launching an IPython kernel.\n",
      "/Users/parkseonghun/opt/miniconda3/envs/kdigital-busan/lib/python3.7/site-packages/pandas/util/_decorators.py:311: SettingWithCopyWarning: \n",
      "A value is trying to be set on a copy of a slice from a DataFrame\n",
      "\n",
      "See the caveats in the documentation: https://pandas.pydata.org/pandas-docs/stable/user_guide/indexing.html#returning-a-view-versus-a-copy\n",
      "  return func(*args, **kwargs)\n",
      "/Users/parkseonghun/opt/miniconda3/envs/kdigital-busan/lib/python3.7/site-packages/ipykernel_launcher.py:3: SettingWithCopyWarning: \n",
      "A value is trying to be set on a copy of a slice from a DataFrame.\n",
      "Try using .loc[row_indexer,col_indexer] = value instead\n",
      "\n",
      "See the caveats in the documentation: https://pandas.pydata.org/pandas-docs/stable/user_guide/indexing.html#returning-a-view-versus-a-copy\n",
      "  This is separate from the ipykernel package so we can avoid doing imports until\n"
     ]
    },
    {
     "data": {
      "text/plain": [
       "(58389, 6)"
      ]
     },
     "execution_count": 6,
     "metadata": {},
     "output_type": "execute_result"
    }
   ],
   "source": [
    "data[\"genre\"] = data.groupby(by=[\"movie_id\", \"title\", \"vote_count\", \"vote_average\"])[\"genre\"].transform(lambda row: ','.join(row))\n",
    "data.drop_duplicates(inplace=True)\n",
    "data['genre'] = data['genre'].map(lambda sc : ','.join(np.unique(sc.split(','))))\n",
    "data.shape"
   ]
  },
  {
   "cell_type": "code",
   "execution_count": 7,
   "metadata": {},
   "outputs": [],
   "source": [
    "data = data.reset_index(drop=True)"
   ]
  },
  {
   "cell_type": "code",
   "execution_count": 8,
   "metadata": {},
   "outputs": [
    {
     "data": {
      "text/html": [
       "<div>\n",
       "<style scoped>\n",
       "    .dataframe tbody tr th:only-of-type {\n",
       "        vertical-align: middle;\n",
       "    }\n",
       "\n",
       "    .dataframe tbody tr th {\n",
       "        vertical-align: top;\n",
       "    }\n",
       "\n",
       "    .dataframe thead th {\n",
       "        text-align: right;\n",
       "    }\n",
       "</style>\n",
       "<table border=\"1\" class=\"dataframe\">\n",
       "  <thead>\n",
       "    <tr style=\"text-align: right;\">\n",
       "      <th></th>\n",
       "      <th>movie_id</th>\n",
       "      <th>genre</th>\n",
       "      <th>vote_count</th>\n",
       "      <th>title</th>\n",
       "      <th>vote_average</th>\n",
       "      <th>posterpath</th>\n",
       "    </tr>\n",
       "  </thead>\n",
       "  <tbody>\n",
       "    <tr>\n",
       "      <th>0</th>\n",
       "      <td>11</td>\n",
       "      <td>SF,모험,액션</td>\n",
       "      <td>16272</td>\n",
       "      <td>스타워즈: 에피소드 4 새로운 희망</td>\n",
       "      <td>8.2</td>\n",
       "      <td>/7XFfURIFCJxN1mfBg0SAjk5yGzg.jpg</td>\n",
       "    </tr>\n",
       "    <tr>\n",
       "      <th>1</th>\n",
       "      <td>18</td>\n",
       "      <td>SF,모험,스릴러,액션,판타지</td>\n",
       "      <td>8583</td>\n",
       "      <td>제5원소</td>\n",
       "      <td>7.5</td>\n",
       "      <td>/npcHgyp5MmKMe4lWqJi2ma1CuhC.jpg</td>\n",
       "    </tr>\n",
       "    <tr>\n",
       "      <th>2</th>\n",
       "      <td>22</td>\n",
       "      <td>모험,액션,판타지</td>\n",
       "      <td>16645</td>\n",
       "      <td>캐리비안의 해적: 블랙펄의 저주</td>\n",
       "      <td>7.8</td>\n",
       "      <td>/3ovejwQO4fKOWx4VgGBJeT8CKCn.jpg</td>\n",
       "    </tr>\n",
       "    <tr>\n",
       "      <th>3</th>\n",
       "      <td>58</td>\n",
       "      <td>모험,액션,판타지</td>\n",
       "      <td>12772</td>\n",
       "      <td>캐리비안의 해적: 망자의 함</td>\n",
       "      <td>7.3</td>\n",
       "      <td>/6tD4oT7C01aZLVfoZDz5VFVbJCi.jpg</td>\n",
       "    </tr>\n",
       "    <tr>\n",
       "      <th>4</th>\n",
       "      <td>62</td>\n",
       "      <td>SF,모험,미스터리</td>\n",
       "      <td>8862</td>\n",
       "      <td>2001 스페이스 오디세이</td>\n",
       "      <td>8.1</td>\n",
       "      <td>/fTzcVo738Ys88FPVG987TH4aJKt.jpg</td>\n",
       "    </tr>\n",
       "    <tr>\n",
       "      <th>...</th>\n",
       "      <td>...</td>\n",
       "      <td>...</td>\n",
       "      <td>...</td>\n",
       "      <td>...</td>\n",
       "      <td>...</td>\n",
       "      <td>...</td>\n",
       "    </tr>\n",
       "    <tr>\n",
       "      <th>58384</th>\n",
       "      <td>605045</td>\n",
       "      <td>TV 영화</td>\n",
       "      <td>9</td>\n",
       "      <td>Am I a Serial Killer?</td>\n",
       "      <td>6.2</td>\n",
       "      <td>/zycNjyjasWMK28PEfv6giK6oH1S.jpg</td>\n",
       "    </tr>\n",
       "    <tr>\n",
       "      <th>58385</th>\n",
       "      <td>632530</td>\n",
       "      <td>TV 영화</td>\n",
       "      <td>6</td>\n",
       "      <td>Return to Downton Abbey: A Grand Event</td>\n",
       "      <td>7.7</td>\n",
       "      <td>/5glPZtRz7KxpfMcohhlN7sRF1O1.jpg</td>\n",
       "    </tr>\n",
       "    <tr>\n",
       "      <th>58386</th>\n",
       "      <td>680989</td>\n",
       "      <td>TV 영화</td>\n",
       "      <td>6</td>\n",
       "      <td>Tutto il giorno davanti</td>\n",
       "      <td>6.5</td>\n",
       "      <td>/2uiSBsqv213EelC4ihIt2GZHC8s.jpg</td>\n",
       "    </tr>\n",
       "    <tr>\n",
       "      <th>58387</th>\n",
       "      <td>744945</td>\n",
       "      <td>TV 영화</td>\n",
       "      <td>8</td>\n",
       "      <td>Spotlight on Christmas</td>\n",
       "      <td>6.6</td>\n",
       "      <td>/n7VOErjeOwTz0YMiODDBUU74bTw.jpg</td>\n",
       "    </tr>\n",
       "    <tr>\n",
       "      <th>58388</th>\n",
       "      <td>759418</td>\n",
       "      <td>TV 영화</td>\n",
       "      <td>9</td>\n",
       "      <td>In Search of the Sanderson Sisters: A Hocus Po...</td>\n",
       "      <td>6.5</td>\n",
       "      <td>/py5f8qrq2sovVNnB0YtfzsJcGuL.jpg</td>\n",
       "    </tr>\n",
       "  </tbody>\n",
       "</table>\n",
       "<p>58389 rows × 6 columns</p>\n",
       "</div>"
      ],
      "text/plain": [
       "       movie_id             genre  vote_count  \\\n",
       "0            11          SF,모험,액션       16272   \n",
       "1            18  SF,모험,스릴러,액션,판타지        8583   \n",
       "2            22         모험,액션,판타지       16645   \n",
       "3            58         모험,액션,판타지       12772   \n",
       "4            62        SF,모험,미스터리        8862   \n",
       "...         ...               ...         ...   \n",
       "58384    605045             TV 영화           9   \n",
       "58385    632530             TV 영화           6   \n",
       "58386    680989             TV 영화           6   \n",
       "58387    744945             TV 영화           8   \n",
       "58388    759418             TV 영화           9   \n",
       "\n",
       "                                                   title  vote_average  \\\n",
       "0                                    스타워즈: 에피소드 4 새로운 희망           8.2   \n",
       "1                                                   제5원소           7.5   \n",
       "2                                      캐리비안의 해적: 블랙펄의 저주           7.8   \n",
       "3                                        캐리비안의 해적: 망자의 함           7.3   \n",
       "4                                         2001 스페이스 오디세이           8.1   \n",
       "...                                                  ...           ...   \n",
       "58384                              Am I a Serial Killer?           6.2   \n",
       "58385             Return to Downton Abbey: A Grand Event           7.7   \n",
       "58386                            Tutto il giorno davanti           6.5   \n",
       "58387                             Spotlight on Christmas           6.6   \n",
       "58388  In Search of the Sanderson Sisters: A Hocus Po...           6.5   \n",
       "\n",
       "                             posterpath  \n",
       "0      /7XFfURIFCJxN1mfBg0SAjk5yGzg.jpg  \n",
       "1      /npcHgyp5MmKMe4lWqJi2ma1CuhC.jpg  \n",
       "2      /3ovejwQO4fKOWx4VgGBJeT8CKCn.jpg  \n",
       "3      /6tD4oT7C01aZLVfoZDz5VFVbJCi.jpg  \n",
       "4      /fTzcVo738Ys88FPVG987TH4aJKt.jpg  \n",
       "...                                 ...  \n",
       "58384  /zycNjyjasWMK28PEfv6giK6oH1S.jpg  \n",
       "58385  /5glPZtRz7KxpfMcohhlN7sRF1O1.jpg  \n",
       "58386  /2uiSBsqv213EelC4ihIt2GZHC8s.jpg  \n",
       "58387  /n7VOErjeOwTz0YMiODDBUU74bTw.jpg  \n",
       "58388  /py5f8qrq2sovVNnB0YtfzsJcGuL.jpg  \n",
       "\n",
       "[58389 rows x 6 columns]"
      ]
     },
     "execution_count": 8,
     "metadata": {},
     "output_type": "execute_result"
    }
   ],
   "source": [
    "data"
   ]
  },
  {
   "cell_type": "code",
   "execution_count": 9,
   "metadata": {},
   "outputs": [
    {
     "name": "stdout",
     "output_type": "stream",
     "text": [
      "4.0\n"
     ]
    }
   ],
   "source": [
    "m = data['vote_count'].quantile(0)\n",
    "print(m)\n",
    "data = data.loc[data['vote_count']>= m]"
   ]
  },
  {
   "cell_type": "code",
   "execution_count": 10,
   "metadata": {},
   "outputs": [
    {
     "data": {
      "text/plain": [
       "(58389, 6)"
      ]
     },
     "execution_count": 10,
     "metadata": {},
     "output_type": "execute_result"
    }
   ],
   "source": [
    "data.shape"
   ]
  },
  {
   "cell_type": "code",
   "execution_count": 11,
   "metadata": {},
   "outputs": [
    {
     "name": "stdout",
     "output_type": "stream",
     "text": [
      "6.119085786706401\n"
     ]
    }
   ],
   "source": [
    "c = data['vote_average'].mean()\n",
    "print(c)"
   ]
  },
  {
   "cell_type": "code",
   "execution_count": 12,
   "metadata": {},
   "outputs": [],
   "source": [
    "def weight_rating(x, m=m, c=c):\n",
    "    v = x['vote_count']\n",
    "    r = x['vote_average']\n",
    "\n",
    "    return( v / (v+m) *r) + (m/(v+m)*c)"
   ]
  },
  {
   "cell_type": "code",
   "execution_count": 13,
   "metadata": {},
   "outputs": [],
   "source": [
    "data['score'] = data.apply(weight_rating, axis=1)"
   ]
  },
  {
   "cell_type": "code",
   "execution_count": 82,
   "metadata": {},
   "outputs": [
    {
     "data": {
      "text/html": [
       "<div>\n",
       "<style scoped>\n",
       "    .dataframe tbody tr th:only-of-type {\n",
       "        vertical-align: middle;\n",
       "    }\n",
       "\n",
       "    .dataframe tbody tr th {\n",
       "        vertical-align: top;\n",
       "    }\n",
       "\n",
       "    .dataframe thead th {\n",
       "        text-align: right;\n",
       "    }\n",
       "</style>\n",
       "<table border=\"1\" class=\"dataframe\">\n",
       "  <thead>\n",
       "    <tr style=\"text-align: right;\">\n",
       "      <th></th>\n",
       "      <th>movie_id</th>\n",
       "      <th>genre</th>\n",
       "      <th>vote_count</th>\n",
       "      <th>title</th>\n",
       "      <th>vote_average</th>\n",
       "      <th>score</th>\n",
       "    </tr>\n",
       "  </thead>\n",
       "  <tbody>\n",
       "    <tr>\n",
       "      <th>2677</th>\n",
       "      <td>497698</td>\n",
       "      <td>SF,모험,액션</td>\n",
       "      <td>6189</td>\n",
       "      <td>블랙 위도우</td>\n",
       "      <td>7.6</td>\n",
       "      <td>7.598652</td>\n",
       "    </tr>\n",
       "    <tr>\n",
       "      <th>35562</th>\n",
       "      <td>19345</td>\n",
       "      <td>미스터리,스릴러</td>\n",
       "      <td>137</td>\n",
       "      <td>블랙 위도우</td>\n",
       "      <td>6.1</td>\n",
       "      <td>6.104522</td>\n",
       "    </tr>\n",
       "  </tbody>\n",
       "</table>\n",
       "</div>"
      ],
      "text/plain": [
       "       movie_id     genre  vote_count   title  vote_average     score\n",
       "2677     497698  SF,모험,액션        6189  블랙 위도우           7.6  7.598652\n",
       "35562     19345  미스터리,스릴러         137  블랙 위도우           6.1  6.104522"
      ]
     },
     "execution_count": 82,
     "metadata": {},
     "output_type": "execute_result"
    }
   ],
   "source": [
    "data[data['title'] == '블랙 위도우']"
   ]
  },
  {
   "cell_type": "code",
   "execution_count": 14,
   "metadata": {},
   "outputs": [],
   "source": [
    "from sklearn.feature_extraction.text import CountVectorizer,TfidfTransformer"
   ]
  },
  {
   "cell_type": "code",
   "execution_count": 15,
   "metadata": {},
   "outputs": [],
   "source": [
    "counter = CountVectorizer(ngram_range=(1,3))"
   ]
  },
  {
   "cell_type": "code",
   "execution_count": 16,
   "metadata": {},
   "outputs": [],
   "source": [
    "data['genre']=data['genre'].astype(str)"
   ]
  },
  {
   "cell_type": "code",
   "execution_count": 17,
   "metadata": {},
   "outputs": [],
   "source": [
    "c_count_genres = counter.fit_transform(data['genre'])"
   ]
  },
  {
   "cell_type": "code",
   "execution_count": 18,
   "metadata": {},
   "outputs": [],
   "source": [
    "tfidf_transformer = TfidfTransformer()"
   ]
  },
  {
   "cell_type": "code",
   "execution_count": 19,
   "metadata": {},
   "outputs": [],
   "source": [
    "c_t_genres = tfidf_transformer.fit_transform(c_count_genres)"
   ]
  },
  {
   "cell_type": "code",
   "execution_count": 20,
   "metadata": {},
   "outputs": [
    {
     "data": {
      "text/plain": [
       "<58389x880 sparse matrix of type '<class 'numpy.float64'>'\n",
       "\twith 192709 stored elements in Compressed Sparse Row format>"
      ]
     },
     "execution_count": 20,
     "metadata": {},
     "output_type": "execute_result"
    }
   ],
   "source": [
    "c_t_genres"
   ]
  },
  {
   "cell_type": "code",
   "execution_count": 21,
   "metadata": {},
   "outputs": [
    {
     "name": "stdout",
     "output_type": "stream",
     "text": [
      "[[1.         0.3275978  0.34661957 ... 0.         0.         0.        ]\n",
      " [0.3275978  1.         0.32077943 ... 0.         0.         0.        ]\n",
      " [0.34661957 0.32077943 1.         ... 0.         0.         0.        ]\n",
      " ...\n",
      " [0.         0.         0.         ... 1.         1.         1.        ]\n",
      " [0.         0.         0.         ... 1.         1.         1.        ]\n",
      " [0.         0.         0.         ... 1.         1.         1.        ]]\n"
     ]
    }
   ],
   "source": [
    "from sklearn.metrics.pairwise import cosine_similarity\n",
    "\n",
    "similarity_genre = cosine_similarity(c_t_genres, c_t_genres)\n",
    "print(similarity_genre)"
   ]
  },
  {
   "cell_type": "code",
   "execution_count": 25,
   "metadata": {},
   "outputs": [],
   "source": [
    "similarity_genre=similarity_genre.argsort()[:,::-1]"
   ]
  },
  {
   "cell_type": "code",
   "execution_count": 26,
   "metadata": {},
   "outputs": [
    {
     "data": {
      "text/plain": [
       "dtype('int64')"
      ]
     },
     "execution_count": 26,
     "metadata": {},
     "output_type": "execute_result"
    }
   ],
   "source": [
    "similarity_genre.dtype"
   ]
  },
  {
   "cell_type": "code",
   "execution_count": 27,
   "metadata": {},
   "outputs": [],
   "source": [
    "def recommend_movie_list(df, movie_title, top=30):\n",
    "    # 특정영화 정보 뽑아내기\n",
    "    target_movie_index = df[df['movie_id'] == movie_title].index.values\n",
    "\n",
    "    # 타겟영화와 비슷한 코사인 유사도값\n",
    "    sim_index = similarity_genre[target_movie_index, :(top*2)].reshape(-1,1)\n",
    "    # 본인제외\n",
    "    sim_index = sim_index[sim_index != target_movie_index ]\n",
    "\n",
    "    # 추천결과 새로운 df생성, 평균평점(score)으로 정렬\n",
    "    result = df.iloc[sim_index].sort_values('score', ascending=False)[:top]\n",
    "\n",
    "    return result"
   ]
  },
  {
   "cell_type": "code",
   "execution_count": 28,
   "metadata": {},
   "outputs": [
    {
     "data": {
      "text/html": [
       "<div>\n",
       "<style scoped>\n",
       "    .dataframe tbody tr th:only-of-type {\n",
       "        vertical-align: middle;\n",
       "    }\n",
       "\n",
       "    .dataframe tbody tr th {\n",
       "        vertical-align: top;\n",
       "    }\n",
       "\n",
       "    .dataframe thead th {\n",
       "        text-align: right;\n",
       "    }\n",
       "</style>\n",
       "<table border=\"1\" class=\"dataframe\">\n",
       "  <thead>\n",
       "    <tr style=\"text-align: right;\">\n",
       "      <th></th>\n",
       "      <th>movie_id</th>\n",
       "      <th>genre</th>\n",
       "      <th>vote_count</th>\n",
       "      <th>title</th>\n",
       "      <th>vote_average</th>\n",
       "      <th>posterpath</th>\n",
       "      <th>score</th>\n",
       "    </tr>\n",
       "  </thead>\n",
       "  <tbody>\n",
       "    <tr>\n",
       "      <th>3964</th>\n",
       "      <td>8392</td>\n",
       "      <td>가족,애니메이션,판타지</td>\n",
       "      <td>5758</td>\n",
       "      <td>이웃집 토토로</td>\n",
       "      <td>8.1</td>\n",
       "      <td>/csiklRMzvXRLKtFcIlEDeEU7nWr.jpg</td>\n",
       "      <td>8.098625</td>\n",
       "    </tr>\n",
       "    <tr>\n",
       "      <th>5090</th>\n",
       "      <td>308141</td>\n",
       "      <td>가족,애니메이션,판타지</td>\n",
       "      <td>9</td>\n",
       "      <td>Sofia the First: The Curse of Princess Ivy</td>\n",
       "      <td>8.9</td>\n",
       "      <td>/nre6FTGVmb4fnsWgzJfjDnI0omN.jpg</td>\n",
       "      <td>8.044334</td>\n",
       "    </tr>\n",
       "    <tr>\n",
       "      <th>4001</th>\n",
       "      <td>9479</td>\n",
       "      <td>가족,애니메이션,판타지</td>\n",
       "      <td>7136</td>\n",
       "      <td>팀버튼의 크리스마스 악몽</td>\n",
       "      <td>7.8</td>\n",
       "      <td>/aWUy907W9OtypP3iWO3wWvu4641.jpg</td>\n",
       "      <td>7.799058</td>\n",
       "    </tr>\n",
       "    <tr>\n",
       "      <th>4215</th>\n",
       "      <td>14836</td>\n",
       "      <td>가족,애니메이션,판타지</td>\n",
       "      <td>5378</td>\n",
       "      <td>코렐라인: 비밀의 문</td>\n",
       "      <td>7.8</td>\n",
       "      <td>/iGp4wBc0ZBVFd2HPicyDgl6Pn1r.jpg</td>\n",
       "      <td>7.798751</td>\n",
       "    </tr>\n",
       "    <tr>\n",
       "      <th>4447</th>\n",
       "      <td>167666</td>\n",
       "      <td>가족,애니메이션,판타지</td>\n",
       "      <td>66</td>\n",
       "      <td>Monster High: Escape from Skull Shores</td>\n",
       "      <td>7.9</td>\n",
       "      <td>/ddyQjIlKdBtw7kWQ6lZofxOCIJU.jpg</td>\n",
       "      <td>7.798233</td>\n",
       "    </tr>\n",
       "    <tr>\n",
       "      <th>4127</th>\n",
       "      <td>12429</td>\n",
       "      <td>가족,애니메이션,판타지</td>\n",
       "      <td>2999</td>\n",
       "      <td>벼랑 위의 포뇨</td>\n",
       "      <td>7.7</td>\n",
       "      <td>/gDT5xMYTLCJdLaUMJTqqfEfvSsD.jpg</td>\n",
       "      <td>7.697894</td>\n",
       "    </tr>\n",
       "    <tr>\n",
       "      <th>5873</th>\n",
       "      <td>708352</td>\n",
       "      <td>가족,애니메이션,판타지</td>\n",
       "      <td>36</td>\n",
       "      <td>매직 스쿨: 초보마법사 아우라의 대모험</td>\n",
       "      <td>7.8</td>\n",
       "      <td>/9B10tJ9LrvzcYaMQdx6yyovszzN.jpg</td>\n",
       "      <td>7.631909</td>\n",
       "    </tr>\n",
       "    <tr>\n",
       "      <th>5535</th>\n",
       "      <td>505832</td>\n",
       "      <td>가족,애니메이션,판타지</td>\n",
       "      <td>36</td>\n",
       "      <td>마이 리틀 포니: 이퀘스트리아 걸스 - 잊혀진 우정</td>\n",
       "      <td>7.8</td>\n",
       "      <td>/dY7pdaPfbTnJnfnZBjRFprgRuUn.jpg</td>\n",
       "      <td>7.631909</td>\n",
       "    </tr>\n",
       "    <tr>\n",
       "      <th>5553</th>\n",
       "      <td>514754</td>\n",
       "      <td>가족,애니메이션,판타지</td>\n",
       "      <td>855</td>\n",
       "      <td>바오</td>\n",
       "      <td>7.6</td>\n",
       "      <td>/2KGopAhzzRzu7OENSWp8hqKTlnT.jpg</td>\n",
       "      <td>7.593104</td>\n",
       "    </tr>\n",
       "    <tr>\n",
       "      <th>4033</th>\n",
       "      <td>10144</td>\n",
       "      <td>가족,애니메이션,판타지</td>\n",
       "      <td>6171</td>\n",
       "      <td>인어공주</td>\n",
       "      <td>7.4</td>\n",
       "      <td>/87RIt2AnjMe3QhxzhusolKJGgS2.jpg</td>\n",
       "      <td>7.399170</td>\n",
       "    </tr>\n",
       "    <tr>\n",
       "      <th>4416</th>\n",
       "      <td>160425</td>\n",
       "      <td>가족,애니메이션,판타지</td>\n",
       "      <td>15</td>\n",
       "      <td>Кот в сапогах</td>\n",
       "      <td>7.7</td>\n",
       "      <td>/ySz84uT3L8vFNoygEPsZwYSW0ou.jpg</td>\n",
       "      <td>7.367176</td>\n",
       "    </tr>\n",
       "    <tr>\n",
       "      <th>5149</th>\n",
       "      <td>324963</td>\n",
       "      <td>가족,애니메이션,판타지</td>\n",
       "      <td>126</td>\n",
       "      <td>Monster High: Haunted</td>\n",
       "      <td>7.4</td>\n",
       "      <td>/jvwpfW0xRt2pQGD5tJbqmkc9STb.jpg</td>\n",
       "      <td>7.360587</td>\n",
       "    </tr>\n",
       "    <tr>\n",
       "      <th>4651</th>\n",
       "      <td>198916</td>\n",
       "      <td>가족,애니메이션,판타지</td>\n",
       "      <td>14</td>\n",
       "      <td>Алиса в Зазеркалье</td>\n",
       "      <td>7.5</td>\n",
       "      <td>/nGwBpnEW38I1NO0aLC2TSfrlfPV.jpg</td>\n",
       "      <td>7.193130</td>\n",
       "    </tr>\n",
       "    <tr>\n",
       "      <th>5706</th>\n",
       "      <td>574091</td>\n",
       "      <td>가족,애니메이션,판타지</td>\n",
       "      <td>76</td>\n",
       "      <td>Wind</td>\n",
       "      <td>7.2</td>\n",
       "      <td>/eCQOiAWjXmRPlktXFEu4vt22Kz2.jpg</td>\n",
       "      <td>7.145954</td>\n",
       "    </tr>\n",
       "    <tr>\n",
       "      <th>5881</th>\n",
       "      <td>718100</td>\n",
       "      <td>가족,애니메이션,판타지</td>\n",
       "      <td>22</td>\n",
       "      <td>백조 공주: 왕실 결혼식</td>\n",
       "      <td>7.3</td>\n",
       "      <td>/mJaNBADFKRiMys8DiGemrLGYd9U.jpg</td>\n",
       "      <td>7.118321</td>\n",
       "    </tr>\n",
       "    <tr>\n",
       "      <th>5075</th>\n",
       "      <td>302119</td>\n",
       "      <td>가족,애니메이션,판타지</td>\n",
       "      <td>4</td>\n",
       "      <td>Sofia The First: Holiday In Enchancia</td>\n",
       "      <td>8.0</td>\n",
       "      <td></td>\n",
       "      <td>7.059543</td>\n",
       "    </tr>\n",
       "    <tr>\n",
       "      <th>4905</th>\n",
       "      <td>260234</td>\n",
       "      <td>가족,애니메이션,판타지</td>\n",
       "      <td>89</td>\n",
       "      <td>Monster High: Frights, Camera, Action!</td>\n",
       "      <td>7.1</td>\n",
       "      <td>/kGlTFeilg6RtyYi86kRQRml8CRG.jpg</td>\n",
       "      <td>7.057810</td>\n",
       "    </tr>\n",
       "    <tr>\n",
       "      <th>5601</th>\n",
       "      <td>532293</td>\n",
       "      <td>가족,애니메이션,판타지</td>\n",
       "      <td>4</td>\n",
       "      <td>프린세스 에미: 마법 책의 비밀</td>\n",
       "      <td>7.9</td>\n",
       "      <td>/wkiTMRhrG6OyUIudMB5EPgEqWuV.jpg</td>\n",
       "      <td>7.009543</td>\n",
       "    </tr>\n",
       "    <tr>\n",
       "      <th>4608</th>\n",
       "      <td>196254</td>\n",
       "      <td>가족,애니메이션,판타지</td>\n",
       "      <td>230</td>\n",
       "      <td>바비 마리포사와 요정공주</td>\n",
       "      <td>7.0</td>\n",
       "      <td>/aUVd4itaF4mDFgld99wMIihjUK7.jpg</td>\n",
       "      <td>6.984942</td>\n",
       "    </tr>\n",
       "    <tr>\n",
       "      <th>4959</th>\n",
       "      <td>273953</td>\n",
       "      <td>가족,애니메이션,판타지</td>\n",
       "      <td>6</td>\n",
       "      <td>В стране невыученных уроков</td>\n",
       "      <td>7.5</td>\n",
       "      <td>/o1M425lDBF2NRIsKGzoQfdP1j7K.jpg</td>\n",
       "      <td>6.947634</td>\n",
       "    </tr>\n",
       "    <tr>\n",
       "      <th>4937</th>\n",
       "      <td>266775</td>\n",
       "      <td>가족,애니메이션,판타지</td>\n",
       "      <td>54</td>\n",
       "      <td>Sofia the First: The Floating Palace</td>\n",
       "      <td>7.0</td>\n",
       "      <td>/5k7JFHUFxhx0rDftXRPtBMkgU21.jpg</td>\n",
       "      <td>6.939247</td>\n",
       "    </tr>\n",
       "    <tr>\n",
       "      <th>4203</th>\n",
       "      <td>14492</td>\n",
       "      <td>가족,애니메이션,판타지</td>\n",
       "      <td>19</td>\n",
       "      <td>The Princess and the Pea</td>\n",
       "      <td>7.1</td>\n",
       "      <td>/26ySDoMdYeTzowVEJFObuWbqosX.jpg</td>\n",
       "      <td>6.929406</td>\n",
       "    </tr>\n",
       "    <tr>\n",
       "      <th>5738</th>\n",
       "      <td>589972</td>\n",
       "      <td>가족,애니메이션,판타지</td>\n",
       "      <td>17</td>\n",
       "      <td>Petit Vampire</td>\n",
       "      <td>7.1</td>\n",
       "      <td>/c5GjUfhZHda5A7QqszonFyA4xqH.jpg</td>\n",
       "      <td>6.913159</td>\n",
       "    </tr>\n",
       "    <tr>\n",
       "      <th>5085</th>\n",
       "      <td>306041</td>\n",
       "      <td>가족,애니메이션,판타지</td>\n",
       "      <td>7</td>\n",
       "      <td>Каштанка</td>\n",
       "      <td>7.3</td>\n",
       "      <td>/nvV5hN2zwH5STgXDrk6Q7vy5KH6.jpg</td>\n",
       "      <td>6.870577</td>\n",
       "    </tr>\n",
       "    <tr>\n",
       "      <th>5374</th>\n",
       "      <td>378112</td>\n",
       "      <td>가족,애니메이션,판타지</td>\n",
       "      <td>100</td>\n",
       "      <td>빅 위시</td>\n",
       "      <td>6.9</td>\n",
       "      <td>/557NpM8FzVu1OiS0DwK8jowYCKb.jpg</td>\n",
       "      <td>6.869965</td>\n",
       "    </tr>\n",
       "    <tr>\n",
       "      <th>5913</th>\n",
       "      <td>758209</td>\n",
       "      <td>가족,애니메이션,판타지</td>\n",
       "      <td>6</td>\n",
       "      <td>Elfland</td>\n",
       "      <td>7.3</td>\n",
       "      <td>/acABBdTHQW5q578B20JeK5obOYK.jpg</td>\n",
       "      <td>6.827634</td>\n",
       "    </tr>\n",
       "    <tr>\n",
       "      <th>4438</th>\n",
       "      <td>165644</td>\n",
       "      <td>가족,애니메이션,판타지</td>\n",
       "      <td>7</td>\n",
       "      <td>くるみ割り人形</td>\n",
       "      <td>7.1</td>\n",
       "      <td>/b1iEPZuv6vRqqfiZ8qXqKa9KyDL.jpg</td>\n",
       "      <td>6.743304</td>\n",
       "    </tr>\n",
       "    <tr>\n",
       "      <th>4300</th>\n",
       "      <td>18198</td>\n",
       "      <td>가족,애니메이션,판타지</td>\n",
       "      <td>379</td>\n",
       "      <td>Barbie Mariposa</td>\n",
       "      <td>6.7</td>\n",
       "      <td>/qsb1OQCNVMAX3KRT6xhKOl3mM6P.jpg</td>\n",
       "      <td>6.693933</td>\n",
       "    </tr>\n",
       "    <tr>\n",
       "      <th>4298</th>\n",
       "      <td>18095</td>\n",
       "      <td>가족,애니메이션,판타지</td>\n",
       "      <td>209</td>\n",
       "      <td>ドラゴンボールGT 悟空外伝! 勇気の証しは四星球(スーシンチュウ)</td>\n",
       "      <td>6.7</td>\n",
       "      <td>/reNPMjkPg9f6wgf6kHSSkKjBarL.jpg</td>\n",
       "      <td>6.689091</td>\n",
       "    </tr>\n",
       "    <tr>\n",
       "      <th>5827</th>\n",
       "      <td>656561</td>\n",
       "      <td>가족,애니메이션,판타지</td>\n",
       "      <td>89</td>\n",
       "      <td>에일리언 X-마스</td>\n",
       "      <td>6.7</td>\n",
       "      <td>/3UGrAX6D1AMVra80jmUMUOLq8Qr.jpg</td>\n",
       "      <td>6.675014</td>\n",
       "    </tr>\n",
       "  </tbody>\n",
       "</table>\n",
       "</div>"
      ],
      "text/plain": [
       "      movie_id         genre  vote_count  \\\n",
       "3964      8392  가족,애니메이션,판타지        5758   \n",
       "5090    308141  가족,애니메이션,판타지           9   \n",
       "4001      9479  가족,애니메이션,판타지        7136   \n",
       "4215     14836  가족,애니메이션,판타지        5378   \n",
       "4447    167666  가족,애니메이션,판타지          66   \n",
       "4127     12429  가족,애니메이션,판타지        2999   \n",
       "5873    708352  가족,애니메이션,판타지          36   \n",
       "5535    505832  가족,애니메이션,판타지          36   \n",
       "5553    514754  가족,애니메이션,판타지         855   \n",
       "4033     10144  가족,애니메이션,판타지        6171   \n",
       "4416    160425  가족,애니메이션,판타지          15   \n",
       "5149    324963  가족,애니메이션,판타지         126   \n",
       "4651    198916  가족,애니메이션,판타지          14   \n",
       "5706    574091  가족,애니메이션,판타지          76   \n",
       "5881    718100  가족,애니메이션,판타지          22   \n",
       "5075    302119  가족,애니메이션,판타지           4   \n",
       "4905    260234  가족,애니메이션,판타지          89   \n",
       "5601    532293  가족,애니메이션,판타지           4   \n",
       "4608    196254  가족,애니메이션,판타지         230   \n",
       "4959    273953  가족,애니메이션,판타지           6   \n",
       "4937    266775  가족,애니메이션,판타지          54   \n",
       "4203     14492  가족,애니메이션,판타지          19   \n",
       "5738    589972  가족,애니메이션,판타지          17   \n",
       "5085    306041  가족,애니메이션,판타지           7   \n",
       "5374    378112  가족,애니메이션,판타지         100   \n",
       "5913    758209  가족,애니메이션,판타지           6   \n",
       "4438    165644  가족,애니메이션,판타지           7   \n",
       "4300     18198  가족,애니메이션,판타지         379   \n",
       "4298     18095  가족,애니메이션,판타지         209   \n",
       "5827    656561  가족,애니메이션,판타지          89   \n",
       "\n",
       "                                           title  vote_average  \\\n",
       "3964                                     이웃집 토토로           8.1   \n",
       "5090  Sofia the First: The Curse of Princess Ivy           8.9   \n",
       "4001                               팀버튼의 크리스마스 악몽           7.8   \n",
       "4215                                 코렐라인: 비밀의 문           7.8   \n",
       "4447      Monster High: Escape from Skull Shores           7.9   \n",
       "4127                                    벼랑 위의 포뇨           7.7   \n",
       "5873                       매직 스쿨: 초보마법사 아우라의 대모험           7.8   \n",
       "5535                마이 리틀 포니: 이퀘스트리아 걸스 - 잊혀진 우정           7.8   \n",
       "5553                                          바오           7.6   \n",
       "4033                                        인어공주           7.4   \n",
       "4416                               Кот в сапогах           7.7   \n",
       "5149                       Monster High: Haunted           7.4   \n",
       "4651                          Алиса в Зазеркалье           7.5   \n",
       "5706                                        Wind           7.2   \n",
       "5881                               백조 공주: 왕실 결혼식           7.3   \n",
       "5075       Sofia The First: Holiday In Enchancia           8.0   \n",
       "4905      Monster High: Frights, Camera, Action!           7.1   \n",
       "5601                           프린세스 에미: 마법 책의 비밀           7.9   \n",
       "4608                               바비 마리포사와 요정공주           7.0   \n",
       "4959                 В стране невыученных уроков           7.5   \n",
       "4937        Sofia the First: The Floating Palace           7.0   \n",
       "4203                    The Princess and the Pea           7.1   \n",
       "5738                               Petit Vampire           7.1   \n",
       "5085                                    Каштанка           7.3   \n",
       "5374                                        빅 위시           6.9   \n",
       "5913                                     Elfland           7.3   \n",
       "4438                                     くるみ割り人形           7.1   \n",
       "4300                             Barbie Mariposa           6.7   \n",
       "4298          ドラゴンボールGT 悟空外伝! 勇気の証しは四星球(スーシンチュウ)           6.7   \n",
       "5827                                   에일리언 X-마스           6.7   \n",
       "\n",
       "                            posterpath     score  \n",
       "3964  /csiklRMzvXRLKtFcIlEDeEU7nWr.jpg  8.098625  \n",
       "5090  /nre6FTGVmb4fnsWgzJfjDnI0omN.jpg  8.044334  \n",
       "4001  /aWUy907W9OtypP3iWO3wWvu4641.jpg  7.799058  \n",
       "4215  /iGp4wBc0ZBVFd2HPicyDgl6Pn1r.jpg  7.798751  \n",
       "4447  /ddyQjIlKdBtw7kWQ6lZofxOCIJU.jpg  7.798233  \n",
       "4127  /gDT5xMYTLCJdLaUMJTqqfEfvSsD.jpg  7.697894  \n",
       "5873  /9B10tJ9LrvzcYaMQdx6yyovszzN.jpg  7.631909  \n",
       "5535  /dY7pdaPfbTnJnfnZBjRFprgRuUn.jpg  7.631909  \n",
       "5553  /2KGopAhzzRzu7OENSWp8hqKTlnT.jpg  7.593104  \n",
       "4033  /87RIt2AnjMe3QhxzhusolKJGgS2.jpg  7.399170  \n",
       "4416  /ySz84uT3L8vFNoygEPsZwYSW0ou.jpg  7.367176  \n",
       "5149  /jvwpfW0xRt2pQGD5tJbqmkc9STb.jpg  7.360587  \n",
       "4651  /nGwBpnEW38I1NO0aLC2TSfrlfPV.jpg  7.193130  \n",
       "5706  /eCQOiAWjXmRPlktXFEu4vt22Kz2.jpg  7.145954  \n",
       "5881  /mJaNBADFKRiMys8DiGemrLGYd9U.jpg  7.118321  \n",
       "5075                                    7.059543  \n",
       "4905  /kGlTFeilg6RtyYi86kRQRml8CRG.jpg  7.057810  \n",
       "5601  /wkiTMRhrG6OyUIudMB5EPgEqWuV.jpg  7.009543  \n",
       "4608  /aUVd4itaF4mDFgld99wMIihjUK7.jpg  6.984942  \n",
       "4959  /o1M425lDBF2NRIsKGzoQfdP1j7K.jpg  6.947634  \n",
       "4937  /5k7JFHUFxhx0rDftXRPtBMkgU21.jpg  6.939247  \n",
       "4203  /26ySDoMdYeTzowVEJFObuWbqosX.jpg  6.929406  \n",
       "5738  /c5GjUfhZHda5A7QqszonFyA4xqH.jpg  6.913159  \n",
       "5085  /nvV5hN2zwH5STgXDrk6Q7vy5KH6.jpg  6.870577  \n",
       "5374  /557NpM8FzVu1OiS0DwK8jowYCKb.jpg  6.869965  \n",
       "5913  /acABBdTHQW5q578B20JeK5obOYK.jpg  6.827634  \n",
       "4438  /b1iEPZuv6vRqqfiZ8qXqKa9KyDL.jpg  6.743304  \n",
       "4300  /qsb1OQCNVMAX3KRT6xhKOl3mM6P.jpg  6.693933  \n",
       "4298  /reNPMjkPg9f6wgf6kHSSkKjBarL.jpg  6.689091  \n",
       "5827  /3UGrAX6D1AMVra80jmUMUOLq8Qr.jpg  6.675014  "
      ]
     },
     "execution_count": 28,
     "metadata": {},
     "output_type": "execute_result"
    }
   ],
   "source": [
    "recommend_movie_list(data, 129)"
   ]
  },
  {
   "cell_type": "code",
   "execution_count": 46,
   "metadata": {},
   "outputs": [],
   "source": [
    "import pickle\n",
    "with open('similarity_genre2.pickle', \"wb\") as f:\n",
    "        pickle.dump(similarity_genre2, f, protocol=4)"
   ]
  },
  {
   "cell_type": "code",
   "execution_count": 28,
   "metadata": {},
   "outputs": [],
   "source": [
    "\n",
    "with open('../flask-api-server/modules/similarity_genre.pickle', \"wb\") as f:\n",
    "        similarity_genre = pickle.load(f)\n",
    "\n"
   ]
  },
  {
   "cell_type": "code",
   "execution_count": 29,
   "metadata": {},
   "outputs": [
    {
     "data": {
      "text/plain": [
       "numpy.ndarray"
      ]
     },
     "execution_count": 29,
     "metadata": {},
     "output_type": "execute_result"
    }
   ],
   "source": [
    "type(similarity_genre)"
   ]
  },
  {
   "cell_type": "code",
   "execution_count": 30,
   "metadata": {},
   "outputs": [
    {
     "data": {
      "text/plain": [
       "0"
      ]
     },
     "execution_count": 30,
     "metadata": {},
     "output_type": "execute_result"
    }
   ],
   "source": [
    "similarity_genre[0,0]"
   ]
  },
  {
   "cell_type": "code",
   "execution_count": 31,
   "metadata": {},
   "outputs": [],
   "source": [
    "with open('../flask-api-server/modules/movie_data.pickle', \"rb\") as f:\n",
    "    data = pickle.load(f)"
   ]
  },
  {
   "cell_type": "code",
   "execution_count": 32,
   "metadata": {},
   "outputs": [
    {
     "data": {
      "text/plain": [
       "(42022, 6)"
      ]
     },
     "execution_count": 32,
     "metadata": {},
     "output_type": "execute_result"
    }
   ],
   "source": [
    "data.shape"
   ]
  },
  {
   "cell_type": "code",
   "execution_count": 33,
   "metadata": {},
   "outputs": [
    {
     "data": {
      "text/plain": [
       "Int64Index([    0,     3,     5,     7,    10,    11,    12,    15,    17,\n",
       "               20,\n",
       "            ...\n",
       "            84552, 84553, 84555, 84557, 84559, 84561, 84562, 84563, 84564,\n",
       "            84566],\n",
       "           dtype='int64', length=42022)"
      ]
     },
     "execution_count": 33,
     "metadata": {},
     "output_type": "execute_result"
    }
   ],
   "source": [
    "data.index"
   ]
  },
  {
   "cell_type": "code",
   "execution_count": 34,
   "metadata": {},
   "outputs": [
    {
     "data": {
      "text/html": [
       "<div>\n",
       "<style scoped>\n",
       "    .dataframe tbody tr th:only-of-type {\n",
       "        vertical-align: middle;\n",
       "    }\n",
       "\n",
       "    .dataframe tbody tr th {\n",
       "        vertical-align: top;\n",
       "    }\n",
       "\n",
       "    .dataframe thead th {\n",
       "        text-align: right;\n",
       "    }\n",
       "</style>\n",
       "<table border=\"1\" class=\"dataframe\">\n",
       "  <thead>\n",
       "    <tr style=\"text-align: right;\">\n",
       "      <th></th>\n",
       "      <th>movie_id</th>\n",
       "      <th>genre</th>\n",
       "      <th>vote_count</th>\n",
       "      <th>title</th>\n",
       "      <th>vote_average</th>\n",
       "      <th>score</th>\n",
       "    </tr>\n",
       "  </thead>\n",
       "  <tbody>\n",
       "    <tr>\n",
       "      <th>0</th>\n",
       "      <td>2</td>\n",
       "      <td>드라마,범죄,코미디</td>\n",
       "      <td>150</td>\n",
       "      <td>아리엘</td>\n",
       "      <td>6.9</td>\n",
       "      <td>6.873374</td>\n",
       "    </tr>\n",
       "    <tr>\n",
       "      <th>3</th>\n",
       "      <td>3</td>\n",
       "      <td>드라마,코미디</td>\n",
       "      <td>149</td>\n",
       "      <td>천국의 그림자</td>\n",
       "      <td>7.2</td>\n",
       "      <td>7.161589</td>\n",
       "    </tr>\n",
       "    <tr>\n",
       "      <th>5</th>\n",
       "      <td>5</td>\n",
       "      <td>범죄,코미디</td>\n",
       "      <td>2035</td>\n",
       "      <td>포룸</td>\n",
       "      <td>5.7</td>\n",
       "      <td>5.701493</td>\n",
       "    </tr>\n",
       "    <tr>\n",
       "      <th>7</th>\n",
       "      <td>6</td>\n",
       "      <td>범죄,스릴러,액션</td>\n",
       "      <td>215</td>\n",
       "      <td>킬러 나이트</td>\n",
       "      <td>6.5</td>\n",
       "      <td>6.492065</td>\n",
       "    </tr>\n",
       "    <tr>\n",
       "      <th>10</th>\n",
       "      <td>8</td>\n",
       "      <td>다큐멘터리</td>\n",
       "      <td>18</td>\n",
       "      <td>Life in Loops (A Megacities RMX)</td>\n",
       "      <td>7.5</td>\n",
       "      <td>7.176931</td>\n",
       "    </tr>\n",
       "  </tbody>\n",
       "</table>\n",
       "</div>"
      ],
      "text/plain": [
       "    movie_id       genre  vote_count                             title  \\\n",
       "0          2  드라마,범죄,코미디         150                               아리엘   \n",
       "3          3     드라마,코미디         149                           천국의 그림자   \n",
       "5          5      범죄,코미디        2035                                포룸   \n",
       "7          6   범죄,스릴러,액션         215                            킬러 나이트   \n",
       "10         8       다큐멘터리          18  Life in Loops (A Megacities RMX)   \n",
       "\n",
       "    vote_average     score  \n",
       "0            6.9  6.873374  \n",
       "3            7.2  7.161589  \n",
       "5            5.7  5.701493  \n",
       "7            6.5  6.492065  \n",
       "10           7.5  7.176931  "
      ]
     },
     "execution_count": 34,
     "metadata": {},
     "output_type": "execute_result"
    }
   ],
   "source": [
    "data.head()"
   ]
  },
  {
   "cell_type": "code",
   "execution_count": 35,
   "metadata": {},
   "outputs": [],
   "source": [
    "data = data.reset_index(drop=True)"
   ]
  },
  {
   "cell_type": "code",
   "execution_count": 36,
   "metadata": {},
   "outputs": [
    {
     "data": {
      "text/plain": [
       "array([28787])"
      ]
     },
     "execution_count": 36,
     "metadata": {},
     "output_type": "execute_result"
    }
   ],
   "source": [
    "target_movie_index = data[data['movie_id'] == 363088].index.values\n",
    "target_movie_index"
   ]
  }
 ],
 "metadata": {
  "interpreter": {
   "hash": "dfc1d8b9e40561b450c0b6847750c6fdfeb99218189e9277504933eee44f7507"
  },
  "kernelspec": {
   "display_name": "Python 3.7.11 64-bit ('kdigital-busan': conda)",
   "language": "python",
   "name": "python3"
  },
  "language_info": {
   "codemirror_mode": {
    "name": "ipython",
    "version": 3
   },
   "file_extension": ".py",
   "mimetype": "text/x-python",
   "name": "python",
   "nbconvert_exporter": "python",
   "pygments_lexer": "ipython3",
   "version": "3.7.11"
  },
  "orig_nbformat": 4
 },
 "nbformat": 4,
 "nbformat_minor": 2
}
