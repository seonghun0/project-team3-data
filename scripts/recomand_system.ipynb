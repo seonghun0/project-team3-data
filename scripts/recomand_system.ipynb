{
 "cells": [
  {
   "cell_type": "code",
   "execution_count": 13,
   "metadata": {},
   "outputs": [],
   "source": [
    "import pandas as pd\n",
    "import numpy as np\n",
    "import os\n",
    "import pymysql"
   ]
  },
  {
   "cell_type": "code",
   "execution_count": 40,
   "metadata": {},
   "outputs": [],
   "source": [
    "# 1. connect\n",
    "conn = pymysql.connect(host=\"127.0.0.1\", port=3306, db='finalteam3', user=\"kdigital\", password=\"mysql\", charset=\"utf8\")\n",
    "\n",
    "# 2. get command object\n",
    "cursor = conn.cursor()\n",
    "\n",
    "# 3. execute command\n",
    "sql = \"\"\"select m.movie_id, vote_average, vote_count, popularity,title, mg.genre_id, g.name\n",
    "         from movie m\n",
    "         join movie_genre mg on (m.movie_id = mg.movie_id)\n",
    "         join genre g on(g.genre_id = mg.genre_id)\n",
    "         where vote_count > 5\"\"\"\n",
    "cursor.execute(sql)\n",
    "    \n",
    "    # break\n",
    "\n",
    "conn.commit() # confirm previous execution\n",
    "\n",
    "# 4. close resource\n",
    "cursor.close()\n",
    "conn.close()"
   ]
  },
  {
   "cell_type": "code",
   "execution_count": 41,
   "metadata": {},
   "outputs": [],
   "source": [
    "movies = []\n",
    "movies.append(cursor.fetchall())"
   ]
  },
  {
   "cell_type": "code",
   "execution_count": 42,
   "metadata": {},
   "outputs": [],
   "source": [
    "m2 = []\n",
    "for m in movies:\n",
    "    for a in m:\n",
    "        m2.append(a)"
   ]
  },
  {
   "cell_type": "code",
   "execution_count": 43,
   "metadata": {},
   "outputs": [],
   "source": [
    "df = pd.DataFrame(m2)"
   ]
  },
  {
   "cell_type": "code",
   "execution_count": 44,
   "metadata": {},
   "outputs": [
    {
     "data": {
      "text/html": [
       "<div>\n",
       "<style scoped>\n",
       "    .dataframe tbody tr th:only-of-type {\n",
       "        vertical-align: middle;\n",
       "    }\n",
       "\n",
       "    .dataframe tbody tr th {\n",
       "        vertical-align: top;\n",
       "    }\n",
       "\n",
       "    .dataframe thead th {\n",
       "        text-align: right;\n",
       "    }\n",
       "</style>\n",
       "<table border=\"1\" class=\"dataframe\">\n",
       "  <thead>\n",
       "    <tr style=\"text-align: right;\">\n",
       "      <th></th>\n",
       "      <th>0</th>\n",
       "      <th>1</th>\n",
       "      <th>2</th>\n",
       "      <th>3</th>\n",
       "      <th>4</th>\n",
       "      <th>5</th>\n",
       "      <th>6</th>\n",
       "    </tr>\n",
       "  </thead>\n",
       "  <tbody>\n",
       "    <tr>\n",
       "      <th>0</th>\n",
       "      <td>11</td>\n",
       "      <td>8.2</td>\n",
       "      <td>16272</td>\n",
       "      <td>62</td>\n",
       "      <td>스타워즈: 에피소드 4 새로운 희망</td>\n",
       "      <td>12</td>\n",
       "      <td>모험</td>\n",
       "    </tr>\n",
       "    <tr>\n",
       "      <th>1</th>\n",
       "      <td>18</td>\n",
       "      <td>7.5</td>\n",
       "      <td>8583</td>\n",
       "      <td>30</td>\n",
       "      <td>제5원소</td>\n",
       "      <td>12</td>\n",
       "      <td>모험</td>\n",
       "    </tr>\n",
       "    <tr>\n",
       "      <th>2</th>\n",
       "      <td>22</td>\n",
       "      <td>7.8</td>\n",
       "      <td>16645</td>\n",
       "      <td>85</td>\n",
       "      <td>캐리비안의 해적: 블랙펄의 저주</td>\n",
       "      <td>12</td>\n",
       "      <td>모험</td>\n",
       "    </tr>\n",
       "    <tr>\n",
       "      <th>3</th>\n",
       "      <td>58</td>\n",
       "      <td>7.3</td>\n",
       "      <td>12772</td>\n",
       "      <td>80</td>\n",
       "      <td>캐리비안의 해적: 망자의 함</td>\n",
       "      <td>12</td>\n",
       "      <td>모험</td>\n",
       "    </tr>\n",
       "    <tr>\n",
       "      <th>4</th>\n",
       "      <td>62</td>\n",
       "      <td>8.1</td>\n",
       "      <td>8862</td>\n",
       "      <td>29</td>\n",
       "      <td>2001 스페이스 오디세이</td>\n",
       "      <td>12</td>\n",
       "      <td>모험</td>\n",
       "    </tr>\n",
       "    <tr>\n",
       "      <th>...</th>\n",
       "      <td>...</td>\n",
       "      <td>...</td>\n",
       "      <td>...</td>\n",
       "      <td>...</td>\n",
       "      <td>...</td>\n",
       "      <td>...</td>\n",
       "      <td>...</td>\n",
       "    </tr>\n",
       "    <tr>\n",
       "      <th>84562</th>\n",
       "      <td>847208</td>\n",
       "      <td>6.3</td>\n",
       "      <td>11</td>\n",
       "      <td>2</td>\n",
       "      <td>3 ½ Stunden</td>\n",
       "      <td>10770</td>\n",
       "      <td>TV 영화</td>\n",
       "    </tr>\n",
       "    <tr>\n",
       "      <th>84563</th>\n",
       "      <td>848129</td>\n",
       "      <td>6.0</td>\n",
       "      <td>10</td>\n",
       "      <td>2</td>\n",
       "      <td>Geliefert</td>\n",
       "      <td>10770</td>\n",
       "      <td>TV 영화</td>\n",
       "    </tr>\n",
       "    <tr>\n",
       "      <th>84564</th>\n",
       "      <td>864759</td>\n",
       "      <td>4.6</td>\n",
       "      <td>6</td>\n",
       "      <td>1</td>\n",
       "      <td>Je l'aime à mentir</td>\n",
       "      <td>10770</td>\n",
       "      <td>TV 영화</td>\n",
       "    </tr>\n",
       "    <tr>\n",
       "      <th>84565</th>\n",
       "      <td>872330</td>\n",
       "      <td>8.2</td>\n",
       "      <td>6</td>\n",
       "      <td>1</td>\n",
       "      <td>FFG, el último gran conversador</td>\n",
       "      <td>10770</td>\n",
       "      <td>TV 영화</td>\n",
       "    </tr>\n",
       "    <tr>\n",
       "      <th>84566</th>\n",
       "      <td>884972</td>\n",
       "      <td>6.7</td>\n",
       "      <td>6</td>\n",
       "      <td>1</td>\n",
       "      <td>Gefährliche Wahrheit</td>\n",
       "      <td>10770</td>\n",
       "      <td>TV 영화</td>\n",
       "    </tr>\n",
       "  </tbody>\n",
       "</table>\n",
       "<p>84567 rows × 7 columns</p>\n",
       "</div>"
      ],
      "text/plain": [
       "            0    1      2   3                                4      5      6\n",
       "0          11  8.2  16272  62              스타워즈: 에피소드 4 새로운 희망     12     모험\n",
       "1          18  7.5   8583  30                             제5원소     12     모험\n",
       "2          22  7.8  16645  85                캐리비안의 해적: 블랙펄의 저주     12     모험\n",
       "3          58  7.3  12772  80                  캐리비안의 해적: 망자의 함     12     모험\n",
       "4          62  8.1   8862  29                   2001 스페이스 오디세이     12     모험\n",
       "...       ...  ...    ...  ..                              ...    ...    ...\n",
       "84562  847208  6.3     11   2                      3 ½ Stunden  10770  TV 영화\n",
       "84563  848129  6.0     10   2                        Geliefert  10770  TV 영화\n",
       "84564  864759  4.6      6   1               Je l'aime à mentir  10770  TV 영화\n",
       "84565  872330  8.2      6   1  FFG, el último gran conversador  10770  TV 영화\n",
       "84566  884972  6.7      6   1             Gefährliche Wahrheit  10770  TV 영화\n",
       "\n",
       "[84567 rows x 7 columns]"
      ]
     },
     "execution_count": 44,
     "metadata": {},
     "output_type": "execute_result"
    }
   ],
   "source": [
    "df"
   ]
  },
  {
   "cell_type": "code",
   "execution_count": 45,
   "metadata": {},
   "outputs": [],
   "source": [
    "df['id'] = df[0]\n",
    "df['genre'] = df[6]\n",
    "df['vote_count'] = df[2]\n",
    "df['title'] = df[4]\n",
    "df['vote_average'] = df[1]"
   ]
  },
  {
   "cell_type": "code",
   "execution_count": 46,
   "metadata": {},
   "outputs": [
    {
     "data": {
      "text/html": [
       "<div>\n",
       "<style scoped>\n",
       "    .dataframe tbody tr th:only-of-type {\n",
       "        vertical-align: middle;\n",
       "    }\n",
       "\n",
       "    .dataframe tbody tr th {\n",
       "        vertical-align: top;\n",
       "    }\n",
       "\n",
       "    .dataframe thead th {\n",
       "        text-align: right;\n",
       "    }\n",
       "</style>\n",
       "<table border=\"1\" class=\"dataframe\">\n",
       "  <thead>\n",
       "    <tr style=\"text-align: right;\">\n",
       "      <th></th>\n",
       "      <th>id</th>\n",
       "      <th>genre</th>\n",
       "      <th>vote_count</th>\n",
       "      <th>title</th>\n",
       "      <th>vote_average</th>\n",
       "    </tr>\n",
       "  </thead>\n",
       "  <tbody>\n",
       "    <tr>\n",
       "      <th>0</th>\n",
       "      <td>11</td>\n",
       "      <td>모험</td>\n",
       "      <td>16272</td>\n",
       "      <td>스타워즈: 에피소드 4 새로운 희망</td>\n",
       "      <td>8.2</td>\n",
       "    </tr>\n",
       "    <tr>\n",
       "      <th>1</th>\n",
       "      <td>18</td>\n",
       "      <td>모험</td>\n",
       "      <td>8583</td>\n",
       "      <td>제5원소</td>\n",
       "      <td>7.5</td>\n",
       "    </tr>\n",
       "    <tr>\n",
       "      <th>2</th>\n",
       "      <td>22</td>\n",
       "      <td>모험</td>\n",
       "      <td>16645</td>\n",
       "      <td>캐리비안의 해적: 블랙펄의 저주</td>\n",
       "      <td>7.8</td>\n",
       "    </tr>\n",
       "    <tr>\n",
       "      <th>3</th>\n",
       "      <td>58</td>\n",
       "      <td>모험</td>\n",
       "      <td>12772</td>\n",
       "      <td>캐리비안의 해적: 망자의 함</td>\n",
       "      <td>7.3</td>\n",
       "    </tr>\n",
       "    <tr>\n",
       "      <th>4</th>\n",
       "      <td>62</td>\n",
       "      <td>모험</td>\n",
       "      <td>8862</td>\n",
       "      <td>2001 스페이스 오디세이</td>\n",
       "      <td>8.1</td>\n",
       "    </tr>\n",
       "  </tbody>\n",
       "</table>\n",
       "</div>"
      ],
      "text/plain": [
       "   id genre  vote_count                title  vote_average\n",
       "0  11    모험       16272  스타워즈: 에피소드 4 새로운 희망           8.2\n",
       "1  18    모험        8583                 제5원소           7.5\n",
       "2  22    모험       16645    캐리비안의 해적: 블랙펄의 저주           7.8\n",
       "3  58    모험       12772      캐리비안의 해적: 망자의 함           7.3\n",
       "4  62    모험        8862       2001 스페이스 오디세이           8.1"
      ]
     },
     "execution_count": 46,
     "metadata": {},
     "output_type": "execute_result"
    }
   ],
   "source": [
    "data = df[['id','genre','vote_count','title','vote_average']]\n",
    "data.head()"
   ]
  },
  {
   "cell_type": "code",
   "execution_count": 47,
   "metadata": {},
   "outputs": [
    {
     "name": "stderr",
     "output_type": "stream",
     "text": [
      "/Users/parkseonghun/opt/miniconda3/envs/kdigital-busan/lib/python3.7/site-packages/ipykernel_launcher.py:1: SettingWithCopyWarning: \n",
      "A value is trying to be set on a copy of a slice from a DataFrame.\n",
      "Try using .loc[row_indexer,col_indexer] = value instead\n",
      "\n",
      "See the caveats in the documentation: https://pandas.pydata.org/pandas-docs/stable/user_guide/indexing.html#returning-a-view-versus-a-copy\n",
      "  \"\"\"Entry point for launching an IPython kernel.\n",
      "/Users/parkseonghun/opt/miniconda3/envs/kdigital-busan/lib/python3.7/site-packages/pandas/util/_decorators.py:311: SettingWithCopyWarning: \n",
      "A value is trying to be set on a copy of a slice from a DataFrame\n",
      "\n",
      "See the caveats in the documentation: https://pandas.pydata.org/pandas-docs/stable/user_guide/indexing.html#returning-a-view-versus-a-copy\n",
      "  return func(*args, **kwargs)\n",
      "/Users/parkseonghun/opt/miniconda3/envs/kdigital-busan/lib/python3.7/site-packages/ipykernel_launcher.py:3: SettingWithCopyWarning: \n",
      "A value is trying to be set on a copy of a slice from a DataFrame.\n",
      "Try using .loc[row_indexer,col_indexer] = value instead\n",
      "\n",
      "See the caveats in the documentation: https://pandas.pydata.org/pandas-docs/stable/user_guide/indexing.html#returning-a-view-versus-a-copy\n",
      "  This is separate from the ipykernel package so we can avoid doing imports until\n"
     ]
    },
    {
     "data": {
      "text/plain": [
       "(42022, 5)"
      ]
     },
     "execution_count": 47,
     "metadata": {},
     "output_type": "execute_result"
    }
   ],
   "source": [
    "data[\"genre\"] = data.groupby(by=[\"id\", \"title\", \"vote_count\", \"vote_average\"])[\"genre\"].transform(lambda row: ','.join(row))\n",
    "data.drop_duplicates(inplace=True)\n",
    "data['genre'] = data['genre'].map(lambda sc : ','.join(np.unique(sc.split(','))))\n",
    "data.shape"
   ]
  },
  {
   "cell_type": "code",
   "execution_count": 49,
   "metadata": {},
   "outputs": [
    {
     "name": "stdout",
     "output_type": "stream",
     "text": [
      "6.0\n"
     ]
    }
   ],
   "source": [
    "m = data['vote_count'].quantile(0)\n",
    "print(m)\n",
    "data = data.loc[data['vote_count']>= m]"
   ]
  },
  {
   "cell_type": "code",
   "execution_count": 50,
   "metadata": {},
   "outputs": [
    {
     "data": {
      "text/plain": [
       "(42022, 5)"
      ]
     },
     "execution_count": 50,
     "metadata": {},
     "output_type": "execute_result"
    }
   ],
   "source": [
    "data.shape"
   ]
  },
  {
   "cell_type": "code",
   "execution_count": 51,
   "metadata": {},
   "outputs": [
    {
     "name": "stdout",
     "output_type": "stream",
     "text": [
      "6.20772452524868\n"
     ]
    }
   ],
   "source": [
    "c = data['vote_average'].mean()\n",
    "print(c)"
   ]
  },
  {
   "cell_type": "code",
   "execution_count": 52,
   "metadata": {},
   "outputs": [],
   "source": [
    "def weight_rating(x, m=m, c=c):\n",
    "    v = x['vote_count']\n",
    "    r = x['vote_average']\n",
    "\n",
    "    return( v / (v+m) *r) + (m/(v+m)*c)"
   ]
  },
  {
   "cell_type": "code",
   "execution_count": 53,
   "metadata": {},
   "outputs": [],
   "source": [
    "data['score'] = data.apply(weight_rating, axis=1)"
   ]
  },
  {
   "cell_type": "code",
   "execution_count": 54,
   "metadata": {},
   "outputs": [
    {
     "data": {
      "text/plain": [
       "(42022, 6)"
      ]
     },
     "execution_count": 54,
     "metadata": {},
     "output_type": "execute_result"
    }
   ],
   "source": [
    "data.shape"
   ]
  },
  {
   "cell_type": "code",
   "execution_count": 55,
   "metadata": {},
   "outputs": [],
   "source": [
    "from sklearn.feature_extraction.text import CountVectorizer"
   ]
  },
  {
   "cell_type": "code",
   "execution_count": 56,
   "metadata": {},
   "outputs": [],
   "source": [
    "counter = CountVectorizer(ngram_range=(1,3))"
   ]
  },
  {
   "cell_type": "code",
   "execution_count": 57,
   "metadata": {},
   "outputs": [],
   "source": [
    "data['genre']=data['genre'].astype(str)"
   ]
  },
  {
   "cell_type": "code",
   "execution_count": 58,
   "metadata": {},
   "outputs": [],
   "source": [
    "c_count_genres = counter.fit_transform(data['genre'])"
   ]
  },
  {
   "cell_type": "code",
   "execution_count": 59,
   "metadata": {},
   "outputs": [
    {
     "data": {
      "text/plain": [
       "<42022x840 sparse matrix of type '<class 'numpy.int64'>'\n",
       "\twith 150396 stored elements in Compressed Sparse Row format>"
      ]
     },
     "execution_count": 59,
     "metadata": {},
     "output_type": "execute_result"
    }
   ],
   "source": [
    "c_count_genres"
   ]
  },
  {
   "cell_type": "code",
   "execution_count": 60,
   "metadata": {},
   "outputs": [
    {
     "name": "stdout",
     "output_type": "stream",
     "text": [
      "[[    0  1602   126 ... 26706 26705 21010]\n",
      " [  451   964   779 ... 26152 26153 21010]\n",
      " [ 2172  1609  1794 ... 28850 28849 21010]\n",
      " ...\n",
      " [42021 42014 42009 ... 27403 27402     0]\n",
      " [42021 42014 42009 ... 27403 27402     0]\n",
      " [42021 42014 42009 ... 27403 27402     0]]\n"
     ]
    }
   ],
   "source": [
    "from sklearn.metrics.pairwise import cosine_similarity\n",
    "\n",
    "similarity_genre = cosine_similarity(c_count_genres, c_count_genres).argsort()[:,::-1]\n",
    "print(similarity_genre)"
   ]
  },
  {
   "cell_type": "code",
   "execution_count": 61,
   "metadata": {},
   "outputs": [
    {
     "data": {
      "text/plain": [
       "(42022, 42022)"
      ]
     },
     "execution_count": 61,
     "metadata": {},
     "output_type": "execute_result"
    }
   ],
   "source": [
    "similarity_genre.shape"
   ]
  },
  {
   "cell_type": "code",
   "execution_count": 62,
   "metadata": {},
   "outputs": [],
   "source": [
    "def recommend_movie_list(df, movie_title, top=30):\n",
    "    # 특정영화 정보 뽑아내기\n",
    "    target_movie_index = df[df['title'] == movie_title].index.values\n",
    "\n",
    "    # 타겟영화와 비슷한 코사인 유사도값\n",
    "    sim_index = similarity_genre[target_movie_index, :(top*2)].reshape(-1)\n",
    "    # 본인제외\n",
    "    sim_index = sim_index[sim_index != target_movie_index ]\n",
    "\n",
    "    # 추천결과 새로운 df생성, 평균평점(score)으로 정렬\n",
    "    result = df.iloc[sim_index].sort_values('score', ascending=False)[:10]\n",
    "\n",
    "    return result"
   ]
  },
  {
   "cell_type": "code",
   "execution_count": 68,
   "metadata": {},
   "outputs": [
    {
     "data": {
      "text/html": [
       "<div>\n",
       "<style scoped>\n",
       "    .dataframe tbody tr th:only-of-type {\n",
       "        vertical-align: middle;\n",
       "    }\n",
       "\n",
       "    .dataframe tbody tr th {\n",
       "        vertical-align: top;\n",
       "    }\n",
       "\n",
       "    .dataframe thead th {\n",
       "        text-align: right;\n",
       "    }\n",
       "</style>\n",
       "<table border=\"1\" class=\"dataframe\">\n",
       "  <thead>\n",
       "    <tr style=\"text-align: right;\">\n",
       "      <th></th>\n",
       "      <th>id</th>\n",
       "      <th>genre</th>\n",
       "      <th>vote_count</th>\n",
       "      <th>title</th>\n",
       "      <th>vote_average</th>\n",
       "      <th>score</th>\n",
       "    </tr>\n",
       "  </thead>\n",
       "  <tbody>\n",
       "    <tr>\n",
       "      <th>0</th>\n",
       "      <td>11</td>\n",
       "      <td>SF,모험,액션</td>\n",
       "      <td>16272</td>\n",
       "      <td>스타워즈: 에피소드 4 새로운 희망</td>\n",
       "      <td>8.2</td>\n",
       "      <td>8.199266</td>\n",
       "    </tr>\n",
       "    <tr>\n",
       "      <th>1</th>\n",
       "      <td>18</td>\n",
       "      <td>SF,모험,스릴러,액션,판타지</td>\n",
       "      <td>8583</td>\n",
       "      <td>제5원소</td>\n",
       "      <td>7.5</td>\n",
       "      <td>7.499097</td>\n",
       "    </tr>\n",
       "    <tr>\n",
       "      <th>2</th>\n",
       "      <td>22</td>\n",
       "      <td>모험,액션,판타지</td>\n",
       "      <td>16645</td>\n",
       "      <td>캐리비안의 해적: 블랙펄의 저주</td>\n",
       "      <td>7.8</td>\n",
       "      <td>7.799426</td>\n",
       "    </tr>\n",
       "    <tr>\n",
       "      <th>3</th>\n",
       "      <td>58</td>\n",
       "      <td>모험,액션,판타지</td>\n",
       "      <td>12772</td>\n",
       "      <td>캐리비안의 해적: 망자의 함</td>\n",
       "      <td>7.3</td>\n",
       "      <td>7.299487</td>\n",
       "    </tr>\n",
       "    <tr>\n",
       "      <th>4</th>\n",
       "      <td>62</td>\n",
       "      <td>SF,모험,미스터리</td>\n",
       "      <td>8862</td>\n",
       "      <td>2001 스페이스 오디세이</td>\n",
       "      <td>8.1</td>\n",
       "      <td>8.098720</td>\n",
       "    </tr>\n",
       "    <tr>\n",
       "      <th>...</th>\n",
       "      <td>...</td>\n",
       "      <td>...</td>\n",
       "      <td>...</td>\n",
       "      <td>...</td>\n",
       "      <td>...</td>\n",
       "      <td>...</td>\n",
       "    </tr>\n",
       "    <tr>\n",
       "      <th>84106</th>\n",
       "      <td>605045</td>\n",
       "      <td>TV 영화</td>\n",
       "      <td>9</td>\n",
       "      <td>Am I a Serial Killer?</td>\n",
       "      <td>6.2</td>\n",
       "      <td>6.203090</td>\n",
       "    </tr>\n",
       "    <tr>\n",
       "      <th>84239</th>\n",
       "      <td>632530</td>\n",
       "      <td>TV 영화</td>\n",
       "      <td>6</td>\n",
       "      <td>Return to Downton Abbey: A Grand Event</td>\n",
       "      <td>7.7</td>\n",
       "      <td>6.953862</td>\n",
       "    </tr>\n",
       "    <tr>\n",
       "      <th>84364</th>\n",
       "      <td>680989</td>\n",
       "      <td>TV 영화</td>\n",
       "      <td>6</td>\n",
       "      <td>Tutto il giorno davanti</td>\n",
       "      <td>6.5</td>\n",
       "      <td>6.353862</td>\n",
       "    </tr>\n",
       "    <tr>\n",
       "      <th>84457</th>\n",
       "      <td>744945</td>\n",
       "      <td>TV 영화</td>\n",
       "      <td>8</td>\n",
       "      <td>Spotlight on Christmas</td>\n",
       "      <td>6.6</td>\n",
       "      <td>6.431882</td>\n",
       "    </tr>\n",
       "    <tr>\n",
       "      <th>84500</th>\n",
       "      <td>759418</td>\n",
       "      <td>TV 영화</td>\n",
       "      <td>9</td>\n",
       "      <td>In Search of the Sanderson Sisters: A Hocus Po...</td>\n",
       "      <td>6.5</td>\n",
       "      <td>6.383090</td>\n",
       "    </tr>\n",
       "  </tbody>\n",
       "</table>\n",
       "<p>42022 rows × 6 columns</p>\n",
       "</div>"
      ],
      "text/plain": [
       "           id             genre  vote_count  \\\n",
       "0          11          SF,모험,액션       16272   \n",
       "1          18  SF,모험,스릴러,액션,판타지        8583   \n",
       "2          22         모험,액션,판타지       16645   \n",
       "3          58         모험,액션,판타지       12772   \n",
       "4          62        SF,모험,미스터리        8862   \n",
       "...       ...               ...         ...   \n",
       "84106  605045             TV 영화           9   \n",
       "84239  632530             TV 영화           6   \n",
       "84364  680989             TV 영화           6   \n",
       "84457  744945             TV 영화           8   \n",
       "84500  759418             TV 영화           9   \n",
       "\n",
       "                                                   title  vote_average  \\\n",
       "0                                    스타워즈: 에피소드 4 새로운 희망           8.2   \n",
       "1                                                   제5원소           7.5   \n",
       "2                                      캐리비안의 해적: 블랙펄의 저주           7.8   \n",
       "3                                        캐리비안의 해적: 망자의 함           7.3   \n",
       "4                                         2001 스페이스 오디세이           8.1   \n",
       "...                                                  ...           ...   \n",
       "84106                              Am I a Serial Killer?           6.2   \n",
       "84239             Return to Downton Abbey: A Grand Event           7.7   \n",
       "84364                            Tutto il giorno davanti           6.5   \n",
       "84457                             Spotlight on Christmas           6.6   \n",
       "84500  In Search of the Sanderson Sisters: A Hocus Po...           6.5   \n",
       "\n",
       "          score  \n",
       "0      8.199266  \n",
       "1      7.499097  \n",
       "2      7.799426  \n",
       "3      7.299487  \n",
       "4      8.098720  \n",
       "...         ...  \n",
       "84106  6.203090  \n",
       "84239  6.953862  \n",
       "84364  6.353862  \n",
       "84457  6.431882  \n",
       "84500  6.383090  \n",
       "\n",
       "[42022 rows x 6 columns]"
      ]
     },
     "execution_count": 68,
     "metadata": {},
     "output_type": "execute_result"
    }
   ],
   "source": [
    "data"
   ]
  },
  {
   "cell_type": "code",
   "execution_count": 70,
   "metadata": {},
   "outputs": [
    {
     "data": {
      "text/html": [
       "<div>\n",
       "<style scoped>\n",
       "    .dataframe tbody tr th:only-of-type {\n",
       "        vertical-align: middle;\n",
       "    }\n",
       "\n",
       "    .dataframe tbody tr th {\n",
       "        vertical-align: top;\n",
       "    }\n",
       "\n",
       "    .dataframe thead th {\n",
       "        text-align: right;\n",
       "    }\n",
       "</style>\n",
       "<table border=\"1\" class=\"dataframe\">\n",
       "  <thead>\n",
       "    <tr style=\"text-align: right;\">\n",
       "      <th></th>\n",
       "      <th>id</th>\n",
       "      <th>genre</th>\n",
       "      <th>vote_count</th>\n",
       "      <th>title</th>\n",
       "      <th>vote_average</th>\n",
       "      <th>score</th>\n",
       "    </tr>\n",
       "  </thead>\n",
       "  <tbody>\n",
       "    <tr>\n",
       "      <th>210</th>\n",
       "      <td>1891</td>\n",
       "      <td>SF,모험,액션</td>\n",
       "      <td>13541</td>\n",
       "      <td>스타워즈: 에피소드 5 제국의 역습</td>\n",
       "      <td>8.4</td>\n",
       "      <td>8.399029</td>\n",
       "    </tr>\n",
       "    <tr>\n",
       "      <th>1980</th>\n",
       "      <td>271154</td>\n",
       "      <td>SF,모험,액션</td>\n",
       "      <td>12</td>\n",
       "      <td>Power Rangers in 3D: Triple Force!</td>\n",
       "      <td>9.3</td>\n",
       "      <td>8.269242</td>\n",
       "    </tr>\n",
       "    <tr>\n",
       "      <th>211</th>\n",
       "      <td>1892</td>\n",
       "      <td>SF,모험,액션</td>\n",
       "      <td>12066</td>\n",
       "      <td>스타워즈: 에피소드 6 제다이의 귀환</td>\n",
       "      <td>7.9</td>\n",
       "      <td>7.899159</td>\n",
       "    </tr>\n",
       "    <tr>\n",
       "      <th>1305</th>\n",
       "      <td>100402</td>\n",
       "      <td>SF,모험,액션</td>\n",
       "      <td>15288</td>\n",
       "      <td>캡틴 아메리카: 윈터 솔져</td>\n",
       "      <td>7.7</td>\n",
       "      <td>7.699415</td>\n",
       "    </tr>\n",
       "    <tr>\n",
       "      <th>2262</th>\n",
       "      <td>333339</td>\n",
       "      <td>SF,모험,액션</td>\n",
       "      <td>12200</td>\n",
       "      <td>레디 플레이어 원</td>\n",
       "      <td>7.6</td>\n",
       "      <td>7.599316</td>\n",
       "    </tr>\n",
       "    <tr>\n",
       "      <th>2677</th>\n",
       "      <td>497698</td>\n",
       "      <td>SF,모험,액션</td>\n",
       "      <td>6189</td>\n",
       "      <td>블랙 위도우</td>\n",
       "      <td>7.6</td>\n",
       "      <td>7.598652</td>\n",
       "    </tr>\n",
       "    <tr>\n",
       "      <th>2252</th>\n",
       "      <td>330459</td>\n",
       "      <td>SF,모험,액션</td>\n",
       "      <td>12595</td>\n",
       "      <td>로그 원: 스타워즈 스토리</td>\n",
       "      <td>7.5</td>\n",
       "      <td>7.499385</td>\n",
       "    </tr>\n",
       "    <tr>\n",
       "      <th>1979</th>\n",
       "      <td>271110</td>\n",
       "      <td>SF,모험,액션</td>\n",
       "      <td>18882</td>\n",
       "      <td>캡틴 아메리카: 시빌 워</td>\n",
       "      <td>7.4</td>\n",
       "      <td>7.399621</td>\n",
       "    </tr>\n",
       "    <tr>\n",
       "      <th>214</th>\n",
       "      <td>1895</td>\n",
       "      <td>SF,모험,액션</td>\n",
       "      <td>10823</td>\n",
       "      <td>스타워즈: 에피소드 3 시스의 복수</td>\n",
       "      <td>7.4</td>\n",
       "      <td>7.399339</td>\n",
       "    </tr>\n",
       "    <tr>\n",
       "      <th>380</th>\n",
       "      <td>6593</td>\n",
       "      <td>SF,모험,액션</td>\n",
       "      <td>139</td>\n",
       "      <td>고지라 vs 메카고지라</td>\n",
       "      <td>7.4</td>\n",
       "      <td>7.350664</td>\n",
       "    </tr>\n",
       "  </tbody>\n",
       "</table>\n",
       "</div>"
      ],
      "text/plain": [
       "          id     genre  vote_count                               title  \\\n",
       "210     1891  SF,모험,액션       13541                 스타워즈: 에피소드 5 제국의 역습   \n",
       "1980  271154  SF,모험,액션          12  Power Rangers in 3D: Triple Force!   \n",
       "211     1892  SF,모험,액션       12066                스타워즈: 에피소드 6 제다이의 귀환   \n",
       "1305  100402  SF,모험,액션       15288                      캡틴 아메리카: 윈터 솔져   \n",
       "2262  333339  SF,모험,액션       12200                           레디 플레이어 원   \n",
       "2677  497698  SF,모험,액션        6189                              블랙 위도우   \n",
       "2252  330459  SF,모험,액션       12595                      로그 원: 스타워즈 스토리   \n",
       "1979  271110  SF,모험,액션       18882                       캡틴 아메리카: 시빌 워   \n",
       "214     1895  SF,모험,액션       10823                 스타워즈: 에피소드 3 시스의 복수   \n",
       "380     6593  SF,모험,액션         139                        고지라 vs 메카고지라   \n",
       "\n",
       "      vote_average     score  \n",
       "210            8.4  8.399029  \n",
       "1980           9.3  8.269242  \n",
       "211            7.9  7.899159  \n",
       "1305           7.7  7.699415  \n",
       "2262           7.6  7.599316  \n",
       "2677           7.6  7.598652  \n",
       "2252           7.5  7.499385  \n",
       "1979           7.4  7.399621  \n",
       "214            7.4  7.399339  \n",
       "380            7.4  7.350664  "
      ]
     },
     "execution_count": 70,
     "metadata": {},
     "output_type": "execute_result"
    }
   ],
   "source": [
    "recommend_movie_list(data,'스타워즈: 에피소드 4 새로운 희망')"
   ]
  }
 ],
 "metadata": {
  "interpreter": {
   "hash": "dfc1d8b9e40561b450c0b6847750c6fdfeb99218189e9277504933eee44f7507"
  },
  "kernelspec": {
   "display_name": "Python 3.7.11 64-bit ('kdigital-busan': conda)",
   "language": "python",
   "name": "python3"
  },
  "language_info": {
   "codemirror_mode": {
    "name": "ipython",
    "version": 3
   },
   "file_extension": ".py",
   "mimetype": "text/x-python",
   "name": "python",
   "nbconvert_exporter": "python",
   "pygments_lexer": "ipython3",
   "version": "3.7.11"
  },
  "orig_nbformat": 4
 },
 "nbformat": 4,
 "nbformat_minor": 2
}
