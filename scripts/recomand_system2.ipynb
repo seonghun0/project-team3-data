{
 "cells": [
  {
   "cell_type": "code",
   "execution_count": 1,
   "metadata": {},
   "outputs": [
    {
     "name": "stdout",
     "output_type": "stream",
     "text": [
      "Collecting surprise\n",
      "  Downloading surprise-0.1-py2.py3-none-any.whl (1.8 kB)\n",
      "Requirement already satisfied: scikit-surprise in /Users/parkseonghun/opt/miniconda3/envs/kdigital-busan/lib/python3.7/site-packages (from surprise) (1.1.1)\n",
      "Requirement already satisfied: joblib>=0.11 in /Users/parkseonghun/opt/miniconda3/envs/kdigital-busan/lib/python3.7/site-packages (from scikit-surprise->surprise) (1.1.0)\n",
      "Requirement already satisfied: scipy>=1.0.0 in /Users/parkseonghun/opt/miniconda3/envs/kdigital-busan/lib/python3.7/site-packages (from scikit-surprise->surprise) (1.7.1)\n",
      "Requirement already satisfied: six>=1.10.0 in /Users/parkseonghun/opt/miniconda3/envs/kdigital-busan/lib/python3.7/site-packages (from scikit-surprise->surprise) (1.16.0)\n",
      "Requirement already satisfied: numpy>=1.11.2 in /Users/parkseonghun/opt/miniconda3/envs/kdigital-busan/lib/python3.7/site-packages (from scikit-surprise->surprise) (1.21.2)\n",
      "Installing collected packages: surprise\n",
      "Successfully installed surprise-0.1\n"
     ]
    }
   ],
   "source": [
    "# 서프라이즈 설치   \n",
    "# !pip install surprise"
   ]
  },
  {
   "cell_type": "code",
   "execution_count": 7,
   "metadata": {},
   "outputs": [],
   "source": [
    "from surprise import SVD\n",
    "from surprise.dataset import DatasetAutoFolds\n",
    "from surprise.dataset import Reader\n",
    "import pymysql\n",
    "import pandas as pd\n",
    "from surprise import accuracy"
   ]
  },
  {
   "cell_type": "code",
   "execution_count": 3,
   "metadata": {},
   "outputs": [],
   "source": [
    "# ratings 가져오기 \n",
    "# 1. connect\n",
    "conn = pymysql.connect(host=\"3.38.186.130\", port=3306, db=\"finalteam3\", user=\"kdigital3\", password=\"mysql\", charset=\"utf8\")\n",
    "\n",
    "# 2. get command object\n",
    "cursor = conn.cursor()\n",
    "\n",
    "# 3. execute command\n",
    "sql = \"\"\"select member_id, movie_id, rating\n",
    "        from rating\"\"\"\n",
    "cursor.execute(sql)\n",
    "    \n",
    "    # break\n",
    "\n",
    "conn.commit() # confirm previous execution\n",
    "\n",
    "# 4. close resource\n",
    "cursor.close()\n",
    "conn.close()\n",
    "\n",
    "movie = []\n",
    "list = []\n",
    "rows = cursor.fetchall()\n",
    "ratings = pd.DataFrame(rows, columns=['member_id','movie_id','rating'])"
   ]
  },
  {
   "cell_type": "code",
   "execution_count": 4,
   "metadata": {},
   "outputs": [],
   "source": [
    "# movie데이터 가져오기\n",
    "# 1. connect\n",
    "conn = pymysql.connect(host=\"127.0.0.1\", port=3306, db=\"finalteam3\", user=\"kdigital\", password=\"mysql\", charset=\"utf8\")\n",
    "\n",
    "# 2. get command object\n",
    "cursor = conn.cursor()\n",
    "\n",
    "# 3. execute command\n",
    "sql = \"\"\"select title, movie_id, vote_average\n",
    "        from movie\"\"\"\n",
    "cursor.execute(sql)\n",
    "    \n",
    "    # break\n",
    "\n",
    "conn.commit() # confirm previous execution\n",
    "\n",
    "# 4. close resource\n",
    "cursor.close()\n",
    "conn.close()\n",
    "\n",
    "rows = cursor.fetchall()\n",
    "movies = pd.DataFrame(rows, columns=['title','movie_id','vote_average'])\n"
   ]
  },
  {
   "cell_type": "code",
   "execution_count": 5,
   "metadata": {},
   "outputs": [],
   "source": [
    "# reader = Reader(line_format='user item rating', sep=',',\n",
    "#                rating_scale=(1, 10))\n",
    "\n",
    "# # DatasetAutoFolds 클래스를 사용해서 개별적으로 생성\n",
    "# # index와 header가 없는 상태로 재생성했던 ratings_surprise.csv파일에 기반\n",
    "# data_folds = DatasetAutoFolds(ratings_file='rating_surprise.csv',\n",
    "#                              reader=reader)\n",
    "from surprise import Dataset,reader\n",
    "from surprise.model_selection import train_test_split\n",
    "import pandas as pd\n",
    "\n",
    "# 내장 데이터인 무비렌즈 데이터 로드하고 학습/테스트 데이터로 분리\n",
    "data = Dataset.load_builtin('ml-100k')\n",
    "# df = pd.read_csv('../data-files/ratings.csv')\n",
    "# df = df[['userId','movieId','rating']]\n",
    "# reader = Reader(rating_scale=(1,10))\n",
    "# data = Dataset.load_from_df(df[['userId','movieId','rating']],reader)\n",
    "train = data.build_full_trainset()\n",
    "test = train.build_testset()\n",
    "# train, test = train_test_split(data, test_size=0.01, random_state=42, shuffle=True)\n"
   ]
  },
  {
   "cell_type": "code",
   "execution_count": 50,
   "metadata": {},
   "outputs": [
    {
     "name": "stdout",
     "output_type": "stream",
     "text": [
      "{'n_epochs': 20, 'n_factors': 200, 'lr_all': 0.05, 'reg_all': 0.06}\n",
      "0.9352130399849222\n",
      "\n",
      "{'n_epochs': 20, 'n_factors': 200, 'lr_all': 0.05, 'reg_all': 0.06}\n",
      "0.7391771256526362\n"
     ]
    }
   ],
   "source": [
    "from surprise.model_selection import GridSearchCV\n",
    "from surprise import accuracy\n",
    "\n",
    "param_grid = {'n_epochs':[20,30,40,50,60], 'n_factors':[10,20,30,40,50,60,100,200],'lr_all':[0.5,0.05],'reg_all':[0.06,0.04]}\n",
    "gs = GridSearchCV(SVD, param_grid, measures=['RMSE','MAE'], cv=3,n_jobs=-1)\n",
    "gs.fit(data)\n",
    "print(gs.best_params['rmse'])\n",
    "print(gs.best_score['rmse'])\n",
    "print()\n",
    "print(gs.best_params['mae'])\n",
    "print(gs.best_score['mae'])"
   ]
  },
  {
   "cell_type": "code",
   "execution_count": 28,
   "metadata": {},
   "outputs": [
    {
     "name": "stdout",
     "output_type": "stream",
     "text": [
      "RMSE: 0.0840\n"
     ]
    },
    {
     "data": {
      "text/plain": [
       "0.08397072665685956"
      ]
     },
     "execution_count": 28,
     "metadata": {},
     "output_type": "execute_result"
    }
   ],
   "source": [
    "algo = SVD(n_factors=200, n_epochs=20, lr_all=0.06, reg_all=0.01,random_state=42)\n",
    "algo.fit(train)\n",
    "prediction = algo.test(test)\n",
    "accuracy.rmse(prediction)"
   ]
  },
  {
   "cell_type": "code",
   "execution_count": 22,
   "metadata": {},
   "outputs": [],
   "source": [
    "ratings['rating'] = ratings['rating']/2"
   ]
  },
  {
   "cell_type": "code",
   "execution_count": 10,
   "metadata": {},
   "outputs": [],
   "source": [
    "def get_unseen_surprise(ratings, movies, member_id):\n",
    "    # 특정 유저가 본 movie id들을 리스트로 할당\n",
    "    seen_movies = ratings[ratings['member_id']==member_id]['movie_id'].tolist()\n",
    "    # 모든 영화들의 movie id들 리스트로 할당\n",
    "    total_movies = movies['movie_id'].tolist()\n",
    "    \n",
    "    # 모든 영화들의 movie id들 중 특정 유저가 본 movie id를 제외한 나머지 추출\n",
    "    unseen_movies = [movie for movie in total_movies if movie not in seen_movies]\n",
    "    print(f'특정 {member_id} 유저가 본 영화 수: {len(seen_movies)}\\n추천한 영화 개수: {len(unseen_movies)}\\n전체 영화수: {len(total_movies)}')\n",
    "    \n",
    "    return unseen_movies"
   ]
  },
  {
   "cell_type": "code",
   "execution_count": 24,
   "metadata": {},
   "outputs": [],
   "source": [
    "def recomm_movie_by_surprise(algo, userId, unseen_movies, top_n=10):\n",
    "    # 알고리즘 객체의 predict()를 이용해 특정 userId의 평점이 없는 영화들에 대해 평점 예측\n",
    "    predictions = [algo.predict(str(userId), str(movieId)) for movieId in unseen_movies]\n",
    "\n",
    "    # predictions는 Prediction()으로 하나의 객체로 되어있기 때문에 예측평점(est값)을 기준으로 정렬해야함\n",
    "    # est값을 반환하는 함수부터 정의. 이것을 이용해 리스트를 정렬하는 sort()인자의 key값에 넣어주자!\n",
    "    def sortkey_est(pred):\n",
    "        return pred.est\n",
    "    \n",
    "    # sortkey_est함수로 리스트를 정렬하는 sort함수의 key인자에 넣어주자\n",
    "    # 리스트 sort는 디폴트값이 inplace=True인 것처럼 정렬되어 나온다. reverse=True가 내림차순\n",
    "    predictions.sort(key=sortkey_est, reverse=True)\n",
    "    # 상위 n개의 예측값들만 할당\n",
    "    top_predictions = predictions[:top_n]\n",
    "    \n",
    "    # top_predictions에서 movie id, rating, movie title 각 뽑아내기\n",
    "    top_movie_ids = [int(pred.iid) for pred in top_predictions]\n",
    "    top_movie_ratings = [pred.est*2 for pred in top_predictions]\n",
    "    top_movie_titles = movies[movies.movie_id.isin(top_movie_ids)]['title']\n",
    "    # 위 3가지를 튜플로 담기\n",
    "    # zip함수를 사용해서 각 자료구조(여기선 리스트)의 똑같은 위치에있는 값들을 mapping\n",
    "    # zip함수는 참고로 여러개의 문자열의 똑같은 위치들끼리 mapping도 가능!\n",
    "    top_movie_preds = [(ids, rating, title) for ids, rating, title in zip(top_movie_ids, top_movie_ratings, top_movie_titles)]\n",
    "    \n",
    "    return top_movie_preds"
   ]
  },
  {
   "cell_type": "code",
   "execution_count": 25,
   "metadata": {},
   "outputs": [
    {
     "name": "stdout",
     "output_type": "stream",
     "text": [
      "특정 admin1234 유저가 본 영화 수: 30\n",
      "추천한 영화 개수: 527513\n",
      "전체 영화수: 527543\n",
      "\n",
      "######## Top-10 추천영화 리스트 ########\n",
      "* 추천 영화 이름:  글래디에이터\n",
      "* 해당 영화의 예측평점:  8.889786142432618\n",
      "\n",
      "* 추천 영화 이름:  스타 트렉 6: 미지의 세계\n",
      "* 해당 영화의 예측평점:  8.770587179352905\n",
      "\n",
      "* 추천 영화 이름:  분노의 폭발\n",
      "* 해당 영화의 예측평점:  8.77027356792394\n",
      "\n",
      "* 추천 영화 이름:  배트맨 비긴즈\n",
      "* 해당 영화의 예측평점:  8.73370609918668\n",
      "\n",
      "* 추천 영화 이름:  Halbe Treppe\n",
      "* 해당 영화의 예측평점:  8.693235090449917\n",
      "\n",
      "* 추천 영화 이름:  밀리언 달러 호텔\n",
      "* 해당 영화의 예측평점:  8.655319444719911\n",
      "\n",
      "* 추천 영화 이름:  백설공주와 일곱 난쟁이\n",
      "* 해당 영화의 예측평점:  8.642709679314391\n",
      "\n",
      "* 추천 영화 이름:  몬순 웨딩\n",
      "* 해당 영화의 예측평점:  8.61732854949178\n",
      "\n",
      "* 추천 영화 이름:  광란의 사랑\n",
      "* 해당 영화의 예측평점:  8.539531217825825\n",
      "\n",
      "* 추천 영화 이름:  매트릭스\n",
      "* 해당 영화의 예측평점:  8.53402380655392\n",
      "\n"
     ]
    }
   ],
   "source": [
    "### 위에서 정의한 함수를 사용해 특정 유저의 추천 영화들 출력해보기\n",
    "unseen_lst = get_unseen_surprise(ratings, movies, 'admin1234')\n",
    "top_movies_preds = recomm_movie_by_surprise(algo, 'admin1234', unseen_lst,\n",
    "                                           top_n=10)\n",
    "print()\n",
    "print('#'*8,'Top-10 추천영화 리스트','#'*8)\n",
    "\n",
    "# top_movies_preds가 여러가지의 튜플을 담고 있는 리스트이기 때문에 반복문 수행\n",
    "for top_movie in top_movies_preds:\n",
    "    print('* 추천 영화 이름: ', top_movie[2])\n",
    "    print('* 해당 영화의 예측평점: ', top_movie[1])\n",
    "    print()"
   ]
  },
  {
   "cell_type": "code",
   "execution_count": 26,
   "metadata": {},
   "outputs": [
    {
     "name": "stdout",
     "output_type": "stream",
     "text": [
      "특정 iamuser 유저가 본 영화 수: 10\n",
      "추천한 영화 개수: 527533\n",
      "전체 영화수: 527543\n",
      "\n",
      "######## Top-10 추천영화 리스트 ########\n",
      "* 추천 영화 이름:  니모를 찾아서\n",
      "* 해당 영화의 예측평점:  8.889786142432618\n",
      "\n",
      "* 추천 영화 이름:  그녀에게\n",
      "* 해당 영화의 예측평점:  8.850485751069364\n",
      "\n",
      "* 추천 영화 이름:  귀여운 여인\n",
      "* 해당 영화의 예측평점:  8.830402859176386\n",
      "\n",
      "* 추천 영화 이름:  프레데터 2\n",
      "* 해당 영화의 예측평점:  8.770587179352905\n",
      "\n",
      "* 추천 영화 이름:  스타 트렉 6: 미지의 세계\n",
      "* 해당 영화의 예측평점:  8.77027356792394\n",
      "\n",
      "* 추천 영화 이름:  배트맨 비긴즈\n",
      "* 해당 영화의 예측평점:  8.757189528006064\n",
      "\n",
      "* 추천 영화 이름:  밀리언 달러 호텔\n",
      "* 해당 영화의 예측평점:  8.737337014964957\n",
      "\n",
      "* 추천 영화 이름:  백설공주와 일곱 난쟁이\n",
      "* 해당 영화의 예측평점:  8.73370609918668\n",
      "\n",
      "* 추천 영화 이름:  광란의 사랑\n",
      "* 해당 영화의 예측평점:  8.693235090449917\n",
      "\n",
      "* 추천 영화 이름:  매트릭스\n",
      "* 해당 영화의 예측평점:  8.655319444719911\n",
      "\n"
     ]
    }
   ],
   "source": [
    "unseen_lst = get_unseen_surprise(ratings, movies, 'iamuser')\n",
    "top_movies_preds = recomm_movie_by_surprise(algo, 'iamuser', unseen_lst,\n",
    "                                           top_n=10)\n",
    "print()\n",
    "print('#'*8,'Top-10 추천영화 리스트','#'*8)\n",
    "\n",
    "# top_movies_preds가 여러가지의 튜플을 담고 있는 리스트이기 때문에 반복문 수행\n",
    "for top_movie in top_movies_preds:\n",
    "    print('* 추천 영화 이름: ', top_movie[2])\n",
    "    print('* 해당 영화의 예측평점: ', top_movie[1])\n",
    "    print()"
   ]
  }
 ],
 "metadata": {
  "interpreter": {
   "hash": "dfc1d8b9e40561b450c0b6847750c6fdfeb99218189e9277504933eee44f7507"
  },
  "kernelspec": {
   "display_name": "Python 3.7.11 64-bit ('kdigital-busan': conda)",
   "language": "python",
   "name": "python3"
  },
  "language_info": {
   "codemirror_mode": {
    "name": "ipython",
    "version": 3
   },
   "file_extension": ".py",
   "mimetype": "text/x-python",
   "name": "python",
   "nbconvert_exporter": "python",
   "pygments_lexer": "ipython3",
   "version": "3.7.11"
  },
  "orig_nbformat": 4
 },
 "nbformat": 4,
 "nbformat_minor": 2
}
