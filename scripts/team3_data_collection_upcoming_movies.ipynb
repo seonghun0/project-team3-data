{
 "cells": [
  {
   "cell_type": "code",
   "execution_count": 1,
   "metadata": {},
   "outputs": [],
   "source": [
    "import json\n",
    "import pandas as pd\n",
    "import requests\n",
    "\n",
    "upcoming = []\n",
    "for i in range(1,1000):\n",
    "    url = 'https://api.themoviedb.org/3/movie/upcoming?api_key={1}&language=ko-KR&primary_release_date.gte=2022-01-01&page={0}'.format(i,'36927ad1d2817ff0fa31947e47d186fd')\n",
    "    resp = requests.get(url)\n",
    "    upcoming.append(json.loads(resp.content))\n",
    "\n",
    "    if i == 10:\n",
    "        break\n",
    "\n",
    "upcoming_movies = []\n",
    "for row in upcoming:\n",
    "    for result in row ['results']:\n",
    "        upcoming_movies.append(result)"
   ]
  },
  {
   "cell_type": "code",
   "execution_count": 2,
   "metadata": {},
   "outputs": [
    {
     "name": "stdout",
     "output_type": "stream",
     "text": [
      "<class 'pandas.core.frame.DataFrame'>\n",
      "RangeIndex: 2 entries, 0 to 1\n",
      "Data columns (total 14 columns):\n",
      " #   Column             Non-Null Count  Dtype  \n",
      "---  ------             --------------  -----  \n",
      " 0   adult              2 non-null      bool   \n",
      " 1   backdrop_path      2 non-null      object \n",
      " 2   genre_ids          2 non-null      object \n",
      " 3   id                 2 non-null      int64  \n",
      " 4   original_language  2 non-null      object \n",
      " 5   original_title     2 non-null      object \n",
      " 6   overview           2 non-null      object \n",
      " 7   popularity         2 non-null      float64\n",
      " 8   poster_path        2 non-null      object \n",
      " 9   release_date       2 non-null      object \n",
      " 10  title              2 non-null      object \n",
      " 11  video              2 non-null      bool   \n",
      " 12  vote_average       2 non-null      int64  \n",
      " 13  vote_count         2 non-null      int64  \n",
      "dtypes: bool(2), float64(1), int64(3), object(8)\n",
      "memory usage: 324.0+ bytes\n"
     ]
    }
   ],
   "source": [
    "upcoming_movies=pd.DataFrame(upcoming_movies)\n",
    "upcoming_movies.info()"
   ]
  },
  {
   "cell_type": "code",
   "execution_count": 9,
   "metadata": {},
   "outputs": [],
   "source": [
    "# upcoming_movies.to_csv(\"../data-files/upcoming_movies.csv\", header=True, index=True)"
   ]
  },
  {
   "cell_type": "code",
   "execution_count": 3,
   "metadata": {},
   "outputs": [],
   "source": [
    "upcoming_movies=upcoming_movies.drop(['adult', 'backdrop_path', 'video','genre_ids'], axis=1)"
   ]
  },
  {
   "cell_type": "code",
   "execution_count": 4,
   "metadata": {},
   "outputs": [
    {
     "data": {
      "text/html": [
       "<div>\n",
       "<style scoped>\n",
       "    .dataframe tbody tr th:only-of-type {\n",
       "        vertical-align: middle;\n",
       "    }\n",
       "\n",
       "    .dataframe tbody tr th {\n",
       "        vertical-align: top;\n",
       "    }\n",
       "\n",
       "    .dataframe thead th {\n",
       "        text-align: right;\n",
       "    }\n",
       "</style>\n",
       "<table border=\"1\" class=\"dataframe\">\n",
       "  <thead>\n",
       "    <tr style=\"text-align: right;\">\n",
       "      <th></th>\n",
       "      <th>id</th>\n",
       "      <th>original_language</th>\n",
       "      <th>original_title</th>\n",
       "      <th>overview</th>\n",
       "      <th>popularity</th>\n",
       "      <th>poster_path</th>\n",
       "      <th>release_date</th>\n",
       "      <th>title</th>\n",
       "      <th>vote_average</th>\n",
       "      <th>vote_count</th>\n",
       "    </tr>\n",
       "  </thead>\n",
       "  <tbody>\n",
       "    <tr>\n",
       "      <th>0</th>\n",
       "      <td>763329</td>\n",
       "      <td>en</td>\n",
       "      <td>Red Rocket</td>\n",
       "      <td>L.A에서 포르노 배우로 활동하던 마이키는 빈털터리가 되자 별거 중이었던 아내의 집...</td>\n",
       "      <td>13.271</td>\n",
       "      <td>/345gLhiNpItU1ICx8OxJQwjgPmH.jpg</td>\n",
       "      <td>2022-01-06</td>\n",
       "      <td>레드 로켓</td>\n",
       "      <td>0</td>\n",
       "      <td>0</td>\n",
       "    </tr>\n",
       "    <tr>\n",
       "      <th>1</th>\n",
       "      <td>598331</td>\n",
       "      <td>en</td>\n",
       "      <td>Rumble</td>\n",
       "      <td></td>\n",
       "      <td>16.030</td>\n",
       "      <td>/mVKfyo2YQ1Sf0fKzZfc5t9HM6eK.jpg</td>\n",
       "      <td>2022-02-17</td>\n",
       "      <td>럼블</td>\n",
       "      <td>0</td>\n",
       "      <td>0</td>\n",
       "    </tr>\n",
       "  </tbody>\n",
       "</table>\n",
       "</div>"
      ],
      "text/plain": [
       "       id original_language original_title  \\\n",
       "0  763329                en     Red Rocket   \n",
       "1  598331                en         Rumble   \n",
       "\n",
       "                                            overview  popularity  \\\n",
       "0  L.A에서 포르노 배우로 활동하던 마이키는 빈털터리가 되자 별거 중이었던 아내의 집...      13.271   \n",
       "1                                                         16.030   \n",
       "\n",
       "                        poster_path release_date  title  vote_average  \\\n",
       "0  /345gLhiNpItU1ICx8OxJQwjgPmH.jpg   2022-01-06  레드 로켓             0   \n",
       "1  /mVKfyo2YQ1Sf0fKzZfc5t9HM6eK.jpg   2022-02-17     럼블             0   \n",
       "\n",
       "   vote_count  \n",
       "0           0  \n",
       "1           0  "
      ]
     },
     "execution_count": 4,
     "metadata": {},
     "output_type": "execute_result"
    }
   ],
   "source": [
    "upcoming_movies.head(2)"
   ]
  },
  {
   "cell_type": "code",
   "execution_count": 5,
   "metadata": {},
   "outputs": [
    {
     "data": {
      "text/html": [
       "<div>\n",
       "<style scoped>\n",
       "    .dataframe tbody tr th:only-of-type {\n",
       "        vertical-align: middle;\n",
       "    }\n",
       "\n",
       "    .dataframe tbody tr th {\n",
       "        vertical-align: top;\n",
       "    }\n",
       "\n",
       "    .dataframe thead th {\n",
       "        text-align: right;\n",
       "    }\n",
       "</style>\n",
       "<table border=\"1\" class=\"dataframe\">\n",
       "  <thead>\n",
       "    <tr style=\"text-align: right;\">\n",
       "      <th></th>\n",
       "      <th>movie_id</th>\n",
       "      <th>original_language</th>\n",
       "      <th>subtitle</th>\n",
       "      <th>overview</th>\n",
       "      <th>popularity</th>\n",
       "      <th>posterpath</th>\n",
       "      <th>release_date</th>\n",
       "      <th>title</th>\n",
       "      <th>vote_average</th>\n",
       "      <th>vote_count</th>\n",
       "    </tr>\n",
       "  </thead>\n",
       "  <tbody>\n",
       "    <tr>\n",
       "      <th>0</th>\n",
       "      <td>763329</td>\n",
       "      <td>en</td>\n",
       "      <td>Red Rocket</td>\n",
       "      <td>L.A에서 포르노 배우로 활동하던 마이키는 빈털터리가 되자 별거 중이었던 아내의 집...</td>\n",
       "      <td>13.271</td>\n",
       "      <td>/345gLhiNpItU1ICx8OxJQwjgPmH.jpg</td>\n",
       "      <td>2022-01-06</td>\n",
       "      <td>레드 로켓</td>\n",
       "      <td>0</td>\n",
       "      <td>0</td>\n",
       "    </tr>\n",
       "    <tr>\n",
       "      <th>1</th>\n",
       "      <td>598331</td>\n",
       "      <td>en</td>\n",
       "      <td>Rumble</td>\n",
       "      <td></td>\n",
       "      <td>16.030</td>\n",
       "      <td>/mVKfyo2YQ1Sf0fKzZfc5t9HM6eK.jpg</td>\n",
       "      <td>2022-02-17</td>\n",
       "      <td>럼블</td>\n",
       "      <td>0</td>\n",
       "      <td>0</td>\n",
       "    </tr>\n",
       "  </tbody>\n",
       "</table>\n",
       "</div>"
      ],
      "text/plain": [
       "   movie_id original_language    subtitle  \\\n",
       "0    763329                en  Red Rocket   \n",
       "1    598331                en      Rumble   \n",
       "\n",
       "                                            overview  popularity  \\\n",
       "0  L.A에서 포르노 배우로 활동하던 마이키는 빈털터리가 되자 별거 중이었던 아내의 집...      13.271   \n",
       "1                                                         16.030   \n",
       "\n",
       "                         posterpath release_date  title  vote_average  \\\n",
       "0  /345gLhiNpItU1ICx8OxJQwjgPmH.jpg   2022-01-06  레드 로켓             0   \n",
       "1  /mVKfyo2YQ1Sf0fKzZfc5t9HM6eK.jpg   2022-02-17     럼블             0   \n",
       "\n",
       "   vote_count  \n",
       "0           0  \n",
       "1           0  "
      ]
     },
     "execution_count": 5,
     "metadata": {},
     "output_type": "execute_result"
    }
   ],
   "source": [
    "# 칼럼이름을 DB 칼럼이름과 동일하게 변경\n",
    "\n",
    "upcoming_movies=upcoming_movies.rename(columns={'id':'movie_id', 'original_title':'subtitle','poster_path':'posterpath'})\n",
    "upcoming_movies.head(2)"
   ]
  },
  {
   "cell_type": "code",
   "execution_count": 6,
   "metadata": {},
   "outputs": [
    {
     "data": {
      "text/plain": [
       "movie_id             0\n",
       "original_language    0\n",
       "subtitle             0\n",
       "overview             0\n",
       "popularity           0\n",
       "posterpath           0\n",
       "release_date         0\n",
       "title                0\n",
       "vote_average         0\n",
       "vote_count           0\n",
       "dtype: int64"
      ]
     },
     "execution_count": 6,
     "metadata": {},
     "output_type": "execute_result"
    }
   ],
   "source": [
    "upcoming_movies.isna().sum()"
   ]
  },
  {
   "cell_type": "code",
   "execution_count": 7,
   "metadata": {},
   "outputs": [
    {
     "data": {
      "text/html": [
       "<div>\n",
       "<style scoped>\n",
       "    .dataframe tbody tr th:only-of-type {\n",
       "        vertical-align: middle;\n",
       "    }\n",
       "\n",
       "    .dataframe tbody tr th {\n",
       "        vertical-align: top;\n",
       "    }\n",
       "\n",
       "    .dataframe thead th {\n",
       "        text-align: right;\n",
       "    }\n",
       "</style>\n",
       "<table border=\"1\" class=\"dataframe\">\n",
       "  <thead>\n",
       "    <tr style=\"text-align: right;\">\n",
       "      <th></th>\n",
       "      <th>movie_id</th>\n",
       "    </tr>\n",
       "  </thead>\n",
       "  <tbody>\n",
       "    <tr>\n",
       "      <th>0</th>\n",
       "      <td>763329</td>\n",
       "    </tr>\n",
       "    <tr>\n",
       "      <th>1</th>\n",
       "      <td>598331</td>\n",
       "    </tr>\n",
       "  </tbody>\n",
       "</table>\n",
       "</div>"
      ],
      "text/plain": [
       "   movie_id\n",
       "0    763329\n",
       "1    598331"
      ]
     },
     "execution_count": 7,
     "metadata": {},
     "output_type": "execute_result"
    }
   ],
   "source": [
    "upcoming_movies_ids=upcoming_movies[[\"movie_id\"]]\n",
    "upcoming_movies_ids"
   ]
  },
  {
   "cell_type": "code",
   "execution_count": 8,
   "metadata": {},
   "outputs": [],
   "source": [
    "import pymysql\n",
    "\n",
    "conn = pymysql.connect(host=\"localhost\",\n",
    "                       database=\"finalteam3\",\n",
    "                       user=\"kdigital\",\n",
    "                       password=\"mysql\",\n",
    "                       charset=\"utf8\")\n",
    "cursor = conn.cursor()\n",
    "\n",
    "# cursor.execute('DELETE FROM now_playing_movies')\n",
    "error_list=[]\n",
    "for movie_id in upcoming_movies_ids.values:\n",
    "    try:\n",
    "    # print(type(movie_id), movie_id)  # movie_id type이 nd.arrary임. \n",
    "        sql= \"INSERT INTO upcoming_movies VALUES(%s)\"\n",
    "        cursor.execute(sql, movie_id[0]) \n",
    "    except:\n",
    "        error_list.append(movie_id)\n",
    "    \n",
    "conn.commit()\n",
    "cursor.close()\n",
    "conn.close()"
   ]
  },
  {
   "cell_type": "code",
   "execution_count": 9,
   "metadata": {},
   "outputs": [
    {
     "data": {
      "text/plain": [
       "[]"
      ]
     },
     "execution_count": 9,
     "metadata": {},
     "output_type": "execute_result"
    }
   ],
   "source": [
    "error_list"
   ]
  }
 ],
 "metadata": {
  "interpreter": {
   "hash": "dfc1d8b9e40561b450c0b6847750c6fdfeb99218189e9277504933eee44f7507"
  },
  "kernelspec": {
   "display_name": "Python 3.7.11 64-bit ('kdigital-busan': conda)",
   "language": "python",
   "name": "python3"
  },
  "language_info": {
   "codemirror_mode": {
    "name": "ipython",
    "version": 3
   },
   "file_extension": ".py",
   "mimetype": "text/x-python",
   "name": "python",
   "nbconvert_exporter": "python",
   "pygments_lexer": "ipython3",
   "version": "3.7.11"
  },
  "orig_nbformat": 4
 },
 "nbformat": 4,
 "nbformat_minor": 2
}
