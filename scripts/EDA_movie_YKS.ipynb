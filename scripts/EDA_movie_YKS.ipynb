{
 "cells": [
  {
   "cell_type": "code",
   "execution_count": 4,
   "metadata": {},
   "outputs": [],
   "source": [
    "#!pip install seaborn\n",
    "import numpy as np\n",
    "import pandas as pd\n",
    "import seaborn as sns\n",
    "import matplotlib.pyplot as plt"
   ]
  },
  {
   "cell_type": "code",
   "execution_count": 5,
   "metadata": {},
   "outputs": [
    {
     "name": "stderr",
     "output_type": "stream",
     "text": [
      "C:\\Users\\user\\.conda\\envs\\ykseo\\lib\\site-packages\\IPython\\core\\interactiveshell.py:3441: DtypeWarning: Columns (1,4,7,12,17,23) have mixed types.Specify dtype option on import or set low_memory=False.\n",
      "  exec(code_obj, self.user_global_ns, self.user_ns)\n"
     ]
    }
   ],
   "source": [
    "movies = pd.read_csv(r\"D:\\team3_data\\project-team3-data\\data-files\\total_tmdbmovielist.csv\", index_col=0)"
   ]
  },
  {
   "cell_type": "code",
   "execution_count": 6,
   "metadata": {},
   "outputs": [
    {
     "name": "stdout",
     "output_type": "stream",
     "text": [
      "<class 'pandas.core.frame.DataFrame'>\n",
      "Int64Index: 630159 entries, 0 to 630185\n",
      "Data columns (total 25 columns):\n",
      " #   Column                 Non-Null Count   Dtype  \n",
      "---  ------                 --------------   -----  \n",
      " 0   adult                  630158 non-null  object \n",
      " 1   backdrop_path          150102 non-null  object \n",
      " 2   belongs_to_collection  11995 non-null   object \n",
      " 3   budget                 630157 non-null  object \n",
      " 4   genres                 630155 non-null  object \n",
      " 5   homepage               69801 non-null   object \n",
      " 6   id                     630156 non-null  object \n",
      " 7   imdb_id                396414 non-null  object \n",
      " 8   original_language      630157 non-null  object \n",
      " 9   original_title         630130 non-null  object \n",
      " 10  overview               25238 non-null   object \n",
      " 11  popularity             630119 non-null  object \n",
      " 12  poster_path            426255 non-null  object \n",
      " 13  production_companies   630119 non-null  object \n",
      " 14  production_countries   630088 non-null  object \n",
      " 15  release_date           571778 non-null  object \n",
      " 16  revenue                630088 non-null  object \n",
      " 17  runtime                577000 non-null  float64\n",
      " 18  spoken_languages       630088 non-null  object \n",
      " 19  status                 630088 non-null  object \n",
      " 20  tagline                8100 non-null    object \n",
      " 21  title                  630086 non-null  object \n",
      " 22  video                  630086 non-null  object \n",
      " 23  vote_average           630086 non-null  float64\n",
      " 24  vote_count             630086 non-null  float64\n",
      "dtypes: float64(3), object(22)\n",
      "memory usage: 125.0+ MB\n"
     ]
    }
   ],
   "source": [
    "movies.info()\n",
    "# total row = 630159 entries\n",
    "# total column = 25 columns\n",
    "# release_date, budget, revenue, popularity 데이터 타입 변경 필요 "
   ]
  },
  {
   "cell_type": "code",
   "execution_count": 7,
   "metadata": {},
   "outputs": [
    {
     "data": {
      "text/html": [
       "<div>\n",
       "<style scoped>\n",
       "    .dataframe tbody tr th:only-of-type {\n",
       "        vertical-align: middle;\n",
       "    }\n",
       "\n",
       "    .dataframe tbody tr th {\n",
       "        vertical-align: top;\n",
       "    }\n",
       "\n",
       "    .dataframe thead th {\n",
       "        text-align: right;\n",
       "    }\n",
       "</style>\n",
       "<table border=\"1\" class=\"dataframe\">\n",
       "  <thead>\n",
       "    <tr style=\"text-align: right;\">\n",
       "      <th></th>\n",
       "      <th>adult</th>\n",
       "      <th>backdrop_path</th>\n",
       "      <th>belongs_to_collection</th>\n",
       "      <th>budget</th>\n",
       "      <th>genres</th>\n",
       "      <th>homepage</th>\n",
       "      <th>id</th>\n",
       "      <th>imdb_id</th>\n",
       "      <th>original_language</th>\n",
       "      <th>original_title</th>\n",
       "      <th>...</th>\n",
       "      <th>release_date</th>\n",
       "      <th>revenue</th>\n",
       "      <th>runtime</th>\n",
       "      <th>spoken_languages</th>\n",
       "      <th>status</th>\n",
       "      <th>tagline</th>\n",
       "      <th>title</th>\n",
       "      <th>video</th>\n",
       "      <th>vote_average</th>\n",
       "      <th>vote_count</th>\n",
       "    </tr>\n",
       "  </thead>\n",
       "  <tbody>\n",
       "    <tr>\n",
       "      <th>0</th>\n",
       "      <td>False</td>\n",
       "      <td>/hQ4pYsIbP22TMXOUdSfC2mjWrO0.jpg</td>\n",
       "      <td>NaN</td>\n",
       "      <td>0.0</td>\n",
       "      <td>[{'id': 18, 'name': '드라마'}, {'id': 80, 'name':...</td>\n",
       "      <td>NaN</td>\n",
       "      <td>2.0</td>\n",
       "      <td>tt0094675</td>\n",
       "      <td>fi</td>\n",
       "      <td>Ariel</td>\n",
       "      <td>...</td>\n",
       "      <td>1988-10-21</td>\n",
       "      <td>0.0</td>\n",
       "      <td>73.0</td>\n",
       "      <td>[{'english_name': 'German', 'iso_639_1': 'de',...</td>\n",
       "      <td>Released</td>\n",
       "      <td>NaN</td>\n",
       "      <td>아리엘</td>\n",
       "      <td>False</td>\n",
       "      <td>6.9</td>\n",
       "      <td>150.0</td>\n",
       "    </tr>\n",
       "    <tr>\n",
       "      <th>1</th>\n",
       "      <td>False</td>\n",
       "      <td>/l94l89eMmFKh7na2a1u5q67VgNx.jpg</td>\n",
       "      <td>NaN</td>\n",
       "      <td>0.0</td>\n",
       "      <td>[{'id': 18, 'name': '드라마'}, {'id': 35, 'name':...</td>\n",
       "      <td>NaN</td>\n",
       "      <td>3.0</td>\n",
       "      <td>tt0092149</td>\n",
       "      <td>fi</td>\n",
       "      <td>Varjoja paratiisissa</td>\n",
       "      <td>...</td>\n",
       "      <td>1986-10-17</td>\n",
       "      <td>0.0</td>\n",
       "      <td>76.0</td>\n",
       "      <td>[{'english_name': 'English', 'iso_639_1': 'en'...</td>\n",
       "      <td>Released</td>\n",
       "      <td>NaN</td>\n",
       "      <td>천국의 그림자</td>\n",
       "      <td>False</td>\n",
       "      <td>7.2</td>\n",
       "      <td>149.0</td>\n",
       "    </tr>\n",
       "    <tr>\n",
       "      <th>2</th>\n",
       "      <td>False</td>\n",
       "      <td>/bCXLsO2MJWzYYBJoavGOZN5iqGn.jpg</td>\n",
       "      <td>NaN</td>\n",
       "      <td>4000000.0</td>\n",
       "      <td>[{'id': 80, 'name': '범죄'}, {'id': 35, 'name': ...</td>\n",
       "      <td>https://www.miramax.com/movie/four-rooms/</td>\n",
       "      <td>5.0</td>\n",
       "      <td>tt0113101</td>\n",
       "      <td>en</td>\n",
       "      <td>Four Rooms</td>\n",
       "      <td>...</td>\n",
       "      <td>1995-12-09</td>\n",
       "      <td>4257354.0</td>\n",
       "      <td>98.0</td>\n",
       "      <td>[{'english_name': 'English', 'iso_639_1': 'en'...</td>\n",
       "      <td>Released</td>\n",
       "      <td>네 가지 이야기들로 이루어진 옴니버스 영화</td>\n",
       "      <td>포룸</td>\n",
       "      <td>False</td>\n",
       "      <td>5.7</td>\n",
       "      <td>2035.0</td>\n",
       "    </tr>\n",
       "    <tr>\n",
       "      <th>3</th>\n",
       "      <td>False</td>\n",
       "      <td>/5aXp2s4l6g5PcMMesIj63mx8hmJ.jpg</td>\n",
       "      <td>NaN</td>\n",
       "      <td>21000000.0</td>\n",
       "      <td>[{'id': 28, 'name': '액션'}, {'id': 53, 'name': ...</td>\n",
       "      <td>NaN</td>\n",
       "      <td>6.0</td>\n",
       "      <td>tt0107286</td>\n",
       "      <td>en</td>\n",
       "      <td>Judgment Night</td>\n",
       "      <td>...</td>\n",
       "      <td>1993-10-15</td>\n",
       "      <td>12136938.0</td>\n",
       "      <td>110.0</td>\n",
       "      <td>[{'english_name': 'English', 'iso_639_1': 'en'...</td>\n",
       "      <td>Released</td>\n",
       "      <td>NaN</td>\n",
       "      <td>킬러 나이트</td>\n",
       "      <td>False</td>\n",
       "      <td>6.5</td>\n",
       "      <td>215.0</td>\n",
       "    </tr>\n",
       "    <tr>\n",
       "      <th>4</th>\n",
       "      <td>False</td>\n",
       "      <td>NaN</td>\n",
       "      <td>NaN</td>\n",
       "      <td>42000.0</td>\n",
       "      <td>[{'id': 99, 'name': '다큐멘터리'}]</td>\n",
       "      <td>http://www.lifeinloops.com</td>\n",
       "      <td>8.0</td>\n",
       "      <td>tt0825671</td>\n",
       "      <td>en</td>\n",
       "      <td>Life in Loops (A Megacities RMX)</td>\n",
       "      <td>...</td>\n",
       "      <td>2006-01-01</td>\n",
       "      <td>0.0</td>\n",
       "      <td>80.0</td>\n",
       "      <td>[{'english_name': 'English', 'iso_639_1': 'en'...</td>\n",
       "      <td>Released</td>\n",
       "      <td>NaN</td>\n",
       "      <td>Life in Loops (A Megacities RMX)</td>\n",
       "      <td>False</td>\n",
       "      <td>7.5</td>\n",
       "      <td>18.0</td>\n",
       "    </tr>\n",
       "  </tbody>\n",
       "</table>\n",
       "<p>5 rows × 25 columns</p>\n",
       "</div>"
      ],
      "text/plain": [
       "   adult                     backdrop_path belongs_to_collection      budget  \\\n",
       "0  False  /hQ4pYsIbP22TMXOUdSfC2mjWrO0.jpg                   NaN         0.0   \n",
       "1  False  /l94l89eMmFKh7na2a1u5q67VgNx.jpg                   NaN         0.0   \n",
       "2  False  /bCXLsO2MJWzYYBJoavGOZN5iqGn.jpg                   NaN   4000000.0   \n",
       "3  False  /5aXp2s4l6g5PcMMesIj63mx8hmJ.jpg                   NaN  21000000.0   \n",
       "4  False                               NaN                   NaN     42000.0   \n",
       "\n",
       "                                              genres  \\\n",
       "0  [{'id': 18, 'name': '드라마'}, {'id': 80, 'name':...   \n",
       "1  [{'id': 18, 'name': '드라마'}, {'id': 35, 'name':...   \n",
       "2  [{'id': 80, 'name': '범죄'}, {'id': 35, 'name': ...   \n",
       "3  [{'id': 28, 'name': '액션'}, {'id': 53, 'name': ...   \n",
       "4                      [{'id': 99, 'name': '다큐멘터리'}]   \n",
       "\n",
       "                                    homepage   id    imdb_id  \\\n",
       "0                                        NaN  2.0  tt0094675   \n",
       "1                                        NaN  3.0  tt0092149   \n",
       "2  https://www.miramax.com/movie/four-rooms/  5.0  tt0113101   \n",
       "3                                        NaN  6.0  tt0107286   \n",
       "4                 http://www.lifeinloops.com  8.0  tt0825671   \n",
       "\n",
       "  original_language                    original_title  ... release_date  \\\n",
       "0                fi                             Ariel  ...   1988-10-21   \n",
       "1                fi              Varjoja paratiisissa  ...   1986-10-17   \n",
       "2                en                        Four Rooms  ...   1995-12-09   \n",
       "3                en                    Judgment Night  ...   1993-10-15   \n",
       "4                en  Life in Loops (A Megacities RMX)  ...   2006-01-01   \n",
       "\n",
       "      revenue runtime                                   spoken_languages  \\\n",
       "0         0.0    73.0  [{'english_name': 'German', 'iso_639_1': 'de',...   \n",
       "1         0.0    76.0  [{'english_name': 'English', 'iso_639_1': 'en'...   \n",
       "2   4257354.0    98.0  [{'english_name': 'English', 'iso_639_1': 'en'...   \n",
       "3  12136938.0   110.0  [{'english_name': 'English', 'iso_639_1': 'en'...   \n",
       "4         0.0    80.0  [{'english_name': 'English', 'iso_639_1': 'en'...   \n",
       "\n",
       "     status                  tagline                             title  video  \\\n",
       "0  Released                      NaN                               아리엘  False   \n",
       "1  Released                      NaN                           천국의 그림자  False   \n",
       "2  Released  네 가지 이야기들로 이루어진 옴니버스 영화                                포룸  False   \n",
       "3  Released                      NaN                            킬러 나이트  False   \n",
       "4  Released                      NaN  Life in Loops (A Megacities RMX)  False   \n",
       "\n",
       "  vote_average vote_count  \n",
       "0          6.9      150.0  \n",
       "1          7.2      149.0  \n",
       "2          5.7     2035.0  \n",
       "3          6.5      215.0  \n",
       "4          7.5       18.0  \n",
       "\n",
       "[5 rows x 25 columns]"
      ]
     },
     "execution_count": 7,
     "metadata": {},
     "output_type": "execute_result"
    }
   ],
   "source": [
    "movies.head()\n",
    "\n",
    "# 다음에 해당하는 영화를 다수 포함하고 있음. \n",
    "# budget, revenue, runtime 값이 0인 영화  => data입력이 없을 경우 zero로 입력되어 있음. 모두 제거하기로 \n",
    "# genre, release_date 정보가 없는 영화 \n",
    "# 필요없는 칼럼: adult, poster_path,backdrop_path, belongs_to_collection, homepage, imdb_id, tagline, overview, video"
   ]
  },
  {
   "cell_type": "code",
   "execution_count": 8,
   "metadata": {},
   "outputs": [],
   "source": [
    "# 원본 데이터프레임 보존\n",
    "\n",
    "movies_backup=movies.copy()"
   ]
  },
  {
   "cell_type": "code",
   "execution_count": 9,
   "metadata": {},
   "outputs": [
    {
     "data": {
      "text/plain": [
       "0"
      ]
     },
     "execution_count": 9,
     "metadata": {},
     "output_type": "execute_result"
    }
   ],
   "source": [
    "# 중복데이터 여부 확인 \n",
    "\n",
    "sum(movies.duplicated())"
   ]
  },
  {
   "cell_type": "code",
   "execution_count": 10,
   "metadata": {},
   "outputs": [],
   "source": [
    "# 필요없는 칼럼제거 (adult, poster_path, backdrop_path, belongs_to_collection, homepage, imdb_id, tagline, overview, video)\n",
    "movies=movies.drop(['adult','poster_path','backdrop_path','belongs_to_collection','homepage','imdb_id','tagline','overview','video'], axis=1)"
   ]
  },
  {
   "cell_type": "code",
   "execution_count": 11,
   "metadata": {},
   "outputs": [
    {
     "data": {
      "text/html": [
       "<div>\n",
       "<style scoped>\n",
       "    .dataframe tbody tr th:only-of-type {\n",
       "        vertical-align: middle;\n",
       "    }\n",
       "\n",
       "    .dataframe tbody tr th {\n",
       "        vertical-align: top;\n",
       "    }\n",
       "\n",
       "    .dataframe thead th {\n",
       "        text-align: right;\n",
       "    }\n",
       "</style>\n",
       "<table border=\"1\" class=\"dataframe\">\n",
       "  <thead>\n",
       "    <tr style=\"text-align: right;\">\n",
       "      <th></th>\n",
       "      <th>budget</th>\n",
       "      <th>genres</th>\n",
       "      <th>id</th>\n",
       "      <th>original_language</th>\n",
       "      <th>original_title</th>\n",
       "      <th>popularity</th>\n",
       "      <th>production_companies</th>\n",
       "      <th>production_countries</th>\n",
       "      <th>release_date</th>\n",
       "      <th>revenue</th>\n",
       "      <th>runtime</th>\n",
       "      <th>spoken_languages</th>\n",
       "      <th>status</th>\n",
       "      <th>title</th>\n",
       "      <th>vote_average</th>\n",
       "      <th>vote_count</th>\n",
       "    </tr>\n",
       "  </thead>\n",
       "  <tbody>\n",
       "    <tr>\n",
       "      <th>False</th>\n",
       "      <td>630157</td>\n",
       "      <td>630155</td>\n",
       "      <td>630156</td>\n",
       "      <td>630157</td>\n",
       "      <td>630130</td>\n",
       "      <td>630119</td>\n",
       "      <td>630119</td>\n",
       "      <td>630088</td>\n",
       "      <td>571778</td>\n",
       "      <td>630088</td>\n",
       "      <td>577000</td>\n",
       "      <td>630088</td>\n",
       "      <td>630088</td>\n",
       "      <td>630086</td>\n",
       "      <td>630086</td>\n",
       "      <td>630086</td>\n",
       "    </tr>\n",
       "    <tr>\n",
       "      <th>True</th>\n",
       "      <td>2</td>\n",
       "      <td>4</td>\n",
       "      <td>3</td>\n",
       "      <td>2</td>\n",
       "      <td>29</td>\n",
       "      <td>40</td>\n",
       "      <td>40</td>\n",
       "      <td>71</td>\n",
       "      <td>58381</td>\n",
       "      <td>71</td>\n",
       "      <td>53159</td>\n",
       "      <td>71</td>\n",
       "      <td>71</td>\n",
       "      <td>73</td>\n",
       "      <td>73</td>\n",
       "      <td>73</td>\n",
       "    </tr>\n",
       "  </tbody>\n",
       "</table>\n",
       "</div>"
      ],
      "text/plain": [
       "       budget  genres      id  original_language  original_title  popularity  \\\n",
       "False  630157  630155  630156             630157          630130      630119   \n",
       "True        2       4       3                  2              29          40   \n",
       "\n",
       "       production_companies  production_countries  release_date  revenue  \\\n",
       "False                630119                630088        571778   630088   \n",
       "True                     40                    71         58381       71   \n",
       "\n",
       "       runtime  spoken_languages  status   title  vote_average  vote_count  \n",
       "False   577000            630088  630088  630086        630086      630086  \n",
       "True     53159                71      71      73            73          73  "
      ]
     },
     "execution_count": 11,
     "metadata": {},
     "output_type": "execute_result"
    }
   ],
   "source": [
    "# na를 포함하는 데이터 수 확인\n",
    "\n",
    "movies.isna().apply(pd.value_counts)"
   ]
  },
  {
   "cell_type": "code",
   "execution_count": 12,
   "metadata": {},
   "outputs": [
    {
     "data": {
      "text/plain": [
       "(529373, 16)"
      ]
     },
     "execution_count": 12,
     "metadata": {},
     "output_type": "execute_result"
    }
   ],
   "source": [
    "# na를 포함한 행제거 후 남은 자료수 확인\n",
    "\n",
    "movies=movies.dropna()\n",
    "movies.shape"
   ]
  },
  {
   "cell_type": "code",
   "execution_count": 13,
   "metadata": {},
   "outputs": [],
   "source": [
    "# release_date 데이터 타입 변경 \n",
    "\n",
    "movies['release_date']=pd.to_datetime(movies['release_date'])"
   ]
  },
  {
   "cell_type": "code",
   "execution_count": 14,
   "metadata": {},
   "outputs": [],
   "source": [
    "# budget, revenue, popularity 데이터 타입 변경\n",
    "\n",
    "movies['budget']=pd.to_numeric(movies['budget'])\n",
    "movies['revenue']=pd.to_numeric(movies['revenue'])\n",
    "movies['popularity']=pd.to_numeric(movies['popularity'])"
   ]
  },
  {
   "cell_type": "code",
   "execution_count": 15,
   "metadata": {},
   "outputs": [
    {
     "name": "stdout",
     "output_type": "stream",
     "text": [
      "<class 'pandas.core.frame.DataFrame'>\n",
      "Int64Index: 529373 entries, 0 to 630184\n",
      "Data columns (total 16 columns):\n",
      " #   Column                Non-Null Count   Dtype         \n",
      "---  ------                --------------   -----         \n",
      " 0   budget                529373 non-null  float64       \n",
      " 1   genres                529373 non-null  object        \n",
      " 2   id                    529373 non-null  object        \n",
      " 3   original_language     529373 non-null  object        \n",
      " 4   original_title        529373 non-null  object        \n",
      " 5   popularity            529373 non-null  float64       \n",
      " 6   production_companies  529373 non-null  object        \n",
      " 7   production_countries  529373 non-null  object        \n",
      " 8   release_date          529373 non-null  datetime64[ns]\n",
      " 9   revenue               529373 non-null  float64       \n",
      " 10  runtime               529373 non-null  float64       \n",
      " 11  spoken_languages      529373 non-null  object        \n",
      " 12  status                529373 non-null  object        \n",
      " 13  title                 529373 non-null  object        \n",
      " 14  vote_average          529373 non-null  float64       \n",
      " 15  vote_count            529373 non-null  float64       \n",
      "dtypes: datetime64[ns](1), float64(6), object(9)\n",
      "memory usage: 68.7+ MB\n"
     ]
    }
   ],
   "source": [
    "# 데이터 타입 변경여부 확인\n",
    "movies.info()"
   ]
  },
  {
   "cell_type": "code",
   "execution_count": 16,
   "metadata": {},
   "outputs": [
    {
     "data": {
      "text/html": [
       "<div>\n",
       "<style scoped>\n",
       "    .dataframe tbody tr th:only-of-type {\n",
       "        vertical-align: middle;\n",
       "    }\n",
       "\n",
       "    .dataframe tbody tr th {\n",
       "        vertical-align: top;\n",
       "    }\n",
       "\n",
       "    .dataframe thead th {\n",
       "        text-align: right;\n",
       "    }\n",
       "</style>\n",
       "<table border=\"1\" class=\"dataframe\">\n",
       "  <thead>\n",
       "    <tr style=\"text-align: right;\">\n",
       "      <th></th>\n",
       "      <th>budget</th>\n",
       "      <th>popularity</th>\n",
       "      <th>revenue</th>\n",
       "      <th>runtime</th>\n",
       "      <th>vote_average</th>\n",
       "      <th>vote_count</th>\n",
       "    </tr>\n",
       "  </thead>\n",
       "  <tbody>\n",
       "    <tr>\n",
       "      <th>count</th>\n",
       "      <td>5.293730e+05</td>\n",
       "      <td>529373.000000</td>\n",
       "      <td>5.293730e+05</td>\n",
       "      <td>529373.000000</td>\n",
       "      <td>529373.000000</td>\n",
       "      <td>529373.000000</td>\n",
       "    </tr>\n",
       "    <tr>\n",
       "      <th>mean</th>\n",
       "      <td>3.778993e+05</td>\n",
       "      <td>1.566590</td>\n",
       "      <td>1.020239e+06</td>\n",
       "      <td>58.224787</td>\n",
       "      <td>2.424713</td>\n",
       "      <td>25.721559</td>\n",
       "    </tr>\n",
       "    <tr>\n",
       "      <th>std</th>\n",
       "      <td>5.349497e+06</td>\n",
       "      <td>19.998837</td>\n",
       "      <td>2.043374e+07</td>\n",
       "      <td>115.593764</td>\n",
       "      <td>3.208772</td>\n",
       "      <td>358.426959</td>\n",
       "    </tr>\n",
       "    <tr>\n",
       "      <th>min</th>\n",
       "      <td>0.000000e+00</td>\n",
       "      <td>0.600000</td>\n",
       "      <td>-1.200000e+01</td>\n",
       "      <td>0.000000</td>\n",
       "      <td>0.000000</td>\n",
       "      <td>0.000000</td>\n",
       "    </tr>\n",
       "    <tr>\n",
       "      <th>25%</th>\n",
       "      <td>0.000000e+00</td>\n",
       "      <td>0.600000</td>\n",
       "      <td>0.000000e+00</td>\n",
       "      <td>7.000000</td>\n",
       "      <td>0.000000</td>\n",
       "      <td>0.000000</td>\n",
       "    </tr>\n",
       "    <tr>\n",
       "      <th>50%</th>\n",
       "      <td>0.000000e+00</td>\n",
       "      <td>0.600000</td>\n",
       "      <td>0.000000e+00</td>\n",
       "      <td>59.000000</td>\n",
       "      <td>0.000000</td>\n",
       "      <td>0.000000</td>\n",
       "    </tr>\n",
       "    <tr>\n",
       "      <th>75%</th>\n",
       "      <td>0.000000e+00</td>\n",
       "      <td>0.869000</td>\n",
       "      <td>0.000000e+00</td>\n",
       "      <td>92.000000</td>\n",
       "      <td>5.600000</td>\n",
       "      <td>2.000000</td>\n",
       "    </tr>\n",
       "    <tr>\n",
       "      <th>max</th>\n",
       "      <td>3.800000e+08</td>\n",
       "      <td>8117.008000</td>\n",
       "      <td>2.847246e+09</td>\n",
       "      <td>51420.000000</td>\n",
       "      <td>10.000000</td>\n",
       "      <td>27092.000000</td>\n",
       "    </tr>\n",
       "  </tbody>\n",
       "</table>\n",
       "</div>"
      ],
      "text/plain": [
       "             budget     popularity       revenue        runtime  \\\n",
       "count  5.293730e+05  529373.000000  5.293730e+05  529373.000000   \n",
       "mean   3.778993e+05       1.566590  1.020239e+06      58.224787   \n",
       "std    5.349497e+06      19.998837  2.043374e+07     115.593764   \n",
       "min    0.000000e+00       0.600000 -1.200000e+01       0.000000   \n",
       "25%    0.000000e+00       0.600000  0.000000e+00       7.000000   \n",
       "50%    0.000000e+00       0.600000  0.000000e+00      59.000000   \n",
       "75%    0.000000e+00       0.869000  0.000000e+00      92.000000   \n",
       "max    3.800000e+08    8117.008000  2.847246e+09   51420.000000   \n",
       "\n",
       "        vote_average     vote_count  \n",
       "count  529373.000000  529373.000000  \n",
       "mean        2.424713      25.721559  \n",
       "std         3.208772     358.426959  \n",
       "min         0.000000       0.000000  \n",
       "25%         0.000000       0.000000  \n",
       "50%         0.000000       0.000000  \n",
       "75%         5.600000       2.000000  \n",
       "max        10.000000   27092.000000  "
      ]
     },
     "execution_count": 16,
     "metadata": {},
     "output_type": "execute_result"
    }
   ],
   "source": [
    "movies.describe()"
   ]
  },
  {
   "cell_type": "code",
   "execution_count": 17,
   "metadata": {},
   "outputs": [],
   "source": [
    "# revenue, budget, runtime이 모두 zero인 영화는 웹페이지에서 값입력이 없는 것으로 확인되어 제거함. \n",
    "\n",
    "movies_revenue_zero_removal=movies[movies['revenue'] !=0]\n",
    "movies_revenue_budget_zero_removal=movies_revenue_zero_removal[movies_revenue_zero_removal['budget'] !=0]\n",
    "movies_revenue_budget_runtime_zero_removal=movies_revenue_budget_zero_removal[movies_revenue_budget_zero_removal['runtime'] !=0]"
   ]
  },
  {
   "cell_type": "code",
   "execution_count": 18,
   "metadata": {},
   "outputs": [
    {
     "name": "stdout",
     "output_type": "stream",
     "text": [
      "<class 'pandas.core.frame.DataFrame'>\n",
      "Int64Index: 7069 entries, 2 to 630092\n",
      "Data columns (total 16 columns):\n",
      " #   Column                Non-Null Count  Dtype         \n",
      "---  ------                --------------  -----         \n",
      " 0   budget                7069 non-null   float64       \n",
      " 1   genres                7069 non-null   object        \n",
      " 2   id                    7069 non-null   object        \n",
      " 3   original_language     7069 non-null   object        \n",
      " 4   original_title        7069 non-null   object        \n",
      " 5   popularity            7069 non-null   float64       \n",
      " 6   production_companies  7069 non-null   object        \n",
      " 7   production_countries  7069 non-null   object        \n",
      " 8   release_date          7069 non-null   datetime64[ns]\n",
      " 9   revenue               7069 non-null   float64       \n",
      " 10  runtime               7069 non-null   float64       \n",
      " 11  spoken_languages      7069 non-null   object        \n",
      " 12  status                7069 non-null   object        \n",
      " 13  title                 7069 non-null   object        \n",
      " 14  vote_average          7069 non-null   float64       \n",
      " 15  vote_count            7069 non-null   float64       \n",
      "dtypes: datetime64[ns](1), float64(6), object(9)\n",
      "memory usage: 938.9+ KB\n"
     ]
    }
   ],
   "source": [
    "# 데이터 타입 변경여부 확인\n",
    "\n",
    "movies_revenue_budget_runtime_zero_removal.info()"
   ]
  },
  {
   "cell_type": "code",
   "execution_count": 19,
   "metadata": {},
   "outputs": [
    {
     "name": "stderr",
     "output_type": "stream",
     "text": [
      "C:\\Users\\user\\AppData\\Local\\Temp/ipykernel_6688/4225925871.py:3: SettingWithCopyWarning: \n",
      "A value is trying to be set on a copy of a slice from a DataFrame.\n",
      "Try using .loc[row_indexer,col_indexer] = value instead\n",
      "\n",
      "See the caveats in the documentation: https://pandas.pydata.org/pandas-docs/stable/user_guide/indexing.html#returning-a-view-versus-a-copy\n",
      "  movies_revenue_budget_runtime_zero_removal['profit'] = movies_revenue_budget_runtime_zero_removal['revenue'] -movies_revenue_budget_runtime_zero_removal['budget']\n",
      "C:\\Users\\user\\AppData\\Local\\Temp/ipykernel_6688/4225925871.py:4: SettingWithCopyWarning: \n",
      "A value is trying to be set on a copy of a slice from a DataFrame.\n",
      "Try using .loc[row_indexer,col_indexer] = value instead\n",
      "\n",
      "See the caveats in the documentation: https://pandas.pydata.org/pandas-docs/stable/user_guide/indexing.html#returning-a-view-versus-a-copy\n",
      "  movies_revenue_budget_runtime_zero_removal['release_year'] = movies_revenue_budget_runtime_zero_removal['release_date'].dt.year\n",
      "C:\\Users\\user\\AppData\\Local\\Temp/ipykernel_6688/4225925871.py:5: SettingWithCopyWarning: \n",
      "A value is trying to be set on a copy of a slice from a DataFrame.\n",
      "Try using .loc[row_indexer,col_indexer] = value instead\n",
      "\n",
      "See the caveats in the documentation: https://pandas.pydata.org/pandas-docs/stable/user_guide/indexing.html#returning-a-view-versus-a-copy\n",
      "  movies_revenue_budget_runtime_zero_removal['release_month'] = movies_revenue_budget_runtime_zero_removal['release_date'].dt.month\n",
      "C:\\Users\\user\\AppData\\Local\\Temp/ipykernel_6688/4225925871.py:6: SettingWithCopyWarning: \n",
      "A value is trying to be set on a copy of a slice from a DataFrame.\n",
      "Try using .loc[row_indexer,col_indexer] = value instead\n",
      "\n",
      "See the caveats in the documentation: https://pandas.pydata.org/pandas-docs/stable/user_guide/indexing.html#returning-a-view-versus-a-copy\n",
      "  movies_revenue_budget_runtime_zero_removal['release_day'] = movies_revenue_budget_runtime_zero_removal['release_date'].dt.weekday # 월요일(0)~일요일(6)\n"
     ]
    }
   ],
   "source": [
    "# 칼럼 재구성: profit, 개봉년, 개봉월, 개봉요일, 계절 칼럼 추가\n",
    "\n",
    "movies_revenue_budget_runtime_zero_removal['profit'] = movies_revenue_budget_runtime_zero_removal['revenue'] -movies_revenue_budget_runtime_zero_removal['budget']\n",
    "movies_revenue_budget_runtime_zero_removal['release_year'] = movies_revenue_budget_runtime_zero_removal['release_date'].dt.year\n",
    "movies_revenue_budget_runtime_zero_removal['release_month'] = movies_revenue_budget_runtime_zero_removal['release_date'].dt.month\n",
    "movies_revenue_budget_runtime_zero_removal['release_day'] = movies_revenue_budget_runtime_zero_removal['release_date'].dt.weekday # 월요일(0)~일요일(6)"
   ]
  },
  {
   "cell_type": "code",
   "execution_count": 20,
   "metadata": {},
   "outputs": [
    {
     "name": "stderr",
     "output_type": "stream",
     "text": [
      "C:\\Users\\user\\AppData\\Local\\Temp/ipykernel_6688/3242895853.py:13: SettingWithCopyWarning: \n",
      "A value is trying to be set on a copy of a slice from a DataFrame.\n",
      "Try using .loc[row_indexer,col_indexer] = value instead\n",
      "\n",
      "See the caveats in the documentation: https://pandas.pydata.org/pandas-docs/stable/user_guide/indexing.html#returning-a-view-versus-a-copy\n",
      "  movies_revenue_budget_runtime_zero_removal['seasons']=movies_revenue_budget_runtime_zero_removal.release_month.apply(to_season)\n"
     ]
    }
   ],
   "source": [
    "# 계절 칼럼 추가를 위한 함수: 3~5월 봄, 6-8월 여름, 9-11월 가을, 12-2월 겨울\n",
    "\n",
    "def to_season(month):\n",
    "    if 3<= month <=5:\n",
    "        return 'spring'\n",
    "    elif 6<= month <=8:\n",
    "        return 'summer'\n",
    "    elif 9<= month <=11:\n",
    "        return 'fall'\n",
    "    else:\n",
    "        return 'winter'\n",
    "\n",
    "movies_revenue_budget_runtime_zero_removal['seasons']=movies_revenue_budget_runtime_zero_removal.release_month.apply(to_season)"
   ]
  },
  {
   "cell_type": "code",
   "execution_count": 21,
   "metadata": {},
   "outputs": [
    {
     "data": {
      "text/html": [
       "<div>\n",
       "<style scoped>\n",
       "    .dataframe tbody tr th:only-of-type {\n",
       "        vertical-align: middle;\n",
       "    }\n",
       "\n",
       "    .dataframe tbody tr th {\n",
       "        vertical-align: top;\n",
       "    }\n",
       "\n",
       "    .dataframe thead th {\n",
       "        text-align: right;\n",
       "    }\n",
       "</style>\n",
       "<table border=\"1\" class=\"dataframe\">\n",
       "  <thead>\n",
       "    <tr style=\"text-align: right;\">\n",
       "      <th></th>\n",
       "      <th>budget</th>\n",
       "      <th>genres</th>\n",
       "      <th>id</th>\n",
       "      <th>original_language</th>\n",
       "      <th>original_title</th>\n",
       "      <th>popularity</th>\n",
       "      <th>production_companies</th>\n",
       "      <th>production_countries</th>\n",
       "      <th>release_date</th>\n",
       "      <th>revenue</th>\n",
       "      <th>...</th>\n",
       "      <th>spoken_languages</th>\n",
       "      <th>status</th>\n",
       "      <th>title</th>\n",
       "      <th>vote_average</th>\n",
       "      <th>vote_count</th>\n",
       "      <th>profit</th>\n",
       "      <th>release_year</th>\n",
       "      <th>release_month</th>\n",
       "      <th>release_day</th>\n",
       "      <th>seasons</th>\n",
       "    </tr>\n",
       "  </thead>\n",
       "  <tbody>\n",
       "    <tr>\n",
       "      <th>2</th>\n",
       "      <td>4000000.0</td>\n",
       "      <td>[{'id': 80, 'name': '범죄'}, {'id': 35, 'name': ...</td>\n",
       "      <td>5.0</td>\n",
       "      <td>en</td>\n",
       "      <td>Four Rooms</td>\n",
       "      <td>12.067</td>\n",
       "      <td>[{'id': 14, 'logo_path': '/m6AHu84oZQxvq7n1rsv...</td>\n",
       "      <td>[{'iso_3166_1': 'US', 'name': 'United States o...</td>\n",
       "      <td>1995-12-09</td>\n",
       "      <td>4257354.0</td>\n",
       "      <td>...</td>\n",
       "      <td>[{'english_name': 'English', 'iso_639_1': 'en'...</td>\n",
       "      <td>Released</td>\n",
       "      <td>포룸</td>\n",
       "      <td>5.7</td>\n",
       "      <td>2035.0</td>\n",
       "      <td>257354.0</td>\n",
       "      <td>1995</td>\n",
       "      <td>12</td>\n",
       "      <td>5</td>\n",
       "      <td>winter</td>\n",
       "    </tr>\n",
       "    <tr>\n",
       "      <th>3</th>\n",
       "      <td>21000000.0</td>\n",
       "      <td>[{'id': 28, 'name': '액션'}, {'id': 53, 'name': ...</td>\n",
       "      <td>6.0</td>\n",
       "      <td>en</td>\n",
       "      <td>Judgment Night</td>\n",
       "      <td>8.330</td>\n",
       "      <td>[{'id': 33, 'logo_path': '/8lvHyhjr8oUKOOy2dKX...</td>\n",
       "      <td>[{'iso_3166_1': 'JP', 'name': 'Japan'}, {'iso_...</td>\n",
       "      <td>1993-10-15</td>\n",
       "      <td>12136938.0</td>\n",
       "      <td>...</td>\n",
       "      <td>[{'english_name': 'English', 'iso_639_1': 'en'...</td>\n",
       "      <td>Released</td>\n",
       "      <td>킬러 나이트</td>\n",
       "      <td>6.5</td>\n",
       "      <td>215.0</td>\n",
       "      <td>-8863062.0</td>\n",
       "      <td>1993</td>\n",
       "      <td>10</td>\n",
       "      <td>4</td>\n",
       "      <td>fall</td>\n",
       "    </tr>\n",
       "  </tbody>\n",
       "</table>\n",
       "<p>2 rows × 21 columns</p>\n",
       "</div>"
      ],
      "text/plain": [
       "       budget                                             genres   id  \\\n",
       "2   4000000.0  [{'id': 80, 'name': '범죄'}, {'id': 35, 'name': ...  5.0   \n",
       "3  21000000.0  [{'id': 28, 'name': '액션'}, {'id': 53, 'name': ...  6.0   \n",
       "\n",
       "  original_language  original_title  popularity  \\\n",
       "2                en      Four Rooms      12.067   \n",
       "3                en  Judgment Night       8.330   \n",
       "\n",
       "                                production_companies  \\\n",
       "2  [{'id': 14, 'logo_path': '/m6AHu84oZQxvq7n1rsv...   \n",
       "3  [{'id': 33, 'logo_path': '/8lvHyhjr8oUKOOy2dKX...   \n",
       "\n",
       "                                production_countries release_date     revenue  \\\n",
       "2  [{'iso_3166_1': 'US', 'name': 'United States o...   1995-12-09   4257354.0   \n",
       "3  [{'iso_3166_1': 'JP', 'name': 'Japan'}, {'iso_...   1993-10-15  12136938.0   \n",
       "\n",
       "   ...                                   spoken_languages    status   title  \\\n",
       "2  ...  [{'english_name': 'English', 'iso_639_1': 'en'...  Released      포룸   \n",
       "3  ...  [{'english_name': 'English', 'iso_639_1': 'en'...  Released  킬러 나이트   \n",
       "\n",
       "  vote_average  vote_count     profit  release_year  release_month  \\\n",
       "2          5.7      2035.0   257354.0          1995             12   \n",
       "3          6.5       215.0 -8863062.0          1993             10   \n",
       "\n",
       "   release_day  seasons  \n",
       "2            5   winter  \n",
       "3            4     fall  \n",
       "\n",
       "[2 rows x 21 columns]"
      ]
     },
     "execution_count": 21,
     "metadata": {},
     "output_type": "execute_result"
    }
   ],
   "source": [
    "movies_revenue_budget_runtime_zero_removal.head(2)"
   ]
  },
  {
   "cell_type": "code",
   "execution_count": 22,
   "metadata": {},
   "outputs": [
    {
     "name": "stdout",
     "output_type": "stream",
     "text": [
      "<class 'pandas.core.frame.DataFrame'>\n",
      "Int64Index: 7069 entries, 2 to 630092\n",
      "Data columns (total 21 columns):\n",
      " #   Column                Non-Null Count  Dtype         \n",
      "---  ------                --------------  -----         \n",
      " 0   budget                7069 non-null   float64       \n",
      " 1   genres                7069 non-null   object        \n",
      " 2   id                    7069 non-null   object        \n",
      " 3   original_language     7069 non-null   object        \n",
      " 4   original_title        7069 non-null   object        \n",
      " 5   popularity            7069 non-null   float64       \n",
      " 6   production_companies  7069 non-null   object        \n",
      " 7   production_countries  7069 non-null   object        \n",
      " 8   release_date          7069 non-null   datetime64[ns]\n",
      " 9   revenue               7069 non-null   float64       \n",
      " 10  runtime               7069 non-null   float64       \n",
      " 11  spoken_languages      7069 non-null   object        \n",
      " 12  status                7069 non-null   object        \n",
      " 13  title                 7069 non-null   object        \n",
      " 14  vote_average          7069 non-null   float64       \n",
      " 15  vote_count            7069 non-null   float64       \n",
      " 16  profit                7069 non-null   float64       \n",
      " 17  release_year          7069 non-null   int64         \n",
      " 18  release_month         7069 non-null   int64         \n",
      " 19  release_day           7069 non-null   int64         \n",
      " 20  seasons               7069 non-null   object        \n",
      "dtypes: datetime64[ns](1), float64(7), int64(3), object(10)\n",
      "memory usage: 1.2+ MB\n"
     ]
    }
   ],
   "source": [
    "# 칼럼추가 확인 \n",
    "\n",
    "movies_revenue_budget_runtime_zero_removal.info()"
   ]
  },
  {
   "cell_type": "code",
   "execution_count": 23,
   "metadata": {},
   "outputs": [
    {
     "data": {
      "text/html": [
       "<div>\n",
       "<style scoped>\n",
       "    .dataframe tbody tr th:only-of-type {\n",
       "        vertical-align: middle;\n",
       "    }\n",
       "\n",
       "    .dataframe tbody tr th {\n",
       "        vertical-align: top;\n",
       "    }\n",
       "\n",
       "    .dataframe thead th {\n",
       "        text-align: right;\n",
       "    }\n",
       "</style>\n",
       "<table border=\"1\" class=\"dataframe\">\n",
       "  <thead>\n",
       "    <tr style=\"text-align: right;\">\n",
       "      <th></th>\n",
       "      <th>budget</th>\n",
       "      <th>popularity</th>\n",
       "      <th>revenue</th>\n",
       "      <th>runtime</th>\n",
       "      <th>vote_average</th>\n",
       "      <th>vote_count</th>\n",
       "      <th>profit</th>\n",
       "      <th>release_year</th>\n",
       "      <th>release_month</th>\n",
       "      <th>release_day</th>\n",
       "    </tr>\n",
       "  </thead>\n",
       "  <tbody>\n",
       "    <tr>\n",
       "      <th>count</th>\n",
       "      <td>7.069000e+03</td>\n",
       "      <td>7069.000000</td>\n",
       "      <td>7.069000e+03</td>\n",
       "      <td>7069.000000</td>\n",
       "      <td>7069.000000</td>\n",
       "      <td>7069.000000</td>\n",
       "      <td>7.069000e+03</td>\n",
       "      <td>7069.000000</td>\n",
       "      <td>7069.000000</td>\n",
       "      <td>7069.000000</td>\n",
       "    </tr>\n",
       "    <tr>\n",
       "      <th>mean</th>\n",
       "      <td>2.422871e+07</td>\n",
       "      <td>23.592395</td>\n",
       "      <td>7.214051e+07</td>\n",
       "      <td>105.115434</td>\n",
       "      <td>6.130033</td>\n",
       "      <td>1437.733626</td>\n",
       "      <td>4.791180e+07</td>\n",
       "      <td>2002.581978</td>\n",
       "      <td>6.854435</td>\n",
       "      <td>3.205545</td>\n",
       "    </tr>\n",
       "    <tr>\n",
       "      <th>std</th>\n",
       "      <td>3.728906e+07</td>\n",
       "      <td>134.186815</td>\n",
       "      <td>1.598070e+08</td>\n",
       "      <td>31.733330</td>\n",
       "      <td>1.984751</td>\n",
       "      <td>2702.572756</td>\n",
       "      <td>1.349581e+08</td>\n",
       "      <td>17.264642</td>\n",
       "      <td>3.423867</td>\n",
       "      <td>1.356008</td>\n",
       "    </tr>\n",
       "    <tr>\n",
       "      <th>min</th>\n",
       "      <td>1.000000e+00</td>\n",
       "      <td>0.600000</td>\n",
       "      <td>-1.200000e+01</td>\n",
       "      <td>1.000000</td>\n",
       "      <td>0.000000</td>\n",
       "      <td>0.000000</td>\n",
       "      <td>-1.947758e+08</td>\n",
       "      <td>1914.000000</td>\n",
       "      <td>1.000000</td>\n",
       "      <td>0.000000</td>\n",
       "    </tr>\n",
       "    <tr>\n",
       "      <th>25%</th>\n",
       "      <td>1.500000e+06</td>\n",
       "      <td>4.999000</td>\n",
       "      <td>1.598584e+06</td>\n",
       "      <td>93.000000</td>\n",
       "      <td>5.800000</td>\n",
       "      <td>56.000000</td>\n",
       "      <td>-6.163000e+04</td>\n",
       "      <td>1996.000000</td>\n",
       "      <td>4.000000</td>\n",
       "      <td>2.000000</td>\n",
       "    </tr>\n",
       "    <tr>\n",
       "      <th>50%</th>\n",
       "      <td>1.000000e+07</td>\n",
       "      <td>12.120000</td>\n",
       "      <td>1.713345e+07</td>\n",
       "      <td>104.000000</td>\n",
       "      <td>6.500000</td>\n",
       "      <td>433.000000</td>\n",
       "      <td>3.913000e+06</td>\n",
       "      <td>2007.000000</td>\n",
       "      <td>7.000000</td>\n",
       "      <td>4.000000</td>\n",
       "    </tr>\n",
       "    <tr>\n",
       "      <th>75%</th>\n",
       "      <td>3.000000e+07</td>\n",
       "      <td>18.963000</td>\n",
       "      <td>6.982320e+07</td>\n",
       "      <td>120.000000</td>\n",
       "      <td>7.100000</td>\n",
       "      <td>1475.000000</td>\n",
       "      <td>4.113406e+07</td>\n",
       "      <td>2015.000000</td>\n",
       "      <td>10.000000</td>\n",
       "      <td>4.000000</td>\n",
       "    </tr>\n",
       "    <tr>\n",
       "      <th>max</th>\n",
       "      <td>3.800000e+08</td>\n",
       "      <td>8117.008000</td>\n",
       "      <td>2.847246e+09</td>\n",
       "      <td>480.000000</td>\n",
       "      <td>10.000000</td>\n",
       "      <td>27092.000000</td>\n",
       "      <td>2.610246e+09</td>\n",
       "      <td>2023.000000</td>\n",
       "      <td>12.000000</td>\n",
       "      <td>6.000000</td>\n",
       "    </tr>\n",
       "  </tbody>\n",
       "</table>\n",
       "</div>"
      ],
      "text/plain": [
       "             budget   popularity       revenue      runtime  vote_average  \\\n",
       "count  7.069000e+03  7069.000000  7.069000e+03  7069.000000   7069.000000   \n",
       "mean   2.422871e+07    23.592395  7.214051e+07   105.115434      6.130033   \n",
       "std    3.728906e+07   134.186815  1.598070e+08    31.733330      1.984751   \n",
       "min    1.000000e+00     0.600000 -1.200000e+01     1.000000      0.000000   \n",
       "25%    1.500000e+06     4.999000  1.598584e+06    93.000000      5.800000   \n",
       "50%    1.000000e+07    12.120000  1.713345e+07   104.000000      6.500000   \n",
       "75%    3.000000e+07    18.963000  6.982320e+07   120.000000      7.100000   \n",
       "max    3.800000e+08  8117.008000  2.847246e+09   480.000000     10.000000   \n",
       "\n",
       "         vote_count        profit  release_year  release_month  release_day  \n",
       "count   7069.000000  7.069000e+03   7069.000000    7069.000000  7069.000000  \n",
       "mean    1437.733626  4.791180e+07   2002.581978       6.854435     3.205545  \n",
       "std     2702.572756  1.349581e+08     17.264642       3.423867     1.356008  \n",
       "min        0.000000 -1.947758e+08   1914.000000       1.000000     0.000000  \n",
       "25%       56.000000 -6.163000e+04   1996.000000       4.000000     2.000000  \n",
       "50%      433.000000  3.913000e+06   2007.000000       7.000000     4.000000  \n",
       "75%     1475.000000  4.113406e+07   2015.000000      10.000000     4.000000  \n",
       "max    27092.000000  2.610246e+09   2023.000000      12.000000     6.000000  "
      ]
     },
     "execution_count": 23,
     "metadata": {},
     "output_type": "execute_result"
    }
   ],
   "source": [
    "movies_revenue_budget_runtime_zero_removal.describe()"
   ]
  },
  {
   "cell_type": "code",
   "execution_count": 24,
   "metadata": {},
   "outputs": [
    {
     "data": {
      "text/plain": [
       "array([[<AxesSubplot:title={'center':'budget'}>,\n",
       "        <AxesSubplot:title={'center':'popularity'}>,\n",
       "        <AxesSubplot:title={'center':'release_date'}>],\n",
       "       [<AxesSubplot:title={'center':'revenue'}>,\n",
       "        <AxesSubplot:title={'center':'runtime'}>,\n",
       "        <AxesSubplot:title={'center':'vote_average'}>],\n",
       "       [<AxesSubplot:title={'center':'vote_count'}>,\n",
       "        <AxesSubplot:title={'center':'profit'}>,\n",
       "        <AxesSubplot:title={'center':'release_year'}>],\n",
       "       [<AxesSubplot:title={'center':'release_month'}>,\n",
       "        <AxesSubplot:title={'center':'release_day'}>, <AxesSubplot:>]],\n",
       "      dtype=object)"
      ]
     },
     "execution_count": 24,
     "metadata": {},
     "output_type": "execute_result"
    },
    {
     "data": {
      "image/png": "[encoded data removed]",
      "text/plain": [
       "<Figure size 1440x720 with 12 Axes>"
      ]
     },
     "metadata": {
      "needs_background": "light"
     },
     "output_type": "display_data"
    }
   ],
   "source": [
    "movies_revenue_budget_runtime_zero_removal.hist(figsize=(20,10))"
   ]
  },
  {
   "cell_type": "markdown",
   "metadata": {},
   "source": [
    "# 주요결과\n",
    "개봉영화는 매년 증가, 월별로는 11월~1월 사이 개봉영화가 가장 많음. 요일별로는 금요일 개봉영화가 많음. "
   ]
  },
  {
   "cell_type": "code",
   "execution_count": 25,
   "metadata": {},
   "outputs": [
    {
     "data": {
      "text/html": [
       "<div>\n",
       "<style scoped>\n",
       "    .dataframe tbody tr th:only-of-type {\n",
       "        vertical-align: middle;\n",
       "    }\n",
       "\n",
       "    .dataframe tbody tr th {\n",
       "        vertical-align: top;\n",
       "    }\n",
       "\n",
       "    .dataframe thead th {\n",
       "        text-align: right;\n",
       "    }\n",
       "</style>\n",
       "<table border=\"1\" class=\"dataframe\">\n",
       "  <thead>\n",
       "    <tr style=\"text-align: right;\">\n",
       "      <th></th>\n",
       "      <th>budget</th>\n",
       "      <th>popularity</th>\n",
       "      <th>revenue</th>\n",
       "      <th>runtime</th>\n",
       "      <th>vote_average</th>\n",
       "      <th>vote_count</th>\n",
       "      <th>profit</th>\n",
       "      <th>release_year</th>\n",
       "      <th>release_month</th>\n",
       "      <th>release_day</th>\n",
       "    </tr>\n",
       "  </thead>\n",
       "  <tbody>\n",
       "    <tr>\n",
       "      <th>budget</th>\n",
       "      <td>1.000000</td>\n",
       "      <td>0.216129</td>\n",
       "      <td>0.731244</td>\n",
       "      <td>0.223306</td>\n",
       "      <td>0.135016</td>\n",
       "      <td>0.584043</td>\n",
       "      <td>0.589582</td>\n",
       "      <td>0.135625</td>\n",
       "      <td>0.042740</td>\n",
       "      <td>-0.104599</td>\n",
       "    </tr>\n",
       "    <tr>\n",
       "      <th>popularity</th>\n",
       "      <td>0.216129</td>\n",
       "      <td>1.000000</td>\n",
       "      <td>0.198570</td>\n",
       "      <td>0.051272</td>\n",
       "      <td>0.066213</td>\n",
       "      <td>0.157134</td>\n",
       "      <td>0.175415</td>\n",
       "      <td>0.061771</td>\n",
       "      <td>0.017992</td>\n",
       "      <td>-0.040874</td>\n",
       "    </tr>\n",
       "    <tr>\n",
       "      <th>revenue</th>\n",
       "      <td>0.731244</td>\n",
       "      <td>0.198570</td>\n",
       "      <td>1.000000</td>\n",
       "      <td>0.188583</td>\n",
       "      <td>0.158289</td>\n",
       "      <td>0.754746</td>\n",
       "      <td>0.982079</td>\n",
       "      <td>0.071680</td>\n",
       "      <td>0.030284</td>\n",
       "      <td>-0.112208</td>\n",
       "    </tr>\n",
       "    <tr>\n",
       "      <th>runtime</th>\n",
       "      <td>0.223306</td>\n",
       "      <td>0.051272</td>\n",
       "      <td>0.188583</td>\n",
       "      <td>1.000000</td>\n",
       "      <td>0.338099</td>\n",
       "      <td>0.206565</td>\n",
       "      <td>0.161605</td>\n",
       "      <td>-0.097430</td>\n",
       "      <td>0.079175</td>\n",
       "      <td>-0.008929</td>\n",
       "    </tr>\n",
       "    <tr>\n",
       "      <th>vote_average</th>\n",
       "      <td>0.135016</td>\n",
       "      <td>0.066213</td>\n",
       "      <td>0.158289</td>\n",
       "      <td>0.338099</td>\n",
       "      <td>1.000000</td>\n",
       "      <td>0.244358</td>\n",
       "      <td>0.150129</td>\n",
       "      <td>-0.105017</td>\n",
       "      <td>0.045454</td>\n",
       "      <td>0.008725</td>\n",
       "    </tr>\n",
       "    <tr>\n",
       "      <th>vote_count</th>\n",
       "      <td>0.584043</td>\n",
       "      <td>0.157134</td>\n",
       "      <td>0.754746</td>\n",
       "      <td>0.206565</td>\n",
       "      <td>0.244358</td>\n",
       "      <td>1.000000</td>\n",
       "      <td>0.732340</td>\n",
       "      <td>0.059400</td>\n",
       "      <td>0.038111</td>\n",
       "      <td>-0.119817</td>\n",
       "    </tr>\n",
       "    <tr>\n",
       "      <th>profit</th>\n",
       "      <td>0.589582</td>\n",
       "      <td>0.175415</td>\n",
       "      <td>0.982079</td>\n",
       "      <td>0.161605</td>\n",
       "      <td>0.150129</td>\n",
       "      <td>0.732340</td>\n",
       "      <td>1.000000</td>\n",
       "      <td>0.047404</td>\n",
       "      <td>0.024051</td>\n",
       "      <td>-0.103967</td>\n",
       "    </tr>\n",
       "    <tr>\n",
       "      <th>release_year</th>\n",
       "      <td>0.135625</td>\n",
       "      <td>0.061771</td>\n",
       "      <td>0.071680</td>\n",
       "      <td>-0.097430</td>\n",
       "      <td>-0.105017</td>\n",
       "      <td>0.059400</td>\n",
       "      <td>0.047404</td>\n",
       "      <td>1.000000</td>\n",
       "      <td>-0.038138</td>\n",
       "      <td>-0.018509</td>\n",
       "    </tr>\n",
       "    <tr>\n",
       "      <th>release_month</th>\n",
       "      <td>0.042740</td>\n",
       "      <td>0.017992</td>\n",
       "      <td>0.030284</td>\n",
       "      <td>0.079175</td>\n",
       "      <td>0.045454</td>\n",
       "      <td>0.038111</td>\n",
       "      <td>0.024051</td>\n",
       "      <td>-0.038138</td>\n",
       "      <td>1.000000</td>\n",
       "      <td>-0.024485</td>\n",
       "    </tr>\n",
       "    <tr>\n",
       "      <th>release_day</th>\n",
       "      <td>-0.104599</td>\n",
       "      <td>-0.040874</td>\n",
       "      <td>-0.112208</td>\n",
       "      <td>-0.008929</td>\n",
       "      <td>0.008725</td>\n",
       "      <td>-0.119817</td>\n",
       "      <td>-0.103967</td>\n",
       "      <td>-0.018509</td>\n",
       "      <td>-0.024485</td>\n",
       "      <td>1.000000</td>\n",
       "    </tr>\n",
       "  </tbody>\n",
       "</table>\n",
       "</div>"
      ],
      "text/plain": [
       "                 budget  popularity   revenue   runtime  vote_average  \\\n",
       "budget         1.000000    0.216129  0.731244  0.223306      0.135016   \n",
       "popularity     0.216129    1.000000  0.198570  0.051272      0.066213   \n",
       "revenue        0.731244    0.198570  1.000000  0.188583      0.158289   \n",
       "runtime        0.223306    0.051272  0.188583  1.000000      0.338099   \n",
       "vote_average   0.135016    0.066213  0.158289  0.338099      1.000000   \n",
       "vote_count     0.584043    0.157134  0.754746  0.206565      0.244358   \n",
       "profit         0.589582    0.175415  0.982079  0.161605      0.150129   \n",
       "release_year   0.135625    0.061771  0.071680 -0.097430     -0.105017   \n",
       "release_month  0.042740    0.017992  0.030284  0.079175      0.045454   \n",
       "release_day   -0.104599   -0.040874 -0.112208 -0.008929      0.008725   \n",
       "\n",
       "               vote_count    profit  release_year  release_month  release_day  \n",
       "budget           0.584043  0.589582      0.135625       0.042740    -0.104599  \n",
       "popularity       0.157134  0.175415      0.061771       0.017992    -0.040874  \n",
       "revenue          0.754746  0.982079      0.071680       0.030284    -0.112208  \n",
       "runtime          0.206565  0.161605     -0.097430       0.079175    -0.008929  \n",
       "vote_average     0.244358  0.150129     -0.105017       0.045454     0.008725  \n",
       "vote_count       1.000000  0.732340      0.059400       0.038111    -0.119817  \n",
       "profit           0.732340  1.000000      0.047404       0.024051    -0.103967  \n",
       "release_year     0.059400  0.047404      1.000000      -0.038138    -0.018509  \n",
       "release_month    0.038111  0.024051     -0.038138       1.000000    -0.024485  \n",
       "release_day     -0.119817 -0.103967     -0.018509      -0.024485     1.000000  "
      ]
     },
     "execution_count": 25,
     "metadata": {},
     "output_type": "execute_result"
    }
   ],
   "source": [
    "# 연속형 변수 상관관계 \n",
    "\n",
    "movies_revenue_budget_runtime_zero_removal.corr()"
   ]
  },
  {
   "cell_type": "code",
   "execution_count": 26,
   "metadata": {},
   "outputs": [
    {
     "data": {
      "text/plain": [
       "<AxesSubplot:>"
      ]
     },
     "execution_count": 26,
     "metadata": {},
     "output_type": "execute_result"
    },
    {
     "data": {
      "image/png": "[encoded data removed]",
      "text/plain": [
       "<Figure size 576x576 with 2 Axes>"
      ]
     },
     "metadata": {
      "needs_background": "light"
     },
     "output_type": "display_data"
    }
   ],
   "source": [
    "plt.figure(figsize=(8,8))\n",
    "sns.heatmap(data=movies_revenue_budget_runtime_zero_removal.corr(), annot=True, linewidths=5, cmap=\"Oranges\")"
   ]
  },
  {
   "cell_type": "markdown",
   "metadata": {},
   "source": [
    "# 상관관계 주요 결과 \n",
    "budget - revenue 0.73\n",
    "budget - profit 0.59\n",
    "budget - vote_count 0.58\n",
    "\n",
    "revenue - profit 0.98\n",
    "revenue - vote_count 0.75\n",
    "\n",
    "vote_count - profit 0.73\n",
    "\n",
    "=> 영화예산이 높을 수록 매출과 이익이 높고 이익이 많은 영화일수록 관람객이 평점평가 참여도가 높음."
   ]
  },
  {
   "cell_type": "code",
   "execution_count": 27,
   "metadata": {},
   "outputs": [
    {
     "data": {
      "text/html": [
       "<div>\n",
       "<style scoped>\n",
       "    .dataframe tbody tr th:only-of-type {\n",
       "        vertical-align: middle;\n",
       "    }\n",
       "\n",
       "    .dataframe tbody tr th {\n",
       "        vertical-align: top;\n",
       "    }\n",
       "\n",
       "    .dataframe thead th {\n",
       "        text-align: right;\n",
       "    }\n",
       "</style>\n",
       "<table border=\"1\" class=\"dataframe\">\n",
       "  <thead>\n",
       "    <tr style=\"text-align: right;\">\n",
       "      <th></th>\n",
       "      <th>id</th>\n",
       "      <th>title</th>\n",
       "      <th>vote_average</th>\n",
       "      <th>vote_count</th>\n",
       "      <th>budget</th>\n",
       "      <th>profit</th>\n",
       "    </tr>\n",
       "  </thead>\n",
       "  <tbody>\n",
       "    <tr>\n",
       "      <th>230</th>\n",
       "      <td>278.0</td>\n",
       "      <td>쇼생크 탈출</td>\n",
       "      <td>8.7</td>\n",
       "      <td>20134.0</td>\n",
       "      <td>25000000.0</td>\n",
       "      <td>3341469.0</td>\n",
       "    </tr>\n",
       "    <tr>\n",
       "      <th>36377</th>\n",
       "      <td>19404.0</td>\n",
       "      <td>용감한 자가 신부를 데려가리</td>\n",
       "      <td>8.7</td>\n",
       "      <td>3241.0</td>\n",
       "      <td>13200000.0</td>\n",
       "      <td>86800000.0</td>\n",
       "    </tr>\n",
       "    <tr>\n",
       "      <th>192</th>\n",
       "      <td>238.0</td>\n",
       "      <td>대부</td>\n",
       "      <td>8.7</td>\n",
       "      <td>15086.0</td>\n",
       "      <td>6000000.0</td>\n",
       "      <td>239066411.0</td>\n",
       "    </tr>\n",
       "    <tr>\n",
       "      <th>332</th>\n",
       "      <td>424.0</td>\n",
       "      <td>쉰들러 리스트</td>\n",
       "      <td>8.6</td>\n",
       "      <td>12041.0</td>\n",
       "      <td>22000000.0</td>\n",
       "      <td>299365567.0</td>\n",
       "    </tr>\n",
       "    <tr>\n",
       "      <th>194</th>\n",
       "      <td>240.0</td>\n",
       "      <td>대부 2</td>\n",
       "      <td>8.6</td>\n",
       "      <td>9076.0</td>\n",
       "      <td>13000000.0</td>\n",
       "      <td>89600000.0</td>\n",
       "    </tr>\n",
       "  </tbody>\n",
       "</table>\n",
       "</div>"
      ],
      "text/plain": [
       "            id            title  vote_average  vote_count      budget  \\\n",
       "230      278.0           쇼생크 탈출           8.7     20134.0  25000000.0   \n",
       "36377  19404.0  용감한 자가 신부를 데려가리           8.7      3241.0  13200000.0   \n",
       "192      238.0               대부           8.7     15086.0   6000000.0   \n",
       "332      424.0          쉰들러 리스트           8.6     12041.0  22000000.0   \n",
       "194      240.0             대부 2           8.6      9076.0  13000000.0   \n",
       "\n",
       "            profit  \n",
       "230      3341469.0  \n",
       "36377   86800000.0  \n",
       "192    239066411.0  \n",
       "332    299365567.0  \n",
       "194     89600000.0  "
      ]
     },
     "execution_count": 27,
     "metadata": {},
     "output_type": "execute_result"
    }
   ],
   "source": [
    "#### vote_average ###\n",
    "\n",
    "# vote count가 1437(vote_count 평균)개 이상인 영화 중 평점이 가장 높은 영화는?\n",
    "high_vote=movies_revenue_budget_runtime_zero_removal.sort_values(by='vote_average',ascending=False)\n",
    "high_vote=high_vote[high_vote.vote_count>1437]\n",
    "high_vote[['id','title','vote_average','vote_count','budget','profit']].head(5)"
   ]
  },
  {
   "cell_type": "code",
   "execution_count": 28,
   "metadata": {},
   "outputs": [
    {
     "name": "stderr",
     "output_type": "stream",
     "text": [
      "C:\\Users\\user\\AppData\\Local\\Temp/ipykernel_6688/3396500811.py:3: SettingWithCopyWarning: \n",
      "A value is trying to be set on a copy of a slice from a DataFrame.\n",
      "Try using .loc[row_indexer,col_indexer] = value instead\n",
      "\n",
      "See the caveats in the documentation: https://pandas.pydata.org/pandas-docs/stable/user_guide/indexing.html#returning-a-view-versus-a-copy\n",
      "  movies_revenue_budget_runtime_zero_removal['year_group']=year_group\n"
     ]
    },
    {
     "data": {
      "text/plain": [
       "<seaborn.axisgrid.FacetGrid at 0x17d380a8be0>"
      ]
     },
     "execution_count": 28,
     "metadata": {},
     "output_type": "execute_result"
    },
    {
     "data": {
      "image/png": "[encoded data removed]",
      "text/plain": [
       "<Figure size 1080x360 with 1 Axes>"
      ]
     },
     "metadata": {
      "needs_background": "light"
     },
     "output_type": "display_data"
    }
   ],
   "source": [
    "# 개봉년도에 따른 vote_average: 년도를 10년 단위로 범주화 (1914~ 2023)\n",
    "year_group=pd.cut(movies_revenue_budget_runtime_zero_removal['release_year'],bins=[1910,1920,1930,1940,1950,1960,1970,1980,1990,2000,2010,2020,2030], labels=['1910s','1920s','1930s','1940s','1950s','1960s','1970s','1980s','1990s','2000s','2010s','2020s'])\n",
    "movies_revenue_budget_runtime_zero_removal['year_group']=year_group\n",
    "movies_revenue_budget_runtime_zero_removal.head(1)\n",
    "movies_revenue_budget_runtime_zero_removal.groupby(by='year_group')['vote_average'].mean()\n",
    "sns.catplot(data=movies_revenue_budget_runtime_zero_removal, x='year_group', y='vote_average', kind='bar',height=5, aspect=3)"
   ]
  },
  {
   "cell_type": "code",
   "execution_count": 29,
   "metadata": {},
   "outputs": [
    {
     "data": {
      "text/plain": [
       "<seaborn.axisgrid.FacetGrid at 0x17d5c947880>"
      ]
     },
     "execution_count": 29,
     "metadata": {},
     "output_type": "execute_result"
    },
    {
     "data": {
      "image/png": "[encoded data removed]",
      "text/plain": [
       "<Figure size 1080x360 with 1 Axes>"
      ]
     },
     "metadata": {
      "needs_background": "light"
     },
     "output_type": "display_data"
    }
   ],
   "source": [
    "# 개봉월에 따른 vote_average\n",
    "movies_revenue_budget_runtime_zero_removal.groupby(by='release_month')['vote_average'].mean()\n",
    "sns.catplot(data=movies_revenue_budget_runtime_zero_removal, x='release_month', y='vote_average', kind='bar',height=5, aspect=3)"
   ]
  },
  {
   "cell_type": "code",
   "execution_count": 30,
   "metadata": {},
   "outputs": [
    {
     "data": {
      "text/plain": [
       "<seaborn.axisgrid.FacetGrid at 0x17d380a8fa0>"
      ]
     },
     "execution_count": 30,
     "metadata": {},
     "output_type": "execute_result"
    },
    {
     "data": {
      "image/png": "[encoded data removed]",
      "text/plain": [
       "<Figure size 1080x360 with 1 Axes>"
      ]
     },
     "metadata": {
      "needs_background": "light"
     },
     "output_type": "display_data"
    }
   ],
   "source": [
    "# 개봉계절에 따른 vote_average: 3~5월 봄, 6~8월 여름, 9~11월 가을, 12~2월 겨울로 분류함. \n",
    "\n",
    "movies_revenue_budget_runtime_zero_removal.groupby(by='seasons')['vote_average'].mean()\n",
    "sns.catplot(data=movies_revenue_budget_runtime_zero_removal, x='seasons', y='vote_average', kind='bar',height=5, aspect=3)"
   ]
  },
  {
   "cell_type": "code",
   "execution_count": 31,
   "metadata": {},
   "outputs": [
    {
     "data": {
      "text/plain": [
       "<seaborn.axisgrid.FacetGrid at 0x17d37e74940>"
      ]
     },
     "execution_count": 31,
     "metadata": {},
     "output_type": "execute_result"
    },
    {
     "data": {
      "image/png": "[encoded data removed]",
      "text/plain": [
       "<Figure size 1080x360 with 1 Axes>"
      ]
     },
     "metadata": {
      "needs_background": "light"
     },
     "output_type": "display_data"
    }
   ],
   "source": [
    "# 개봉요일에 따른 vote_average\n",
    "movies_revenue_budget_runtime_zero_removal.groupby(by='release_day')['vote_average'].mean()\n",
    "sns.catplot(data=movies_revenue_budget_runtime_zero_removal, x='release_day', y='vote_average', kind='bar',height=5, aspect=3)  # 월(0) ~ 일(6)"
   ]
  },
  {
   "cell_type": "code",
   "execution_count": 32,
   "metadata": {},
   "outputs": [
    {
     "data": {
      "text/plain": [
       "<seaborn.axisgrid.FacetGrid at 0x17d37f7a2e0>"
      ]
     },
     "execution_count": 32,
     "metadata": {},
     "output_type": "execute_result"
    },
    {
     "data": {
      "image/png": "[encoded data removed]",
      "text/plain": [
       "<Figure size 1080x360 with 1 Axes>"
      ]
     },
     "metadata": {
      "needs_background": "light"
     },
     "output_type": "display_data"
    }
   ],
   "source": [
    "# original_language에 따른 vote_average\n",
    "movies_revenue_budget_runtime_zero_removal.groupby(by='original_language')['vote_average'].mean()\n",
    "sns.catplot(data=movies_revenue_budget_runtime_zero_removal, x='original_language', y='vote_average', kind='bar',height=5, aspect=3)\n",
    "\n",
    "# 언어는 SO 639-1 코드 사용\n",
    "# sq:Albanian,  si: Sinhala, Sinhalese"
   ]
  },
  {
   "cell_type": "code",
   "execution_count": 33,
   "metadata": {},
   "outputs": [
    {
     "data": {
      "text/plain": [
       "<seaborn.axisgrid.FacetGrid at 0x17d37f7a580>"
      ]
     },
     "execution_count": 33,
     "metadata": {},
     "output_type": "execute_result"
    },
    {
     "data": {
      "image/png": "[encoded data removed]",
      "text/plain": [
       "<Figure size 1080x360 with 1 Axes>"
      ]
     },
     "metadata": {
      "needs_background": "light"
     },
     "output_type": "display_data"
    }
   ],
   "source": [
    "## original_language에 따른 vote_count (original_language에 따른 vote_average해석 참고용)\n",
    "movies_revenue_budget_runtime_zero_removal.groupby(by='original_language')['vote_count'].mean()\n",
    "sns.catplot(data=movies_revenue_budget_runtime_zero_removal, x='original_language', y='vote_count', kind='bar',height=5, aspect=3)"
   ]
  },
  {
   "cell_type": "code",
   "execution_count": 34,
   "metadata": {},
   "outputs": [
    {
     "data": {
      "text/plain": [
       "Text(0.5, 1.0, 'relation between vote_count and vote_average')"
      ]
     },
     "execution_count": 34,
     "metadata": {},
     "output_type": "execute_result"
    },
    {
     "data": {
      "image/png": "[encoded data removed]",
      "text/plain": [
       "<Figure size 432x288 with 1 Axes>"
      ]
     },
     "metadata": {
      "needs_background": "light"
     },
     "output_type": "display_data"
    }
   ],
   "source": [
    "# vote_count에 따른 vote_average\n",
    "movies_revenue_budget_runtime_zero_removal.plot(x='vote_count', y='vote_average', kind='scatter')\n",
    "plt.title('relation between vote_count and vote_average')"
   ]
  },
  {
   "cell_type": "code",
   "execution_count": 35,
   "metadata": {},
   "outputs": [
    {
     "data": {
      "text/plain": [
       "Text(0.5, 1.0, 'relation between budget and vote_average')"
      ]
     },
     "execution_count": 35,
     "metadata": {},
     "output_type": "execute_result"
    },
    {
     "data": {
      "image/png": "[encoded data removed]",
      "text/plain": [
       "<Figure size 432x288 with 1 Axes>"
      ]
     },
     "metadata": {
      "needs_background": "light"
     },
     "output_type": "display_data"
    }
   ],
   "source": [
    "# budget에 따른 vote_average\n",
    "movies_revenue_budget_runtime_zero_removal.plot(x='budget', y='vote_average', kind='scatter')\n",
    "plt.title('relation between budget and vote_average')"
   ]
  },
  {
   "cell_type": "code",
   "execution_count": 36,
   "metadata": {},
   "outputs": [
    {
     "data": {
      "text/plain": [
       "Text(0.5, 1.0, 'relation between profit and vote_average')"
      ]
     },
     "execution_count": 36,
     "metadata": {},
     "output_type": "execute_result"
    },
    {
     "data": {
      "image/png": "[encoded data removed]",
      "text/plain": [
       "<Figure size 432x288 with 1 Axes>"
      ]
     },
     "metadata": {
      "needs_background": "light"
     },
     "output_type": "display_data"
    }
   ],
   "source": [
    "# profit에 따른 vote_average\n",
    "movies_revenue_budget_runtime_zero_removal.plot(x='profit', y='vote_average', kind='scatter')\n",
    "plt.title('relation between profit and vote_average')"
   ]
  },
  {
   "cell_type": "code",
   "execution_count": 39,
   "metadata": {},
   "outputs": [
    {
     "data": {
      "text/plain": [
       "Text(0.5, 1.0, 'relation between popularity and vote_average')"
      ]
     },
     "execution_count": 39,
     "metadata": {},
     "output_type": "execute_result"
    },
    {
     "data": {
      "image/png": "[encoded data removed]",
      "text/plain": [
       "<Figure size 432x288 with 1 Axes>"
      ]
     },
     "metadata": {
      "needs_background": "light"
     },
     "output_type": "display_data"
    }
   ],
   "source": [
    "# popularity에 따른 vote_average\n",
    "movies_revenue_budget_runtime_zero_removal.plot(x='popularity', y='vote_average', kind='scatter')\n",
    "plt.title('relation between popularity and vote_average')"
   ]
  },
  {
   "cell_type": "code",
   "execution_count": 38,
   "metadata": {},
   "outputs": [
    {
     "data": {
      "text/plain": [
       "Text(0.5, 1.0, 'relation between runtime and vote_average')"
      ]
     },
     "execution_count": 38,
     "metadata": {},
     "output_type": "execute_result"
    },
    {
     "data": {
      "image/png": "[encoded data removed]",
      "text/plain": [
       "<Figure size 432x288 with 1 Axes>"
      ]
     },
     "metadata": {
      "needs_background": "light"
     },
     "output_type": "display_data"
    }
   ],
   "source": [
    "# runtime에 따른 vote_average\n",
    "movies_revenue_budget_runtime_zero_removal.plot(x='runtime', y='vote_average', kind='scatter')\n",
    "plt.title('relation between runtime and vote_average')"
   ]
  },
  {
   "cell_type": "markdown",
   "metadata": {},
   "source": [
    "# 평점이 높은 영화특징\n",
    "1) 2020년대 개봉영화, 9월개봉 영화, 가을 개봉영화, 수요일 개봉영화가 평점이 높음.\n",
    "\n",
    "2) vote count가 1437(vote_count 평균)개 이상인 영화 중 평점이 가장 높은 영화 5개: \n",
    "   쇼생크 탈출 (id: 278), 용감한자가 신부를 데려가리, 대부, 쉰들러 리스트, 대부2\n",
    "   \n",
    "3) 평점이 가장 높은 영화년도 1970년대 영화"
   ]
  },
  {
   "cell_type": "code",
   "execution_count": 40,
   "metadata": {},
   "outputs": [
    {
     "data": {
      "text/html": [
       "<div>\n",
       "<style scoped>\n",
       "    .dataframe tbody tr th:only-of-type {\n",
       "        vertical-align: middle;\n",
       "    }\n",
       "\n",
       "    .dataframe tbody tr th {\n",
       "        vertical-align: top;\n",
       "    }\n",
       "\n",
       "    .dataframe thead th {\n",
       "        text-align: right;\n",
       "    }\n",
       "</style>\n",
       "<table border=\"1\" class=\"dataframe\">\n",
       "  <thead>\n",
       "    <tr style=\"text-align: right;\">\n",
       "      <th></th>\n",
       "      <th>id</th>\n",
       "      <th>title</th>\n",
       "      <th>profit</th>\n",
       "      <th>popularity</th>\n",
       "      <th>vote_average</th>\n",
       "    </tr>\n",
       "  </thead>\n",
       "  <tbody>\n",
       "    <tr>\n",
       "      <th>36678</th>\n",
       "      <td>19995.0</td>\n",
       "      <td>아바타</td>\n",
       "      <td>2.610246e+09</td>\n",
       "      <td>346.670</td>\n",
       "      <td>7.5</td>\n",
       "    </tr>\n",
       "    <tr>\n",
       "      <th>129815</th>\n",
       "      <td>299534.0</td>\n",
       "      <td>어벤져스: 엔드게임</td>\n",
       "      <td>2.441801e+09</td>\n",
       "      <td>245.516</td>\n",
       "      <td>8.3</td>\n",
       "    </tr>\n",
       "    <tr>\n",
       "      <th>471</th>\n",
       "      <td>597.0</td>\n",
       "      <td>타이타닉</td>\n",
       "      <td>1.987464e+09</td>\n",
       "      <td>97.943</td>\n",
       "      <td>7.9</td>\n",
       "    </tr>\n",
       "    <tr>\n",
       "      <th>28955</th>\n",
       "      <td>140607.0</td>\n",
       "      <td>스타워즈: 깨어난 포스</td>\n",
       "      <td>1.823224e+09</td>\n",
       "      <td>79.396</td>\n",
       "      <td>7.3</td>\n",
       "    </tr>\n",
       "    <tr>\n",
       "      <th>129817</th>\n",
       "      <td>299536.0</td>\n",
       "      <td>어벤져스: 인피니티 워</td>\n",
       "      <td>1.746240e+09</td>\n",
       "      <td>376.856</td>\n",
       "      <td>8.3</td>\n",
       "    </tr>\n",
       "  </tbody>\n",
       "</table>\n",
       "</div>"
      ],
      "text/plain": [
       "              id         title        profit  popularity  vote_average\n",
       "36678    19995.0           아바타  2.610246e+09     346.670           7.5\n",
       "129815  299534.0    어벤져스: 엔드게임  2.441801e+09     245.516           8.3\n",
       "471        597.0          타이타닉  1.987464e+09      97.943           7.9\n",
       "28955   140607.0  스타워즈: 깨어난 포스  1.823224e+09      79.396           7.3\n",
       "129817  299536.0  어벤져스: 인피니티 워  1.746240e+09     376.856           8.3"
      ]
     },
     "execution_count": 40,
     "metadata": {},
     "output_type": "execute_result"
    }
   ],
   "source": [
    "#### revenue, budget, profit ###\n",
    "\n",
    "# profit이 가장 높은 영화 \n",
    "high_profit = movies_revenue_budget_runtime_zero_removal.sort_values(by=\"profit\", ascending=False)\n",
    "high_profit[['id','title','profit','popularity','vote_average']].head(5)"
   ]
  },
  {
   "cell_type": "code",
   "execution_count": 43,
   "metadata": {},
   "outputs": [
    {
     "data": {
      "text/plain": [
       "<AxesSubplot:xlabel='profit', ylabel='original_title'>"
      ]
     },
     "execution_count": 43,
     "metadata": {},
     "output_type": "execute_result"
    },
    {
     "data": {
      "image/png": "[encoded data removed]",
      "text/plain": [
       "<Figure size 432x288 with 1 Axes>"
      ]
     },
     "metadata": {},
     "output_type": "display_data"
    }
   ],
   "source": [
    "\n",
    "sns.set_style('whitegrid')\n",
    "sns.pointplot(x='profit', y='original_title', data=high_profit.head(10))\n"
   ]
  },
  {
   "cell_type": "code",
   "execution_count": 53,
   "metadata": {},
   "outputs": [
    {
     "data": {
      "text/html": [
       "<div>\n",
       "<style scoped>\n",
       "    .dataframe tbody tr th:only-of-type {\n",
       "        vertical-align: middle;\n",
       "    }\n",
       "\n",
       "    .dataframe tbody tr th {\n",
       "        vertical-align: top;\n",
       "    }\n",
       "\n",
       "    .dataframe thead th {\n",
       "        text-align: right;\n",
       "    }\n",
       "</style>\n",
       "<table border=\"1\" class=\"dataframe\">\n",
       "  <thead>\n",
       "    <tr style=\"text-align: right;\">\n",
       "      <th></th>\n",
       "      <th>id</th>\n",
       "      <th>title</th>\n",
       "      <th>revenue</th>\n",
       "      <th>popularity</th>\n",
       "      <th>vote_average</th>\n",
       "    </tr>\n",
       "  </thead>\n",
       "  <tbody>\n",
       "    <tr>\n",
       "      <th>36678</th>\n",
       "      <td>19995.0</td>\n",
       "      <td>아바타</td>\n",
       "      <td>2.847246e+09</td>\n",
       "      <td>346.670</td>\n",
       "      <td>7.5</td>\n",
       "    </tr>\n",
       "    <tr>\n",
       "      <th>129815</th>\n",
       "      <td>299534.0</td>\n",
       "      <td>어벤져스: 엔드게임</td>\n",
       "      <td>2.797801e+09</td>\n",
       "      <td>245.516</td>\n",
       "      <td>8.3</td>\n",
       "    </tr>\n",
       "    <tr>\n",
       "      <th>471</th>\n",
       "      <td>597.0</td>\n",
       "      <td>타이타닉</td>\n",
       "      <td>2.187464e+09</td>\n",
       "      <td>97.943</td>\n",
       "      <td>7.9</td>\n",
       "    </tr>\n",
       "    <tr>\n",
       "      <th>28955</th>\n",
       "      <td>140607.0</td>\n",
       "      <td>스타워즈: 깨어난 포스</td>\n",
       "      <td>2.068224e+09</td>\n",
       "      <td>79.396</td>\n",
       "      <td>7.3</td>\n",
       "    </tr>\n",
       "    <tr>\n",
       "      <th>129817</th>\n",
       "      <td>299536.0</td>\n",
       "      <td>어벤져스: 인피니티 워</td>\n",
       "      <td>2.046240e+09</td>\n",
       "      <td>376.856</td>\n",
       "      <td>8.3</td>\n",
       "    </tr>\n",
       "  </tbody>\n",
       "</table>\n",
       "</div>"
      ],
      "text/plain": [
       "              id         title       revenue  popularity  vote_average\n",
       "36678    19995.0           아바타  2.847246e+09     346.670           7.5\n",
       "129815  299534.0    어벤져스: 엔드게임  2.797801e+09     245.516           8.3\n",
       "471        597.0          타이타닉  2.187464e+09      97.943           7.9\n",
       "28955   140607.0  스타워즈: 깨어난 포스  2.068224e+09      79.396           7.3\n",
       "129817  299536.0  어벤져스: 인피니티 워  2.046240e+09     376.856           8.3"
      ]
     },
     "execution_count": 53,
     "metadata": {},
     "output_type": "execute_result"
    }
   ],
   "source": [
    "# revenue이 가장 높은 영화\n",
    "high_revenue = movies_revenue_budget_runtime_zero_removal.sort_values(by=\"revenue\", ascending=False)\n",
    "high_revenue[['id','title','revenue','popularity','vote_average']].head(5)"
   ]
  },
  {
   "cell_type": "code",
   "execution_count": 54,
   "metadata": {},
   "outputs": [
    {
     "data": {
      "text/html": [
       "<div>\n",
       "<style scoped>\n",
       "    .dataframe tbody tr th:only-of-type {\n",
       "        vertical-align: middle;\n",
       "    }\n",
       "\n",
       "    .dataframe tbody tr th {\n",
       "        vertical-align: top;\n",
       "    }\n",
       "\n",
       "    .dataframe thead th {\n",
       "        text-align: right;\n",
       "    }\n",
       "</style>\n",
       "<table border=\"1\" class=\"dataframe\">\n",
       "  <thead>\n",
       "    <tr style=\"text-align: right;\">\n",
       "      <th></th>\n",
       "      <th>id</th>\n",
       "      <th>title</th>\n",
       "      <th>budget</th>\n",
       "      <th>popularity</th>\n",
       "      <th>vote_average</th>\n",
       "    </tr>\n",
       "  </thead>\n",
       "  <tbody>\n",
       "    <tr>\n",
       "      <th>1239</th>\n",
       "      <td>1865.0</td>\n",
       "      <td>캐리비안의 해적: 낯선 조류</td>\n",
       "      <td>380000000.0</td>\n",
       "      <td>127.811</td>\n",
       "      <td>6.5</td>\n",
       "    </tr>\n",
       "    <tr>\n",
       "      <th>129815</th>\n",
       "      <td>299534.0</td>\n",
       "      <td>어벤져스: 엔드게임</td>\n",
       "      <td>356000000.0</td>\n",
       "      <td>245.516</td>\n",
       "      <td>8.3</td>\n",
       "    </tr>\n",
       "    <tr>\n",
       "      <th>29158</th>\n",
       "      <td>141052.0</td>\n",
       "      <td>저스티스 리그</td>\n",
       "      <td>300000000.0</td>\n",
       "      <td>62.896</td>\n",
       "      <td>6.2</td>\n",
       "    </tr>\n",
       "    <tr>\n",
       "      <th>30470</th>\n",
       "      <td>143830.0</td>\n",
       "      <td>イレギュラーハンターＸ</td>\n",
       "      <td>300000000.0</td>\n",
       "      <td>2.108</td>\n",
       "      <td>9.0</td>\n",
       "    </tr>\n",
       "    <tr>\n",
       "      <th>129817</th>\n",
       "      <td>299536.0</td>\n",
       "      <td>어벤져스: 인피니티 워</td>\n",
       "      <td>300000000.0</td>\n",
       "      <td>376.856</td>\n",
       "      <td>8.3</td>\n",
       "    </tr>\n",
       "  </tbody>\n",
       "</table>\n",
       "</div>"
      ],
      "text/plain": [
       "              id            title       budget  popularity  vote_average\n",
       "1239      1865.0  캐리비안의 해적: 낯선 조류  380000000.0     127.811           6.5\n",
       "129815  299534.0       어벤져스: 엔드게임  356000000.0     245.516           8.3\n",
       "29158   141052.0          저스티스 리그  300000000.0      62.896           6.2\n",
       "30470   143830.0      イレギュラーハンターＸ  300000000.0       2.108           9.0\n",
       "129817  299536.0     어벤져스: 인피니티 워  300000000.0     376.856           8.3"
      ]
     },
     "execution_count": 54,
     "metadata": {},
     "output_type": "execute_result"
    }
   ],
   "source": [
    "# budget이 가장 높은 영화\n",
    "high_budget = movies_revenue_budget_runtime_zero_removal.sort_values(by=\"budget\", ascending=False)\n",
    "high_budget[['id','title','budget','popularity','vote_average']].head(5)"
   ]
  },
  {
   "cell_type": "markdown",
   "metadata": {},
   "source": [
    "# 제작비, 수익, 매출액 관련 주요결과\n",
    "\n",
    "1. 수익이 가장 높은 영화 5개: 1)아바타, 2)어벤져스: 엔드게임, 3)타이타닉, 4)스타워즈: 깨어난 포스, 5)어벤져스: 인피니티워\n",
    "\n",
    "2. 제작비가 가장 많이 사용된 영화: 캐러비안의 해적: 낯선 조류"
   ]
  },
  {
   "cell_type": "code",
   "execution_count": 46,
   "metadata": {},
   "outputs": [
    {
     "data": {
      "text/html": [
       "<div>\n",
       "<style scoped>\n",
       "    .dataframe tbody tr th:only-of-type {\n",
       "        vertical-align: middle;\n",
       "    }\n",
       "\n",
       "    .dataframe tbody tr th {\n",
       "        vertical-align: top;\n",
       "    }\n",
       "\n",
       "    .dataframe thead th {\n",
       "        text-align: right;\n",
       "    }\n",
       "</style>\n",
       "<table border=\"1\" class=\"dataframe\">\n",
       "  <thead>\n",
       "    <tr style=\"text-align: right;\">\n",
       "      <th></th>\n",
       "      <th>popularity</th>\n",
       "      <th>id</th>\n",
       "      <th>title</th>\n",
       "      <th>genres</th>\n",
       "    </tr>\n",
       "  </thead>\n",
       "  <tbody>\n",
       "    <tr>\n",
       "      <th>372263</th>\n",
       "      <td>8117.008</td>\n",
       "      <td>580489.0</td>\n",
       "      <td>베놈 2: 렛 데어 비 카니지</td>\n",
       "      <td>[{'id': 878, 'name': 'SF'}, {'id': 28, 'name':...</td>\n",
       "    </tr>\n",
       "    <tr>\n",
       "      <th>360289</th>\n",
       "      <td>5225.504</td>\n",
       "      <td>566525.0</td>\n",
       "      <td>샹치와 텐 링즈의 전설</td>\n",
       "      <td>[{'id': 28, 'name': '액션'}, {'id': 12, 'name': ...</td>\n",
       "    </tr>\n",
       "    <tr>\n",
       "      <th>191951</th>\n",
       "      <td>3366.389</td>\n",
       "      <td>370172.0</td>\n",
       "      <td>007 노 타임 투 다이</td>\n",
       "      <td>[{'id': 12, 'name': '모험'}, {'id': 28, 'name': ...</td>\n",
       "    </tr>\n",
       "    <tr>\n",
       "      <th>513525</th>\n",
       "      <td>1607.227</td>\n",
       "      <td>744275.0</td>\n",
       "      <td>애프터: 관계의 함정</td>\n",
       "      <td>[{'id': 10749, 'name': '로맨스'}, {'id': 18, 'nam...</td>\n",
       "    </tr>\n",
       "    <tr>\n",
       "      <th>323366</th>\n",
       "      <td>1496.784</td>\n",
       "      <td>524434.0</td>\n",
       "      <td>이터널스</td>\n",
       "      <td>[{'id': 28, 'name': '액션'}, {'id': 12, 'name': ...</td>\n",
       "    </tr>\n",
       "    <tr>\n",
       "      <th>...</th>\n",
       "      <td>...</td>\n",
       "      <td>...</td>\n",
       "      <td>...</td>\n",
       "      <td>...</td>\n",
       "    </tr>\n",
       "    <tr>\n",
       "      <th>2644</th>\n",
       "      <td>148.531</td>\n",
       "      <td>4564.0</td>\n",
       "      <td>섹스 앤 더 시티</td>\n",
       "      <td>[{'id': 35, 'name': '코미디'}, {'id': 18, 'name':...</td>\n",
       "    </tr>\n",
       "    <tr>\n",
       "      <th>184023</th>\n",
       "      <td>146.668</td>\n",
       "      <td>360920.0</td>\n",
       "      <td>그린치</td>\n",
       "      <td>[{'id': 16, 'name': '애니메이션'}, {'id': 10751, 'n...</td>\n",
       "    </tr>\n",
       "    <tr>\n",
       "      <th>11198</th>\n",
       "      <td>144.141</td>\n",
       "      <td>106646.0</td>\n",
       "      <td>더 울프 오브 월 스트리트</td>\n",
       "      <td>[{'id': 80, 'name': '범죄'}, {'id': 18, 'name': ...</td>\n",
       "    </tr>\n",
       "    <tr>\n",
       "      <th>3928</th>\n",
       "      <td>143.270</td>\n",
       "      <td>10195.0</td>\n",
       "      <td>토르: 천둥의 신</td>\n",
       "      <td>[{'id': 12, 'name': '모험'}, {'id': 14, 'name': ...</td>\n",
       "    </tr>\n",
       "    <tr>\n",
       "      <th>115962</th>\n",
       "      <td>141.252</td>\n",
       "      <td>284052.0</td>\n",
       "      <td>닥터 스트레인지</td>\n",
       "      <td>[{'id': 28, 'name': '액션'}, {'id': 12, 'name': ...</td>\n",
       "    </tr>\n",
       "  </tbody>\n",
       "</table>\n",
       "<p>100 rows × 4 columns</p>\n",
       "</div>"
      ],
      "text/plain": [
       "        popularity        id             title  \\\n",
       "372263    8117.008  580489.0  베놈 2: 렛 데어 비 카니지   \n",
       "360289    5225.504  566525.0      샹치와 텐 링즈의 전설   \n",
       "191951    3366.389  370172.0     007 노 타임 투 다이   \n",
       "513525    1607.227  744275.0       애프터: 관계의 함정   \n",
       "323366    1496.784  524434.0              이터널스   \n",
       "...            ...       ...               ...   \n",
       "2644       148.531    4564.0         섹스 앤 더 시티   \n",
       "184023     146.668  360920.0               그린치   \n",
       "11198      144.141  106646.0    더 울프 오브 월 스트리트   \n",
       "3928       143.270   10195.0         토르: 천둥의 신   \n",
       "115962     141.252  284052.0          닥터 스트레인지   \n",
       "\n",
       "                                                   genres  \n",
       "372263  [{'id': 878, 'name': 'SF'}, {'id': 28, 'name':...  \n",
       "360289  [{'id': 28, 'name': '액션'}, {'id': 12, 'name': ...  \n",
       "191951  [{'id': 12, 'name': '모험'}, {'id': 28, 'name': ...  \n",
       "513525  [{'id': 10749, 'name': '로맨스'}, {'id': 18, 'nam...  \n",
       "323366  [{'id': 28, 'name': '액션'}, {'id': 12, 'name': ...  \n",
       "...                                                   ...  \n",
       "2644    [{'id': 35, 'name': '코미디'}, {'id': 18, 'name':...  \n",
       "184023  [{'id': 16, 'name': '애니메이션'}, {'id': 10751, 'n...  \n",
       "11198   [{'id': 80, 'name': '범죄'}, {'id': 18, 'name': ...  \n",
       "3928    [{'id': 12, 'name': '모험'}, {'id': 14, 'name': ...  \n",
       "115962  [{'id': 28, 'name': '액션'}, {'id': 12, 'name': ...  \n",
       "\n",
       "[100 rows x 4 columns]"
      ]
     },
     "execution_count": 46,
     "metadata": {},
     "output_type": "execute_result"
    }
   ],
   "source": [
    "#### popularity ###\n",
    "\n",
    "# 가장 인기있는 영화 100개\n",
    "popular_movies=movies_revenue_budget_runtime_zero_removal.sort_values(by='popularity', ascending=False)\n",
    "popular_movies_100=popular_movies[['popularity', 'id','title','genres']].head(100)\n",
    "popular_movies_100"
   ]
  },
  {
   "cell_type": "code",
   "execution_count": 62,
   "metadata": {},
   "outputs": [
    {
     "data": {
      "image/png": "[encoded data removed]",
      "text/plain": [
       "<Figure size 720x360 with 1 Axes>"
      ]
     },
     "metadata": {},
     "output_type": "display_data"
    }
   ],
   "source": [
    "# 인기도가 가장 높은 영화상영시간\n",
    "\n",
    "sns.set_style('darkgrid')\n",
    "plt.figure(figsize=(10,5))\n",
    "plt.xlabel('runtime')\n",
    "plt.ylabel('popularity')\n",
    "plt.title('runtime distribution of popularity')\n",
    "\n",
    "plt.hist(movies_revenue_budget_runtime_zero_removal['runtime'], bins=60)\n",
    "plt.show()"
   ]
  },
  {
   "cell_type": "markdown",
   "metadata": {},
   "source": [
    "# 인기도 결과\n",
    "가장 인기있는 영화 : 베놈 2: 렛 데어 비 카니지\n",
    "\n",
    "인기도가 높은 영화상영시간: 100분 "
   ]
  },
  {
   "cell_type": "code",
   "execution_count": 42,
   "metadata": {},
   "outputs": [
    {
     "name": "stdout",
     "output_type": "stream",
     "text": [
      "0 [{'id': 80, 'name': '범죄'}, {'id': 35, 'name': '코미디'}]\n",
      "1 [{'id': 28, 'name': '액션'}, {'id': 53, 'name': '스릴러'}, {'id': 80, 'name': '범죄'}]\n",
      "2 [{'id': 12, 'name': '모험'}, {'id': 28, 'name': '액션'}, {'id': 878, 'name': 'SF'}]\n",
      "3 [{'id': 16, 'name': '애니메이션'}, {'id': 10751, 'name': '가족'}]\n",
      "4 [{'id': 35, 'name': '코미디'}, {'id': 18, 'name': '드라마'}, {'id': 10749, 'name': '로맨스'}]\n",
      "count     70.000000\n",
      "mean     100.985714\n",
      "std      195.446534\n",
      "min        1.000000\n",
      "25%        3.000000\n",
      "50%       17.000000\n",
      "75%       80.000000\n",
      "max      959.000000\n",
      "Name: genres, dtype: float64\n"
     ]
    }
   ],
   "source": [
    "#### genre ###\n",
    "\n",
    "# 각 영화에 포함된 영화장르 수는?  --> 한 영화에 포함된 장르수는 최소1개, 최대 959개\n",
    "\n",
    "for i, e in enumerate(movies_revenue_budget_runtime_zero_removal['genres'][:5]):\n",
    "    print(i, e)\n",
    "\n",
    "genre_numbers=movies_revenue_budget_runtime_zero_removal['genres'].apply(lambda x: len(x) if x != {} else 0).value_counts()\n",
    "pd.DataFrame(genre_numbers)\n",
    "print(genre_numbers.describe())"
   ]
  },
  {
   "cell_type": "code",
   "execution_count": 44,
   "metadata": {},
   "outputs": [
    {
     "name": "stdout",
     "output_type": "stream",
     "text": [
      "[list(['범죄', '코미디']) list(['액션', '스릴러', '범죄']) list(['모험', '액션', 'SF'])\n",
      " ... list(['드라마', '가족']) list(['애니메이션', '코미디']) list(['공포'])]\n"
     ]
    },
    {
     "name": "stderr",
     "output_type": "stream",
     "text": [
      "C:\\Users\\user\\AppData\\Local\\Temp/ipykernel_4448/2820306022.py:12: SettingWithCopyWarning: \n",
      "A value is trying to be set on a copy of a slice from a DataFrame.\n",
      "Try using .loc[row_indexer,col_indexer] = value instead\n",
      "\n",
      "See the caveats in the documentation: https://pandas.pydata.org/pandas-docs/stable/user_guide/indexing.html#returning-a-view-versus-a-copy\n",
      "  movies_revenue_budget_runtime_zero_removal['genre_name'] = movies_revenue_budget_runtime_zero_removal[\"genres\"].map(genres_str_to_list)\n"
     ]
    }
   ],
   "source": [
    "# 가장 많은 영화장르 수는?\n",
    "\n",
    "def genres_str_to_list(genres_str):\n",
    "    import json\n",
    "    genres_list = json.loads(genres_str.replace(\"\\'\", \"\\\"\"))\n",
    "    genre_id_list = []\n",
    "    for genre in genres_list:\n",
    "        genre_id_list.append(genre['name'])\n",
    "\n",
    "    return genre_id_list\n",
    "\n",
    "movies_revenue_budget_runtime_zero_removal['genre_name'] = movies_revenue_budget_runtime_zero_removal[\"genres\"].map(genres_str_to_list)\n",
    "\n",
    "list_of_genres=movies_revenue_budget_runtime_zero_removal['genre_name'].values\n",
    "print(list_of_genres)"
   ]
  },
  {
   "cell_type": "code",
   "execution_count": 45,
   "metadata": {},
   "outputs": [
    {
     "data": {
      "image/png": "[encoded data removed]",
      "text/plain": [
       "<Figure size 864x576 with 1 Axes>"
      ]
     },
     "metadata": {
      "needs_background": "light"
     },
     "output_type": "display_data"
    }
   ],
   "source": [
    "#!pip install wordcloud\n",
    "from wordcloud import WordCloud\n",
    "\n",
    "plt.figure(figsize = (12, 8))\n",
    "text = ' '.join([i for j in list_of_genres for i in j])\n",
    "wordcloud = WordCloud(max_font_size=None, background_color='white', collocations=False, font_path= \"D:\\\\Fonts\\\\NanumGothic.ttf\",\n",
    "                      width=1200, height=1000).generate(text)\n",
    "plt.imshow(wordcloud)\n",
    "plt.title('Top genres')\n",
    "plt.axis(\"off\")\n",
    "plt.show()"
   ]
  },
  {
   "cell_type": "markdown",
   "metadata": {},
   "source": [
    "# 장르결과\n",
    "가장 많이 포함된 장르: 드라마, 코미디, 액션, 스릴러 "
   ]
  }
 ],
 "metadata": {
  "interpreter": {
   "hash": "e402d8dc2fc29c9b910f5d12f5c3c64c9ee82a5d3d5bb4e938cda4e51af4cda3"
  },
  "kernelspec": {
   "display_name": "Python 3.9.7 64-bit ('ykseo': conda)",
   "language": "python",
   "name": "python3"
  },
  "language_info": {
   "codemirror_mode": {
    "name": "ipython",
    "version": 3
   },
   "file_extension": ".py",
   "mimetype": "text/x-python",
   "name": "python",
   "nbconvert_exporter": "python",
   "pygments_lexer": "ipython3",
   "version": "3.9.7"
  },
  "orig_nbformat": 4
 },
 "nbformat": 4,
 "nbformat_minor": 2
}
