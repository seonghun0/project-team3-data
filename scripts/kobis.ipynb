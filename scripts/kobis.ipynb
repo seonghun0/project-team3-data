{
 "cells": [
  {
   "cell_type": "code",
   "execution_count": 2,
   "metadata": {},
   "outputs": [],
   "source": [
    "import requests # 웹 요청 도구\n",
    "from bs4 import BeautifulSoup # html에서 데이터 읽는 도구\n",
    "from bs4.element import NavigableString, Tag, Comment, ProcessingInstruction"
   ]
  },
  {
   "cell_type": "code",
   "execution_count": 3,
   "metadata": {},
   "outputs": [],
   "source": [
    "response = requests.get(\"https://www.kobis.or.kr/kobis/business/stat/boxs/findRealTicketList.do\")"
   ]
  },
  {
   "cell_type": "code",
   "execution_count": 4,
   "metadata": {},
   "outputs": [],
   "source": [
    "soup = BeautifulSoup(response.content)"
   ]
  },
  {
   "cell_type": "code",
   "execution_count": 5,
   "metadata": {},
   "outputs": [],
   "source": [
    "table = soup.select_one('.tbl_comm.th_sort')"
   ]
  },
  {
   "cell_type": "code",
   "execution_count": 118,
   "metadata": {},
   "outputs": [],
   "source": [
    "th_list = table.select('thead tr th')\n",
    "columns = []\n",
    "for th in th_list:\n",
    "    for c in th.children:\n",
    "        # print(c)\n",
    "        if type(c) == NavigableString and len(c.strip()) > 0:\n",
    "            columns.append(c.strip())"
   ]
  },
  {
   "cell_type": "code",
   "execution_count": 119,
   "metadata": {},
   "outputs": [
    {
     "data": {
      "text/plain": [
       "['순위', '영화명', '개봉일', '예매율', '예매매출액', '누적매출액', '예매관객수', '누적관객수']"
      ]
     },
     "execution_count": 119,
     "metadata": {},
     "output_type": "execute_result"
    }
   ],
   "source": [
    "columns"
   ]
  },
  {
   "cell_type": "code",
   "execution_count": 120,
   "metadata": {},
   "outputs": [
    {
     "name": "stdout",
     "output_type": "stream",
     "text": [
      "<td colspan=\"8\">검색된 데이터가 존재하지 않습니다.</td>\n"
     ]
    }
   ],
   "source": [
    "tr_list = table.select('tbody tr')\n",
    "values_list = []\n",
    "for tr in tr_list:\n",
    "    for td in tr.select('td'):\n",
    "        print(td)\n",
    "\n",
    "\n",
    "#beautifulsoup만으로는 크롤링 불가능. selenium(+chrome webdriver) 설치 필수"
   ]
  },
  {
   "cell_type": "code",
   "execution_count": null,
   "metadata": {},
   "outputs": [],
   "source": []
  },
  {
   "cell_type": "code",
   "execution_count": 14,
   "metadata": {},
   "outputs": [],
   "source": [
    "from selenium import webdriver"
   ]
  },
  {
   "cell_type": "code",
   "execution_count": 15,
   "metadata": {},
   "outputs": [
    {
     "name": "stderr",
     "output_type": "stream",
     "text": [
      "/opt/anaconda3/envs/kdigital-pusan/lib/python3.7/site-packages/ipykernel_launcher.py:1: DeprecationWarning: executable_path has been deprecated, please pass in a Service object\n",
      "  \"\"\"Entry point for launching an IPython kernel.\n"
     ]
    }
   ],
   "source": [
    "browser_proxy = webdriver.Chrome(\"/Users/attitude/workspace/tools/chromedriver\")"
   ]
  },
  {
   "cell_type": "code",
   "execution_count": 16,
   "metadata": {},
   "outputs": [],
   "source": [
    "browser_proxy.get(\"https://www.kobis.or.kr/kobis/business/stat/boxs/findRealTicketList.do\")"
   ]
  },
  {
   "cell_type": "code",
   "execution_count": 9,
   "metadata": {},
   "outputs": [],
   "source": [
    "soup = BeautifulSoup(browser_proxy.page_source)"
   ]
  },
  {
   "cell_type": "code",
   "execution_count": 10,
   "metadata": {},
   "outputs": [],
   "source": [
    "table = soup.select_one('.tbl_comm.th_sort')"
   ]
  },
  {
   "cell_type": "code",
   "execution_count": 11,
   "metadata": {},
   "outputs": [],
   "source": [
    "th_list = table.select('thead tr th')\n",
    "columns = []\n",
    "for th in th_list:\n",
    "    for c in th.children:\n",
    "        # print(c)\n",
    "        if type(c) == NavigableString and len(c.strip()) > 0:\n",
    "            columns.append(c.strip())"
   ]
  },
  {
   "cell_type": "code",
   "execution_count": 12,
   "metadata": {},
   "outputs": [
    {
     "data": {
      "text/plain": [
       "['순위', '영화명', '개봉일', '예매율', '예매매출액', '누적매출액', '예매관객수', '누적관객수']"
      ]
     },
     "execution_count": 12,
     "metadata": {},
     "output_type": "execute_result"
    }
   ],
   "source": [
    "columns"
   ]
  },
  {
   "cell_type": "code",
   "execution_count": 13,
   "metadata": {},
   "outputs": [],
   "source": [
    "tr_list = table.select('tbody tr')\n",
    "values_list = []\n",
    "for tr in tr_list:\n",
    "    values = []\n",
    "    for td in tr.select('td'):\n",
    "        values.append(td.text.strip().replace(\"%\", '').replace(\",\", \"\"))\n",
    "    values_list.append(values)\n"
   ]
  },
  {
   "cell_type": "code",
   "execution_count": 129,
   "metadata": {},
   "outputs": [
    {
     "data": {
      "text/plain": [
       "[['1',\n",
       "  '듄',\n",
       "  '2021-10-20',\n",
       "  '15.7',\n",
       "  '434880110',\n",
       "  '15367958720',\n",
       "  '26516',\n",
       "  '1427720'],\n",
       " ['2',\n",
       "  '고스트버스터즈 라이즈',\n",
       "  '2021-12-01',\n",
       "  '13.4',\n",
       "  '199034210',\n",
       "  '5115000',\n",
       "  '22574',\n",
       "  '545'],\n",
       " ['3',\n",
       "  '유체이탈자',\n",
       "  '2021-11-24',\n",
       "  '10.7',\n",
       "  '149559470',\n",
       "  '3871631940',\n",
       "  '18131',\n",
       "  '398457']]"
      ]
     },
     "execution_count": 129,
     "metadata": {},
     "output_type": "execute_result"
    }
   ],
   "source": [
    "values_list[:3]"
   ]
  },
  {
   "cell_type": "code",
   "execution_count": 14,
   "metadata": {},
   "outputs": [],
   "source": [
    "import pandas as pd\n",
    "\n",
    "data = pd.DataFrame(values_list, columns=columns)"
   ]
  },
  {
   "cell_type": "code",
   "execution_count": 15,
   "metadata": {},
   "outputs": [],
   "source": [
    "# data.info()\n",
    "type(data.dtypes)\n",
    "for column in data.columns[[0, 3, 4, 5, 6, 7]]:\n",
    "    data[column] = data[column].astype(float)"
   ]
  },
  {
   "cell_type": "code",
   "execution_count": 16,
   "metadata": {},
   "outputs": [
    {
     "name": "stdout",
     "output_type": "stream",
     "text": [
      "<class 'pandas.core.frame.DataFrame'>\n",
      "RangeIndex: 252 entries, 0 to 251\n",
      "Data columns (total 8 columns):\n",
      " #   Column  Non-Null Count  Dtype  \n",
      "---  ------  --------------  -----  \n",
      " 0   순위      252 non-null    float64\n",
      " 1   영화명     252 non-null    object \n",
      " 2   개봉일     252 non-null    object \n",
      " 3   예매율     252 non-null    float64\n",
      " 4   예매매출액   252 non-null    float64\n",
      " 5   누적매출액   252 non-null    float64\n",
      " 6   예매관객수   252 non-null    float64\n",
      " 7   누적관객수   252 non-null    float64\n",
      "dtypes: float64(6), object(2)\n",
      "memory usage: 15.9+ KB\n"
     ]
    }
   ],
   "source": [
    "data.info()"
   ]
  },
  {
   "cell_type": "code",
   "execution_count": 17,
   "metadata": {},
   "outputs": [
    {
     "data": {
      "text/html": [
       "<div>\n",
       "<style scoped>\n",
       "    .dataframe tbody tr th:only-of-type {\n",
       "        vertical-align: middle;\n",
       "    }\n",
       "\n",
       "    .dataframe tbody tr th {\n",
       "        vertical-align: top;\n",
       "    }\n",
       "\n",
       "    .dataframe thead th {\n",
       "        text-align: right;\n",
       "    }\n",
       "</style>\n",
       "<table border=\"1\" class=\"dataframe\">\n",
       "  <thead>\n",
       "    <tr style=\"text-align: right;\">\n",
       "      <th></th>\n",
       "      <th>순위</th>\n",
       "      <th>영화명</th>\n",
       "      <th>개봉일</th>\n",
       "      <th>예매율</th>\n",
       "      <th>예매매출액</th>\n",
       "      <th>누적매출액</th>\n",
       "      <th>예매관객수</th>\n",
       "      <th>누적관객수</th>\n",
       "    </tr>\n",
       "  </thead>\n",
       "  <tbody>\n",
       "    <tr>\n",
       "      <th>0</th>\n",
       "      <td>1.0</td>\n",
       "      <td>듄</td>\n",
       "      <td>2021-10-20</td>\n",
       "      <td>15.7</td>\n",
       "      <td>434030010.0</td>\n",
       "      <td>1.536796e+10</td>\n",
       "      <td>26429.0</td>\n",
       "      <td>1427720.0</td>\n",
       "    </tr>\n",
       "    <tr>\n",
       "      <th>1</th>\n",
       "      <td>2.0</td>\n",
       "      <td>고스트버스터즈 라이즈</td>\n",
       "      <td>2021-12-01</td>\n",
       "      <td>13.5</td>\n",
       "      <td>200069710.0</td>\n",
       "      <td>5.115000e+06</td>\n",
       "      <td>22688.0</td>\n",
       "      <td>545.0</td>\n",
       "    </tr>\n",
       "    <tr>\n",
       "      <th>2</th>\n",
       "      <td>3.0</td>\n",
       "      <td>유체이탈자</td>\n",
       "      <td>2021-11-24</td>\n",
       "      <td>10.7</td>\n",
       "      <td>148648200.0</td>\n",
       "      <td>3.871632e+09</td>\n",
       "      <td>18044.0</td>\n",
       "      <td>398457.0</td>\n",
       "    </tr>\n",
       "    <tr>\n",
       "      <th>3</th>\n",
       "      <td>4.0</td>\n",
       "      <td>라스트 나잇 인 소호</td>\n",
       "      <td>2021-12-01</td>\n",
       "      <td>9.5</td>\n",
       "      <td>127832510.0</td>\n",
       "      <td>2.358000e+06</td>\n",
       "      <td>16067.0</td>\n",
       "      <td>262.0</td>\n",
       "    </tr>\n",
       "    <tr>\n",
       "      <th>4</th>\n",
       "      <td>5.0</td>\n",
       "      <td>연애 빠진 로맨스</td>\n",
       "      <td>2021-11-24</td>\n",
       "      <td>7.0</td>\n",
       "      <td>107459930.0</td>\n",
       "      <td>2.338057e+09</td>\n",
       "      <td>11768.0</td>\n",
       "      <td>231647.0</td>\n",
       "    </tr>\n",
       "    <tr>\n",
       "      <th>5</th>\n",
       "      <td>6.0</td>\n",
       "      <td>엔칸토: 마법의 세계</td>\n",
       "      <td>2021-11-24</td>\n",
       "      <td>5.9</td>\n",
       "      <td>92065600.0</td>\n",
       "      <td>2.718391e+09</td>\n",
       "      <td>9961.0</td>\n",
       "      <td>284868.0</td>\n",
       "    </tr>\n",
       "    <tr>\n",
       "      <th>6</th>\n",
       "      <td>7.0</td>\n",
       "      <td>태일이</td>\n",
       "      <td>2021-12-01</td>\n",
       "      <td>5.2</td>\n",
       "      <td>72067930.0</td>\n",
       "      <td>4.826570e+08</td>\n",
       "      <td>8747.0</td>\n",
       "      <td>58523.0</td>\n",
       "    </tr>\n",
       "    <tr>\n",
       "      <th>7</th>\n",
       "      <td>8.0</td>\n",
       "      <td>킬링 카인드: 킬러의 수제자</td>\n",
       "      <td>2021-12-01</td>\n",
       "      <td>3.6</td>\n",
       "      <td>48586730.0</td>\n",
       "      <td>3.756000e+06</td>\n",
       "      <td>6114.0</td>\n",
       "      <td>406.0</td>\n",
       "    </tr>\n",
       "    <tr>\n",
       "      <th>8</th>\n",
       "      <td>9.0</td>\n",
       "      <td>몬스타엑스 : 더 드리밍</td>\n",
       "      <td>2021-12-08</td>\n",
       "      <td>2.8</td>\n",
       "      <td>75984000.0</td>\n",
       "      <td>0.000000e+00</td>\n",
       "      <td>4749.0</td>\n",
       "      <td>0.0</td>\n",
       "    </tr>\n",
       "    <tr>\n",
       "      <th>9</th>\n",
       "      <td>10.0</td>\n",
       "      <td>귀멸의 칼날: 주합회의·나비저택 편</td>\n",
       "      <td>2021-12-01</td>\n",
       "      <td>2.7</td>\n",
       "      <td>40266270.0</td>\n",
       "      <td>0.000000e+00</td>\n",
       "      <td>4468.0</td>\n",
       "      <td>0.0</td>\n",
       "    </tr>\n",
       "  </tbody>\n",
       "</table>\n",
       "</div>"
      ],
      "text/plain": [
       "     순위                  영화명         개봉일   예매율        예매매출액         누적매출액  \\\n",
       "0   1.0                    듄  2021-10-20  15.7  434030010.0  1.536796e+10   \n",
       "1   2.0          고스트버스터즈 라이즈  2021-12-01  13.5  200069710.0  5.115000e+06   \n",
       "2   3.0                유체이탈자  2021-11-24  10.7  148648200.0  3.871632e+09   \n",
       "3   4.0          라스트 나잇 인 소호  2021-12-01   9.5  127832510.0  2.358000e+06   \n",
       "4   5.0            연애 빠진 로맨스  2021-11-24   7.0  107459930.0  2.338057e+09   \n",
       "5   6.0          엔칸토: 마법의 세계  2021-11-24   5.9   92065600.0  2.718391e+09   \n",
       "6   7.0                  태일이  2021-12-01   5.2   72067930.0  4.826570e+08   \n",
       "7   8.0      킬링 카인드: 킬러의 수제자  2021-12-01   3.6   48586730.0  3.756000e+06   \n",
       "8   9.0        몬스타엑스 : 더 드리밍  2021-12-08   2.8   75984000.0  0.000000e+00   \n",
       "9  10.0  귀멸의 칼날: 주합회의·나비저택 편  2021-12-01   2.7   40266270.0  0.000000e+00   \n",
       "\n",
       "     예매관객수      누적관객수  \n",
       "0  26429.0  1427720.0  \n",
       "1  22688.0      545.0  \n",
       "2  18044.0   398457.0  \n",
       "3  16067.0      262.0  \n",
       "4  11768.0   231647.0  \n",
       "5   9961.0   284868.0  \n",
       "6   8747.0    58523.0  \n",
       "7   6114.0      406.0  \n",
       "8   4749.0        0.0  \n",
       "9   4468.0        0.0  "
      ]
     },
     "execution_count": 17,
     "metadata": {},
     "output_type": "execute_result"
    }
   ],
   "source": [
    "data.head(10)"
   ]
  },
  {
   "cell_type": "code",
   "execution_count": 19,
   "metadata": {},
   "outputs": [
    {
     "data": {
      "text/plain": [
       "순위\n",
       "1.0       1\n",
       "2.0       1\n",
       "3.0       1\n",
       "4.0       1\n",
       "5.0       1\n",
       "         ..\n",
       "182.0     6\n",
       "188.0    13\n",
       "201.0    17\n",
       "218.0    20\n",
       "238.0    15\n",
       "Name: 순위, Length: 124, dtype: int64"
      ]
     },
     "execution_count": 19,
     "metadata": {},
     "output_type": "execute_result"
    }
   ],
   "source": [
    "data.groupby(by=[\"순위\"])[\"순위\"].count()"
   ]
  },
  {
   "cell_type": "code",
   "execution_count": 21,
   "metadata": {},
   "outputs": [],
   "source": [
    "import pymysql\n",
    "import pandas as pd\n",
    "import os"
   ]
  },
  {
   "cell_type": "code",
   "execution_count": 24,
   "metadata": {},
   "outputs": [],
   "source": [
    "# csv파일 DB(mysql)에 저장  ->   510,392개 데이터\n",
    "\n",
    "import numpy as np\n",
    "\n",
    "# 1. connect\n",
    "conn = pymysql.connect(host=\"127.0.0.1\", port=3306, db='finalteam3', user=\"kdigital\", password=\"mysql\", charset=\"utf8\")\n",
    "\n",
    "# 2. get command object\n",
    "cursor = conn.cursor()\n",
    "#cursor.execute(\"delete from movie\") #기존 데이터를 지울 때 주석을 풀어주세요 \n",
    "\n",
    "# 3. execute command\n",
    "sql = \"\"\"insert into movie_ticketing (ranked, title, release_date, reserve_rate, reserve_revenue, accumulated_revenue, ticketing_view, accumulated_view) \n",
    "         values (%s, %s, %s, %s, %s, %s, %s, %s)\"\"\"\n",
    "for movie in data.values:\n",
    "    cursor.execute(sql, list(movie))\n",
    "                           \n",
    "# break\n",
    "\n",
    "conn.commit() # confirm previous executio\n",
    "\n",
    "# 4. close resource\n",
    "cursor.close()\n",
    "conn.close()"
   ]
  },
  {
   "cell_type": "code",
   "execution_count": 20,
   "metadata": {},
   "outputs": [],
   "source": [
    "# browser_proxy.close() #주석 풀어서 사용하세요) 가장 마지막 크롬 하나만 종료\n",
    "# browser_proxy.quit() #주석 풀어서 사용하세요) 크롬s 모두 종료"
   ]
  },
  {
   "cell_type": "code",
   "execution_count": null,
   "metadata": {},
   "outputs": [],
   "source": []
  }
 ],
 "metadata": {
  "interpreter": {
   "hash": "6b5b90c2d57a9523ce4b6388ce200731729fa1f983a14a46dc3441fc05717284"
  },
  "kernelspec": {
   "display_name": "Python 3.7.11 64-bit ('kdigital-pusan': conda)",
   "language": "python",
   "name": "python3"
  },
  "language_info": {
   "codemirror_mode": {
    "name": "ipython",
    "version": 3
   },
   "file_extension": ".py",
   "mimetype": "text/x-python",
   "name": "python",
   "nbconvert_exporter": "python",
   "pygments_lexer": "ipython3",
   "version": "3.7.11"
  },
  "orig_nbformat": 4
 },
 "nbformat": 4,
 "nbformat_minor": 2
}
