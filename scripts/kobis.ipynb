{
 "cells": [
  {
   "cell_type": "code",
   "execution_count": 19,
   "metadata": {},
   "outputs": [],
   "source": [
    "import requests # 웹 요청 도구\n",
    "from bs4 import BeautifulSoup # html에서 데이터 읽는 도구\n",
    "from bs4.element import NavigableString, Tag, Comment, ProcessingInstruction"
   ]
  },
  {
   "cell_type": "code",
   "execution_count": 32,
   "metadata": {},
   "outputs": [],
   "source": [
    "response = requests.get(\"https://www.kobis.or.kr/kobis/business/stat/boxs/findRealTicketList.do\")"
   ]
  },
  {
   "cell_type": "code",
   "execution_count": 33,
   "metadata": {},
   "outputs": [],
   "source": [
    "soup = BeautifulSoup(response.content)"
   ]
  },
  {
   "cell_type": "code",
   "execution_count": 34,
   "metadata": {},
   "outputs": [],
   "source": [
    "table = soup.select_one('.tbl_comm.th_sort')"
   ]
  },
  {
   "cell_type": "code",
   "execution_count": 29,
   "metadata": {},
   "outputs": [],
   "source": [
    "th_list = table.select('thead tr th')\n",
    "columns = []\n",
    "for th in th_list:\n",
    "    for c in th.children:\n",
    "        # print(c)\n",
    "        if type(c) == NavigableString and len(c.strip()) > 0:\n",
    "            columns.append(c.strip())"
   ]
  },
  {
   "cell_type": "code",
   "execution_count": 35,
   "metadata": {},
   "outputs": [
    {
     "data": {
      "text/plain": [
       "['순위', '영화명', '개봉일', '예매율', '예매매출액', '누적매출액', '예매관객수', '누적관객수']"
      ]
     },
     "execution_count": 35,
     "metadata": {},
     "output_type": "execute_result"
    }
   ],
   "source": [
    "columns"
   ]
  },
  {
   "cell_type": "code",
   "execution_count": 36,
   "metadata": {},
   "outputs": [
    {
     "name": "stdout",
     "output_type": "stream",
     "text": [
      "<td colspan=\"8\">검색된 데이터가 존재하지 않습니다.</td>\n"
     ]
    }
   ],
   "source": [
    "tr_list = table.select('tbody tr')\n",
    "values_list = []\n",
    "for tr in tr_list:\n",
    "    for td in tr.select('td'):\n",
    "        print(td)\n",
    "\n",
    "\n",
    "#beautifulsoup만으로는 크롤링 불가능. selenium(+chrome webdriver) 설치 필수"
   ]
  },
  {
   "cell_type": "code",
   "execution_count": 38,
   "metadata": {},
   "outputs": [],
   "source": [
    "from selenium import webdriver"
   ]
  },
  {
   "cell_type": "code",
   "execution_count": 43,
   "metadata": {},
   "outputs": [
    {
     "name": "stderr",
     "output_type": "stream",
     "text": [
      "/opt/anaconda3/envs/kdigital-pusan/lib/python3.7/site-packages/ipykernel_launcher.py:1: DeprecationWarning: executable_path has been deprecated, please pass in a Service object\n",
      "  \"\"\"Entry point for launching an IPython kernel.\n"
     ]
    }
   ],
   "source": [
    "browser_proxy = webdriver.Chrome(\"/Users/attitude/workspace/tools/chromedriver\")"
   ]
  },
  {
   "cell_type": "code",
   "execution_count": 45,
   "metadata": {},
   "outputs": [],
   "source": [
    "browser_proxy.get(\"https://www.kobis.or.kr/kobis/business/stat/boxs/findRealTicketList.do\")"
   ]
  },
  {
   "cell_type": "code",
   "execution_count": 46,
   "metadata": {},
   "outputs": [],
   "source": [
    "soup = BeautifulSoup(browser_proxy.page_source)"
   ]
  },
  {
   "cell_type": "code",
   "execution_count": 47,
   "metadata": {},
   "outputs": [],
   "source": [
    "table = soup.select_one('.tbl_comm.th_sort')"
   ]
  },
  {
   "cell_type": "code",
   "execution_count": 48,
   "metadata": {},
   "outputs": [],
   "source": [
    "th_list = table.select('thead tr th')\n",
    "columns = []\n",
    "for th in th_list:\n",
    "    for c in th.children:\n",
    "        # print(c)\n",
    "        if type(c) == NavigableString and len(c.strip()) > 0:\n",
    "            columns.append(c.strip())"
   ]
  },
  {
   "cell_type": "code",
   "execution_count": 49,
   "metadata": {},
   "outputs": [
    {
     "data": {
      "text/plain": [
       "['순위', '영화명', '개봉일', '예매율', '예매매출액', '누적매출액', '예매관객수', '누적관객수']"
      ]
     },
     "execution_count": 49,
     "metadata": {},
     "output_type": "execute_result"
    }
   ],
   "source": [
    "columns"
   ]
  },
  {
   "cell_type": "code",
   "execution_count": 60,
   "metadata": {},
   "outputs": [],
   "source": [
    "tr_list = table.select('tbody tr')\n",
    "values_list = []\n",
    "for tr in tr_list:\n",
    "    values = []\n",
    "    for td in tr.select('td'):\n",
    "        values.append(td.text.strip().replace(\"%\", '').replace(\",\", \"\"))\n",
    "    values_list.append(values)\n"
   ]
  },
  {
   "cell_type": "code",
   "execution_count": 61,
   "metadata": {},
   "outputs": [
    {
     "data": {
      "text/plain": [
       "[['1',\n",
       "  '듄',\n",
       "  '2021-10-20',\n",
       "  '16.2',\n",
       "  '433676170',\n",
       "  '15367958720',\n",
       "  '26585',\n",
       "  '1427720'],\n",
       " ['2',\n",
       "  '고스트버스터즈 라이즈',\n",
       "  '2021-12-01',\n",
       "  '12.9',\n",
       "  '186913270',\n",
       "  '5115000',\n",
       "  '21169',\n",
       "  '545'],\n",
       " ['3',\n",
       "  '유체이탈자',\n",
       "  '2021-11-24',\n",
       "  '11.4',\n",
       "  '156212570',\n",
       "  '3871617940',\n",
       "  '18707',\n",
       "  '398455']]"
      ]
     },
     "execution_count": 61,
     "metadata": {},
     "output_type": "execute_result"
    }
   ],
   "source": [
    "values_list[:3]"
   ]
  },
  {
   "cell_type": "code",
   "execution_count": 63,
   "metadata": {},
   "outputs": [],
   "source": [
    "import pandas as pd\n",
    "\n",
    "data = pd.DataFrame(values_list, columns=columns)"
   ]
  },
  {
   "cell_type": "code",
   "execution_count": 73,
   "metadata": {},
   "outputs": [],
   "source": [
    "# data.info()\n",
    "type(data.dtypes)\n",
    "for column in data.columns[[0, 3, 4, 5, 6, 7]]:\n",
    "    data[column] = data[column].astype(float)"
   ]
  },
  {
   "cell_type": "code",
   "execution_count": 75,
   "metadata": {},
   "outputs": [
    {
     "name": "stdout",
     "output_type": "stream",
     "text": [
      "<class 'pandas.core.frame.DataFrame'>\n",
      "RangeIndex: 241 entries, 0 to 240\n",
      "Data columns (total 8 columns):\n",
      " #   Column  Non-Null Count  Dtype  \n",
      "---  ------  --------------  -----  \n",
      " 0   순위      241 non-null    float64\n",
      " 1   영화명     241 non-null    object \n",
      " 2   개봉일     241 non-null    object \n",
      " 3   예매율     241 non-null    float64\n",
      " 4   예매매출액   241 non-null    float64\n",
      " 5   누적매출액   241 non-null    float64\n",
      " 6   예매관객수   241 non-null    float64\n",
      " 7   누적관객수   241 non-null    float64\n",
      "dtypes: float64(6), object(2)\n",
      "memory usage: 15.2+ KB\n"
     ]
    }
   ],
   "source": [
    "data.info()"
   ]
  },
  {
   "cell_type": "code",
   "execution_count": 76,
   "metadata": {},
   "outputs": [
    {
     "data": {
      "text/html": [
       "<div>\n",
       "<style scoped>\n",
       "    .dataframe tbody tr th:only-of-type {\n",
       "        vertical-align: middle;\n",
       "    }\n",
       "\n",
       "    .dataframe tbody tr th {\n",
       "        vertical-align: top;\n",
       "    }\n",
       "\n",
       "    .dataframe thead th {\n",
       "        text-align: right;\n",
       "    }\n",
       "</style>\n",
       "<table border=\"1\" class=\"dataframe\">\n",
       "  <thead>\n",
       "    <tr style=\"text-align: right;\">\n",
       "      <th></th>\n",
       "      <th>순위</th>\n",
       "      <th>영화명</th>\n",
       "      <th>개봉일</th>\n",
       "      <th>예매율</th>\n",
       "      <th>예매매출액</th>\n",
       "      <th>누적매출액</th>\n",
       "      <th>예매관객수</th>\n",
       "      <th>누적관객수</th>\n",
       "    </tr>\n",
       "  </thead>\n",
       "  <tbody>\n",
       "    <tr>\n",
       "      <th>0</th>\n",
       "      <td>1.0</td>\n",
       "      <td>듄</td>\n",
       "      <td>2021-10-20</td>\n",
       "      <td>16.2</td>\n",
       "      <td>433676170.0</td>\n",
       "      <td>1.536796e+10</td>\n",
       "      <td>26585.0</td>\n",
       "      <td>1427720.0</td>\n",
       "    </tr>\n",
       "    <tr>\n",
       "      <th>1</th>\n",
       "      <td>2.0</td>\n",
       "      <td>고스트버스터즈 라이즈</td>\n",
       "      <td>2021-12-01</td>\n",
       "      <td>12.9</td>\n",
       "      <td>186913270.0</td>\n",
       "      <td>5.115000e+06</td>\n",
       "      <td>21169.0</td>\n",
       "      <td>545.0</td>\n",
       "    </tr>\n",
       "    <tr>\n",
       "      <th>2</th>\n",
       "      <td>3.0</td>\n",
       "      <td>유체이탈자</td>\n",
       "      <td>2021-11-24</td>\n",
       "      <td>11.4</td>\n",
       "      <td>156212570.0</td>\n",
       "      <td>3.871618e+09</td>\n",
       "      <td>18707.0</td>\n",
       "      <td>398455.0</td>\n",
       "    </tr>\n",
       "    <tr>\n",
       "      <th>3</th>\n",
       "      <td>4.0</td>\n",
       "      <td>라스트 나잇 인 소호</td>\n",
       "      <td>2021-12-01</td>\n",
       "      <td>9.6</td>\n",
       "      <td>124623010.0</td>\n",
       "      <td>2.358000e+06</td>\n",
       "      <td>15739.0</td>\n",
       "      <td>262.0</td>\n",
       "    </tr>\n",
       "    <tr>\n",
       "      <th>4</th>\n",
       "      <td>5.0</td>\n",
       "      <td>엔칸토: 마법의 세계</td>\n",
       "      <td>2021-11-24</td>\n",
       "      <td>6.7</td>\n",
       "      <td>101574260.0</td>\n",
       "      <td>2.718332e+09</td>\n",
       "      <td>11009.0</td>\n",
       "      <td>284859.0</td>\n",
       "    </tr>\n",
       "    <tr>\n",
       "      <th>5</th>\n",
       "      <td>6.0</td>\n",
       "      <td>연애 빠진 로맨스</td>\n",
       "      <td>2021-11-24</td>\n",
       "      <td>5.7</td>\n",
       "      <td>88610600.0</td>\n",
       "      <td>2.338134e+09</td>\n",
       "      <td>9382.0</td>\n",
       "      <td>231656.0</td>\n",
       "    </tr>\n",
       "    <tr>\n",
       "      <th>6</th>\n",
       "      <td>7.0</td>\n",
       "      <td>태일이</td>\n",
       "      <td>2021-12-01</td>\n",
       "      <td>4.9</td>\n",
       "      <td>66347210.0</td>\n",
       "      <td>4.840010e+08</td>\n",
       "      <td>8083.0</td>\n",
       "      <td>58691.0</td>\n",
       "    </tr>\n",
       "    <tr>\n",
       "      <th>7</th>\n",
       "      <td>8.0</td>\n",
       "      <td>킬링 카인드: 킬러의 수제자</td>\n",
       "      <td>2021-12-01</td>\n",
       "      <td>3.5</td>\n",
       "      <td>45755930.0</td>\n",
       "      <td>3.756000e+06</td>\n",
       "      <td>5769.0</td>\n",
       "      <td>406.0</td>\n",
       "    </tr>\n",
       "    <tr>\n",
       "      <th>8</th>\n",
       "      <td>9.0</td>\n",
       "      <td>몬스타엑스 : 더 드리밍</td>\n",
       "      <td>2021-12-08</td>\n",
       "      <td>2.9</td>\n",
       "      <td>75984000.0</td>\n",
       "      <td>0.000000e+00</td>\n",
       "      <td>4749.0</td>\n",
       "      <td>0.0</td>\n",
       "    </tr>\n",
       "    <tr>\n",
       "      <th>9</th>\n",
       "      <td>10.0</td>\n",
       "      <td>귀멸의 칼날: 주합회의·나비저택 편</td>\n",
       "      <td>2021-12-01</td>\n",
       "      <td>2.6</td>\n",
       "      <td>37634370.0</td>\n",
       "      <td>0.000000e+00</td>\n",
       "      <td>4199.0</td>\n",
       "      <td>0.0</td>\n",
       "    </tr>\n",
       "  </tbody>\n",
       "</table>\n",
       "</div>"
      ],
      "text/plain": [
       "     순위                  영화명         개봉일   예매율        예매매출액         누적매출액  \\\n",
       "0   1.0                    듄  2021-10-20  16.2  433676170.0  1.536796e+10   \n",
       "1   2.0          고스트버스터즈 라이즈  2021-12-01  12.9  186913270.0  5.115000e+06   \n",
       "2   3.0                유체이탈자  2021-11-24  11.4  156212570.0  3.871618e+09   \n",
       "3   4.0          라스트 나잇 인 소호  2021-12-01   9.6  124623010.0  2.358000e+06   \n",
       "4   5.0          엔칸토: 마법의 세계  2021-11-24   6.7  101574260.0  2.718332e+09   \n",
       "5   6.0            연애 빠진 로맨스  2021-11-24   5.7   88610600.0  2.338134e+09   \n",
       "6   7.0                  태일이  2021-12-01   4.9   66347210.0  4.840010e+08   \n",
       "7   8.0      킬링 카인드: 킬러의 수제자  2021-12-01   3.5   45755930.0  3.756000e+06   \n",
       "8   9.0        몬스타엑스 : 더 드리밍  2021-12-08   2.9   75984000.0  0.000000e+00   \n",
       "9  10.0  귀멸의 칼날: 주합회의·나비저택 편  2021-12-01   2.6   37634370.0  0.000000e+00   \n",
       "\n",
       "     예매관객수      누적관객수  \n",
       "0  26585.0  1427720.0  \n",
       "1  21169.0      545.0  \n",
       "2  18707.0   398455.0  \n",
       "3  15739.0      262.0  \n",
       "4  11009.0   284859.0  \n",
       "5   9382.0   231656.0  \n",
       "6   8083.0    58691.0  \n",
       "7   5769.0      406.0  \n",
       "8   4749.0        0.0  \n",
       "9   4199.0        0.0  "
      ]
     },
     "execution_count": 76,
     "metadata": {},
     "output_type": "execute_result"
    }
   ],
   "source": [
    "data.head(10)"
   ]
  },
  {
   "cell_type": "code",
   "execution_count": null,
   "metadata": {},
   "outputs": [],
   "source": []
  }
 ],
 "metadata": {
  "interpreter": {
   "hash": "6b5b90c2d57a9523ce4b6388ce200731729fa1f983a14a46dc3441fc05717284"
  },
  "kernelspec": {
   "display_name": "Python 3.7.11 64-bit ('kdigital-pusan': conda)",
   "language": "python",
   "name": "python3"
  },
  "language_info": {
   "codemirror_mode": {
    "name": "ipython",
    "version": 3
   },
   "file_extension": ".py",
   "mimetype": "text/x-python",
   "name": "python",
   "nbconvert_exporter": "python",
   "pygments_lexer": "ipython3",
   "version": "3.7.11"
  },
  "orig_nbformat": 4
 },
 "nbformat": 4,
 "nbformat_minor": 2
}
