{
 "cells": [
  {
   "cell_type": "code",
   "execution_count": null,
   "metadata": {},
   "outputs": [],
   "source": [
    "#현재 상영작 가져오기\n",
    "import json\n",
    "import pandas as pd\n",
    "import requests\n",
    "import time\n",
    "\n",
    "now_playing = []\n",
    "for i in range(1,1000):\n",
    "    url = 'https://api.themoviedb.org/3/movie/now_playing?api_key={1}&language=ko-KR&page={0}'.format(i,'5ecfbcb3280f5e9f7898c3ca00acca81')\n",
    "    resp = requests.get(url)\n",
    "    now_playing.append(json.loads(resp.content))\n",
    "\n",
    "    if i == 20:\n",
    "        break\n",
    "\n",
    "movies = []\n",
    "for row in now_playing:\n",
    "    for result in row['results']:\n",
    "        movies.append(result)"
   ]
  },
  {
   "cell_type": "code",
   "execution_count": null,
   "metadata": {},
   "outputs": [],
   "source": [
    "import json\n",
    "import pandas as pd\n",
    "import requests\n",
    "import time\n",
    "\n",
    "popular_movies = []\n",
    "for i in range(20000,700000):\n",
    "    url=\"https://api.themoviedb.org/3/movie/{0}?api_key={1}&language=ko-KR\".format(i,'5ecfbcb3280f5e9f7898c3ca00acca81')\n",
    "    response = requests.get(url)\n",
    "    popular_movies.append(json.loads(response.content))\n",
    "    \n",
    "    if i == 99999 :\n",
    "        break\n",
    "    time.sleep(0.5)\n",
    "\n",
    "popular_movies\n",
    "tmdbmovielist = pd.DataFrame(popular_movies)\n",
    "tmdbmovielist.to_csv(\"tmdbmovielist(20000-99999).csv\", header=True, index=True)"
   ]
  }
 ],
 "metadata": {
  "language_info": {
   "name": "python"
  },
  "orig_nbformat": 4
 },
 "nbformat": 4,
 "nbformat_minor": 2
}
