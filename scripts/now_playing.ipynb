{
 "cells": [
  {
   "cell_type": "code",
   "execution_count": null,
   "metadata": {},
   "outputs": [],
   "source": [
    "#현재 상영작 가져오기\n",
    "import json\n",
    "import pandas as pd\n",
    "import requests\n",
    "import time\n",
    "\n",
    "now_playing = []\n",
    "for i in range(1,1000):\n",
    "    url = 'https://api.themoviedb.org/3/movie/now_playing?api_key={1}&language=ko-KR&page={0}'.format(i,'5ecfbcb3280f5e9f7898c3ca00acca81')\n",
    "    resp = requests.get(url)\n",
    "    now_playing.append(json.loads(resp.content))\n",
    "\n",
    "    if i == 20:\n",
    "        break\n",
    "\n",
    "movies = []\n",
    "for row in now_playing:\n",
    "    for result in row['results']:\n",
    "        movies.append(result)"
   ]
  },
  {
   "cell_type": "code",
   "execution_count": 33,
   "metadata": {},
   "outputs": [],
   "source": [
    "def crawling(idx):    \n",
    "    import json\n",
    "    import pandas as pd\n",
    "    import requests\n",
    "    import time\n",
    "\n",
    "    start = idx\n",
    "    end = idx + 9999\n",
    "    popular_movies = []\n",
    "    for i in range(start, end):\n",
    "        url=\"https://api.themoviedb.org/3/movie/{0}?api_key={1}&language=ko-KR\".format(i,'5ecfbcb3280f5e9f7898c3ca00acca81')\n",
    "        response = requests.get(url)\n",
    "        popular_movies.append(json.loads(response.content))\n",
    "        \n",
    "\n",
    "    popular_movies\n",
    "    tmdbmovielist = pd.DataFrame(popular_movies)\n",
    "    tmdbmovielist.to_csv(\"../data-files/tmdbmovielist({0}-{1}).csv\".format(start, end), header=True, index=True)"
   ]
  },
  {
   "cell_type": "code",
   "execution_count": 34,
   "metadata": {},
   "outputs": [],
   "source": [
    "for i in range(400000,500000,10000):\n",
    "    crawling(i)"
   ]
  },
  {
   "cell_type": "code",
   "execution_count": 30,
   "metadata": {},
   "outputs": [],
   "source": [
    "mo = list(range(400000,500000,10000))"
   ]
  },
  {
   "cell_type": "code",
   "execution_count": 31,
   "metadata": {},
   "outputs": [
    {
     "data": {
      "text/plain": [
       "[400000,\n",
       " 410000,\n",
       " 420000,\n",
       " 430000,\n",
       " 440000,\n",
       " 450000,\n",
       " 460000,\n",
       " 470000,\n",
       " 480000,\n",
       " 490000]"
      ]
     },
     "execution_count": 31,
     "metadata": {},
     "output_type": "execute_result"
    }
   ],
   "source": [
    "mo"
   ]
  }
 ],
 "metadata": {
  "interpreter": {
   "hash": "dfc1d8b9e40561b450c0b6847750c6fdfeb99218189e9277504933eee44f7507"
  },
  "kernelspec": {
   "display_name": "Python 3.7.11 64-bit ('kdigital-busan': conda)",
   "language": "python",
   "name": "python3"
  },
  "language_info": {
   "codemirror_mode": {
    "name": "ipython",
    "version": 3
   },
   "file_extension": ".py",
   "mimetype": "text/x-python",
   "name": "python",
   "nbconvert_exporter": "python",
   "pygments_lexer": "ipython3",
   "version": "3.7.11"
  },
  "orig_nbformat": 4
 },
 "nbformat": 4,
 "nbformat_minor": 2
}
