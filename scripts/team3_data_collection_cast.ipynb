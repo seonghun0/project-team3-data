{
 "cells": [
  {
   "cell_type": "code",
   "execution_count": 1,
   "metadata": {},
   "outputs": [],
   "source": [
    "import requests\n",
    "import json\n",
    "import pandas as pd\n",
    "import numpy as np\n",
    "import pymysql\n",
    "import os"
   ]
  },
  {
   "cell_type": "code",
   "execution_count": 2,
   "metadata": {},
   "outputs": [
    {
     "name": "stderr",
     "output_type": "stream",
     "text": [
      "C:\\Users\\bonomania\\.conda\\envs\\ykseo\\lib\\site-packages\\IPython\\core\\interactiveshell.py:3444: DtypeWarning: Columns (1,4,7,12,17,23) have mixed types.Specify dtype option on import or set low_memory=False.\n",
      "  exec(code_obj, self.user_global_ns, self.user_ns)\n"
     ]
    }
   ],
   "source": [
    "# 1. 영화id를 사용하기 위해 영화정보 파일가져오기 \n",
    "tmdb_movie_list = pd.read_csv('../data-files/total_tmdbmovielist.csv') "
   ]
  },
  {
   "cell_type": "code",
   "execution_count": 3,
   "metadata": {},
   "outputs": [
    {
     "name": "stdout",
     "output_type": "stream",
     "text": [
      "<class 'pandas.core.frame.DataFrame'>\n",
      "RangeIndex: 630186 entries, 0 to 630185\n",
      "Data columns (total 26 columns):\n",
      " #   Column                 Non-Null Count   Dtype  \n",
      "---  ------                 --------------   -----  \n",
      " 0   Unnamed: 0             630186 non-null  int64  \n",
      " 1   adult                  630158 non-null  object \n",
      " 2   backdrop_path          150102 non-null  object \n",
      " 3   belongs_to_collection  11995 non-null   object \n",
      " 4   budget                 630157 non-null  object \n",
      " 5   genres                 630155 non-null  object \n",
      " 6   homepage               69801 non-null   object \n",
      " 7   id                     630156 non-null  object \n",
      " 8   imdb_id                396414 non-null  object \n",
      " 9   original_language      630157 non-null  object \n",
      " 10  original_title         630130 non-null  object \n",
      " 11  overview               25238 non-null   object \n",
      " 12  popularity             630119 non-null  object \n",
      " 13  poster_path            426255 non-null  object \n",
      " 14  production_companies   630119 non-null  object \n",
      " 15  production_countries   630088 non-null  object \n",
      " 16  release_date           571778 non-null  object \n",
      " 17  revenue                630088 non-null  object \n",
      " 18  runtime                577000 non-null  float64\n",
      " 19  spoken_languages       630088 non-null  object \n",
      " 20  status                 630088 non-null  object \n",
      " 21  tagline                8100 non-null    object \n",
      " 22  title                  630086 non-null  object \n",
      " 23  video                  630086 non-null  object \n",
      " 24  vote_average           630086 non-null  float64\n",
      " 25  vote_count             630086 non-null  float64\n",
      "dtypes: float64(3), int64(1), object(22)\n",
      "memory usage: 125.0+ MB\n"
     ]
    }
   ],
   "source": [
    "# 2. 영화정보 중 id만 가져오기\n",
    "tmdb_movie_list.info()\n",
    "tmdb_movie_id_list = tmdb_movie_list[[\"id\"]]\n",
    "# del tmdb_movie_list"
   ]
  },
  {
   "cell_type": "code",
   "execution_count": 4,
   "metadata": {},
   "outputs": [
    {
     "name": "stdout",
     "output_type": "stream",
     "text": [
      "(630186, 1)\n"
     ]
    },
    {
     "data": {
      "text/html": [
       "<div>\n",
       "<style scoped>\n",
       "    .dataframe tbody tr th:only-of-type {\n",
       "        vertical-align: middle;\n",
       "    }\n",
       "\n",
       "    .dataframe tbody tr th {\n",
       "        vertical-align: top;\n",
       "    }\n",
       "\n",
       "    .dataframe thead th {\n",
       "        text-align: right;\n",
       "    }\n",
       "</style>\n",
       "<table border=\"1\" class=\"dataframe\">\n",
       "  <thead>\n",
       "    <tr style=\"text-align: right;\">\n",
       "      <th></th>\n",
       "      <th>id</th>\n",
       "    </tr>\n",
       "  </thead>\n",
       "  <tbody>\n",
       "    <tr>\n",
       "      <th>0</th>\n",
       "      <td>2.0</td>\n",
       "    </tr>\n",
       "    <tr>\n",
       "      <th>1</th>\n",
       "      <td>3.0</td>\n",
       "    </tr>\n",
       "    <tr>\n",
       "      <th>2</th>\n",
       "      <td>5.0</td>\n",
       "    </tr>\n",
       "    <tr>\n",
       "      <th>3</th>\n",
       "      <td>6.0</td>\n",
       "    </tr>\n",
       "    <tr>\n",
       "      <th>4</th>\n",
       "      <td>8.0</td>\n",
       "    </tr>\n",
       "  </tbody>\n",
       "</table>\n",
       "</div>"
      ],
      "text/plain": [
       "    id\n",
       "0  2.0\n",
       "1  3.0\n",
       "2  5.0\n",
       "3  6.0\n",
       "4  8.0"
      ]
     },
     "execution_count": 4,
     "metadata": {},
     "output_type": "execute_result"
    }
   ],
   "source": [
    "print(tmdb_movie_id_list.shape)\n",
    "tmdb_movie_id_list.head()"
   ]
  },
  {
   "cell_type": "code",
   "execution_count": 40,
   "metadata": {},
   "outputs": [],
   "source": [
    "## 영화 cast와 crew정보 3)영화id를 이용하여 cast와 crew정보 crawling  (너무 오래걸림)\n",
    "\n",
    "all_crew_list = []\n",
    "all_cast_list = []\n",
    "error_list = []\n",
    "for idx,  movie_id in enumerate(tmdb_movie_id_list[\"id\"].values):\n",
    "    try :\n",
    "        cast_url=\"https://api.themoviedb.org/3/movie/{0}?api_key=36927ad1d2817ff0fa31947e47d186fd&append_to_response=credits\"\n",
    "        response = requests.get(cast_url.format(movie_id))\n",
    "        json_object = response.content\n",
    "        movie_data = json.loads(json_object)\n",
    "        # cast_list += movie_data[\"credit\"][\"cast\"]\n",
    "        cast_list = movie_data[\"credits\"][\"cast\"]\n",
    "        for cast in cast_list:\n",
    "            cast[\"movie_id\"] = movie_id\n",
    "            all_cast_list.append(cast)\n",
    "        # crew_list += movie_data[\"credit\"]['crew']\n",
    "        crew_list = movie_data[\"credits\"][\"crew\"]\n",
    "        for crew in crew_list:\n",
    "            crew[\"movie_id\"] = movie_id\n",
    "            all_crew_list.append(crew)\n",
    "    except:\n",
    "        error_list.append(movie_id)"
   ]
  },
  {
   "cell_type": "code",
   "execution_count": null,
   "metadata": {},
   "outputs": [],
   "source": [
    "# cast 정보 csv파일로 저장 \n",
    "casts=pd.DataFrame(all_cast_list)\n",
    "casts.to_csv(\"crews.csv\", mode='w')"
   ]
  },
  {
   "cell_type": "code",
   "execution_count": null,
   "metadata": {},
   "outputs": [],
   "source": [
    "# cast정보 DB(mysql)에 저장 (테이블 만들어야 함)\n",
    "\n",
    "conn = pymysql.connect(host=\"localhost\",\n",
    "                       database=\"finalteam3\",\n",
    "                       user=\"kdigital\",\n",
    "                       password=\"mysql\",\n",
    "                       charset=\"utf8\")\n",
    "\n",
    "cursor.execute('DELETE FROM ')\n",
    "with conn.cursor() as cursor: # with가 종료될 때 cursor.close() 자동 호출\n",
    "    cursor.execute()\n",
    "    cursor.execute()\n",
    "    conn.commit() # 이전에 실행된 SQL 결과를 확정\n",
    "\n",
    "conn.close()"
   ]
  }
 ],
 "metadata": {
  "interpreter": {
   "hash": "f2fcd694705e23828841e6436414841c9e0551977625b01a6a0c570cf77493f9"
  },
  "kernelspec": {
   "display_name": "Python 3.7.11 64-bit ('ykseo': conda)",
   "language": "python",
   "name": "python3"
  },
  "language_info": {
   "codemirror_mode": {
    "name": "ipython",
    "version": 3
   },
   "file_extension": ".py",
   "mimetype": "text/x-python",
   "name": "python",
   "nbconvert_exporter": "python",
   "pygments_lexer": "ipython3",
   "version": "3.7.11"
  },
  "orig_nbformat": 4
 },
 "nbformat": 4,
 "nbformat_minor": 2
}
