{
 "cells": [
  {
   "cell_type": "code",
   "execution_count": 44,
   "metadata": {},
   "outputs": [
    {
     "name": "stderr",
     "output_type": "stream",
     "text": [
      "/Users/parkseonghun/opt/miniconda3/envs/kdigital-busan/lib/python3.7/site-packages/IPython/core/interactiveshell.py:3444: DtypeWarning: Columns (1,4,7,12,17,23) have mixed types.Specify dtype option on import or set low_memory=False.\n",
      "  exec(code_obj, self.user_global_ns, self.user_ns)\n"
     ]
    }
   ],
   "source": [
    "import pandas as pd\n",
    "movies3 = pd.read_csv(\"../data-files/total_tmdbmovielist.csv\", index_col=0, lineterminator= '\\n')"
   ]
  },
  {
   "cell_type": "code",
   "execution_count": 45,
   "metadata": {},
   "outputs": [],
   "source": [
    "movies3 = movies3[movies3['id'].notna()] # id na아닌거 남기기"
   ]
  },
  {
   "cell_type": "code",
   "execution_count": 46,
   "metadata": {},
   "outputs": [],
   "source": [
    "# 안쓰는 컬럼 제거 ( backdrop_path, belongs_to_collection, homepages, video, imdb_id, production_companies,spoken_languages, tagline,status)\n",
    "movies3 =movies3.drop(columns=['backdrop_path', 'belongs_to_collection','homepage','video','imdb_id', 'production_companies','spoken_languages','tagline','status'])"
   ]
  },
  {
   "cell_type": "code",
   "execution_count": 47,
   "metadata": {},
   "outputs": [],
   "source": [
    "movies3 = movies3[movies3['title'].notna()]"
   ]
  },
  {
   "cell_type": "code",
   "execution_count": 48,
   "metadata": {},
   "outputs": [],
   "source": [
    "movies3 = movies3[movies3['vote_count'].notna()]"
   ]
  },
  {
   "cell_type": "code",
   "execution_count": 49,
   "metadata": {},
   "outputs": [],
   "source": [
    "movies3 = movies3.drop(columns=['genres','original_language','original_title','overview','popularity','poster_path','release_date','title','vote_average','vote_count'])"
   ]
  },
  {
   "cell_type": "code",
   "execution_count": 50,
   "metadata": {},
   "outputs": [
    {
     "data": {
      "text/html": [
       "<div>\n",
       "<style scoped>\n",
       "    .dataframe tbody tr th:only-of-type {\n",
       "        vertical-align: middle;\n",
       "    }\n",
       "\n",
       "    .dataframe tbody tr th {\n",
       "        vertical-align: top;\n",
       "    }\n",
       "\n",
       "    .dataframe thead th {\n",
       "        text-align: right;\n",
       "    }\n",
       "</style>\n",
       "<table border=\"1\" class=\"dataframe\">\n",
       "  <thead>\n",
       "    <tr style=\"text-align: right;\">\n",
       "      <th></th>\n",
       "      <th>adult</th>\n",
       "      <th>budget</th>\n",
       "      <th>id</th>\n",
       "      <th>production_countries</th>\n",
       "      <th>revenue</th>\n",
       "      <th>runtime</th>\n",
       "    </tr>\n",
       "  </thead>\n",
       "  <tbody>\n",
       "    <tr>\n",
       "      <th>652710</th>\n",
       "      <td>False</td>\n",
       "      <td>0.0</td>\n",
       "      <td>699995.0</td>\n",
       "      <td>[Czechoslovakia]</td>\n",
       "      <td>0.0</td>\n",
       "      <td>0.0</td>\n",
       "    </tr>\n",
       "    <tr>\n",
       "      <th>652711</th>\n",
       "      <td>False</td>\n",
       "      <td>0.0</td>\n",
       "      <td>699996.0</td>\n",
       "      <td>[]</td>\n",
       "      <td>0.0</td>\n",
       "      <td>107.0</td>\n",
       "    </tr>\n",
       "    <tr>\n",
       "      <th>652712</th>\n",
       "      <td>False</td>\n",
       "      <td>0.0</td>\n",
       "      <td>699997.0</td>\n",
       "      <td>[]</td>\n",
       "      <td>0.0</td>\n",
       "      <td>12.0</td>\n",
       "    </tr>\n",
       "    <tr>\n",
       "      <th>652713</th>\n",
       "      <td>False</td>\n",
       "      <td>0.0</td>\n",
       "      <td>699998.0</td>\n",
       "      <td>[Mexico, United States of America]</td>\n",
       "      <td>0.0</td>\n",
       "      <td>0.0</td>\n",
       "    </tr>\n",
       "    <tr>\n",
       "      <th>652714</th>\n",
       "      <td>False</td>\n",
       "      <td>0.0</td>\n",
       "      <td>699999.0</td>\n",
       "      <td>[]</td>\n",
       "      <td>0.0</td>\n",
       "      <td>47.0</td>\n",
       "    </tr>\n",
       "  </tbody>\n",
       "</table>\n",
       "</div>"
      ],
      "text/plain": [
       "        adult budget        id                production_countries revenue  \\\n",
       "652710  False    0.0  699995.0                    [Czechoslovakia]     0.0   \n",
       "652711  False    0.0  699996.0                                  []     0.0   \n",
       "652712  False    0.0  699997.0                                  []     0.0   \n",
       "652713  False    0.0  699998.0  [Mexico, United States of America]     0.0   \n",
       "652714  False    0.0  699999.0                                  []     0.0   \n",
       "\n",
       "        runtime  \n",
       "652710      0.0  \n",
       "652711    107.0  \n",
       "652712     12.0  \n",
       "652713      0.0  \n",
       "652714     47.0  "
      ]
     },
     "execution_count": 50,
     "metadata": {},
     "output_type": "execute_result"
    }
   ],
   "source": [
    "# 1. 영화테이블에서 장르id만 추출하여 genre_ids칼럼을 만들기  \n",
    "\n",
    "# str자료형을 list로 변경하는 함수\n",
    "error_list_x = []\n",
    "def genres_str_to_list(genres_str):\n",
    "    import json\n",
    "    # print(genres_str)\n",
    "    genre_id_list = []\n",
    "    try :\n",
    "        genres_list = json.loads(genres_str.replace(\"\\'\", \"\\\"\"))\n",
    "        for production_country in genres_list:\n",
    "            genre_id_list.append(production_country['name'])\n",
    "\n",
    "    except:\n",
    "        error_list_x.append(genres_str)\n",
    "    \n",
    "    return genre_id_list\n",
    "\n",
    "# 장르 id를 추출하여 genre_ids칼럼 추가\n",
    "movies3['production_countries'] = movies3['production_countries'].map(genres_str_to_list)\n",
    "movies3.tail(5)"
   ]
  },
  {
   "cell_type": "code",
   "execution_count": 51,
   "metadata": {},
   "outputs": [],
   "source": [
    "movies3['runtime'] = movies3['runtime'].apply(lambda ov : ov if str(ov) != 'nan' else 0 )"
   ]
  },
  {
   "cell_type": "code",
   "execution_count": 52,
   "metadata": {},
   "outputs": [],
   "source": [
    "movies4 = movies3.drop(columns=['production_countries'])"
   ]
  },
  {
   "cell_type": "code",
   "execution_count": null,
   "metadata": {},
   "outputs": [],
   "source": []
  },
  {
   "cell_type": "code",
   "execution_count": 53,
   "metadata": {},
   "outputs": [
    {
     "name": "stdout",
     "output_type": "stream",
     "text": [
      "<class 'pandas.core.frame.DataFrame'>\n",
      "Int64Index: 652612 entries, 0 to 652714\n",
      "Data columns (total 5 columns):\n",
      " #   Column   Non-Null Count   Dtype  \n",
      "---  ------   --------------   -----  \n",
      " 0   adult    652612 non-null  object \n",
      " 1   budget   652612 non-null  object \n",
      " 2   id       652612 non-null  object \n",
      " 3   revenue  652612 non-null  object \n",
      " 4   runtime  652612 non-null  float64\n",
      "dtypes: float64(1), object(4)\n",
      "memory usage: 29.9+ MB\n"
     ]
    }
   ],
   "source": [
    "movies4.info()"
   ]
  },
  {
   "cell_type": "code",
   "execution_count": 55,
   "metadata": {},
   "outputs": [],
   "source": [
    "\n",
    "import pymysql\n",
    "\n",
    "conn = pymysql.connect(host=\"localhost\",\n",
    "                       database=\"finalteam3\",\n",
    "                       user=\"kdigital\",\n",
    "                       password=\"mysql\",\n",
    "                       charset=\"utf8\")\n",
    "cursor = conn.cursor()\n",
    "cursor.execute('DELETE FROM movie2')\n",
    "\n",
    "error_list2 = []\n",
    "\n",
    "movies3['runtime'] = movies3['runtime'].apply(lambda ov : ov if str(ov) != 'nan' else 0 )\n",
    "for movie in movies4.values:\n",
    "\n",
    "    sql= \"insert into movie2 (adult, budget, movie_id, revenue, runtime ) values (%s, %s, %s, %s, %s)\"\n",
    "    try:\n",
    "        cursor.execute(sql, list(movie)   )\n",
    "    except:\n",
    "        error_list2.append(movie)\n",
    "\n",
    "conn.commit()\n",
    "cursor.close()\n",
    "\n",
    "conn.close()"
   ]
  },
  {
   "cell_type": "code",
   "execution_count": 56,
   "metadata": {},
   "outputs": [
    {
     "data": {
      "text/plain": [
       "125048"
      ]
     },
     "execution_count": 56,
     "metadata": {},
     "output_type": "execute_result"
    }
   ],
   "source": [
    "len(error_list2)"
   ]
  }
 ],
 "metadata": {
  "interpreter": {
   "hash": "f2fcd694705e23828841e6436414841c9e0551977625b01a6a0c570cf77493f9"
  },
  "kernelspec": {
   "display_name": "Python 3.7.11 64-bit ('ykseo': conda)",
   "language": "python",
   "name": "python3"
  },
  "language_info": {
   "codemirror_mode": {
    "name": "ipython",
    "version": 3
   },
   "file_extension": ".py",
   "mimetype": "text/x-python",
   "name": "python",
   "nbconvert_exporter": "python",
   "pygments_lexer": "ipython3",
   "version": "3.7.11"
  },
  "orig_nbformat": 4
 },
 "nbformat": 4,
 "nbformat_minor": 2
}
