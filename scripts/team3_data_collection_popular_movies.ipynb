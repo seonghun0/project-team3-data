{
 "cells": [
  {
   "cell_type": "code",
   "execution_count": 2,
   "metadata": {},
   "outputs": [],
   "source": [
    "import json\n",
    "import pandas as pd\n",
    "import requests\n",
    "\n",
    "popular = []\n",
    "for i in range(1,1000):\n",
    "    url = 'https://api.themoviedb.org/3/movie/popular?api_key={1}&language=ko-KR&page={0}'.format(i,'36927ad1d2817ff0fa31947e47d186fd')\n",
    "    resp = requests.get(url)\n",
    "    popular.append(json.loads(resp.content))\n",
    "\n",
    "    if i == 10:\n",
    "        break\n",
    "\n",
    "popular_movies = []\n",
    "for row in popular:\n",
    "    for result in row ['results']:\n",
    "        popular_movies.append(result)"
   ]
  },
  {
   "cell_type": "code",
   "execution_count": 3,
   "metadata": {},
   "outputs": [
    {
     "name": "stdout",
     "output_type": "stream",
     "text": [
      "<class 'pandas.core.frame.DataFrame'>\n",
      "RangeIndex: 200 entries, 0 to 199\n",
      "Data columns (total 14 columns):\n",
      " #   Column             Non-Null Count  Dtype  \n",
      "---  ------             --------------  -----  \n",
      " 0   adult              200 non-null    bool   \n",
      " 1   backdrop_path      199 non-null    object \n",
      " 2   genre_ids          200 non-null    object \n",
      " 3   id                 200 non-null    int64  \n",
      " 4   original_language  200 non-null    object \n",
      " 5   original_title     200 non-null    object \n",
      " 6   overview           200 non-null    object \n",
      " 7   popularity         200 non-null    float64\n",
      " 8   poster_path        200 non-null    object \n",
      " 9   release_date       200 non-null    object \n",
      " 10  title              200 non-null    object \n",
      " 11  video              200 non-null    bool   \n",
      " 12  vote_average       200 non-null    float64\n",
      " 13  vote_count         200 non-null    int64  \n",
      "dtypes: bool(2), float64(2), int64(2), object(8)\n",
      "memory usage: 19.3+ KB\n"
     ]
    }
   ],
   "source": [
    "popular_movies=pd.DataFrame(popular_movies)\n",
    "popular_movies.info()"
   ]
  },
  {
   "cell_type": "code",
   "execution_count": 4,
   "metadata": {},
   "outputs": [],
   "source": [
    "# popular_movies.to_csv(\"../data-files/popular_movies.csv\", header=True, index=True)"
   ]
  },
  {
   "cell_type": "code",
   "execution_count": 5,
   "metadata": {},
   "outputs": [],
   "source": [
    "popular_movies=popular_movies.drop(['adult', 'backdrop_path', 'video','genre_ids'], axis=1)"
   ]
  },
  {
   "cell_type": "code",
   "execution_count": 6,
   "metadata": {},
   "outputs": [
    {
     "data": {
      "text/html": [
       "<div>\n",
       "<style scoped>\n",
       "    .dataframe tbody tr th:only-of-type {\n",
       "        vertical-align: middle;\n",
       "    }\n",
       "\n",
       "    .dataframe tbody tr th {\n",
       "        vertical-align: top;\n",
       "    }\n",
       "\n",
       "    .dataframe thead th {\n",
       "        text-align: right;\n",
       "    }\n",
       "</style>\n",
       "<table border=\"1\" class=\"dataframe\">\n",
       "  <thead>\n",
       "    <tr style=\"text-align: right;\">\n",
       "      <th></th>\n",
       "      <th>id</th>\n",
       "      <th>original_language</th>\n",
       "      <th>original_title</th>\n",
       "      <th>overview</th>\n",
       "      <th>popularity</th>\n",
       "      <th>poster_path</th>\n",
       "      <th>release_date</th>\n",
       "      <th>title</th>\n",
       "      <th>vote_average</th>\n",
       "      <th>vote_count</th>\n",
       "    </tr>\n",
       "  </thead>\n",
       "  <tbody>\n",
       "    <tr>\n",
       "      <th>0</th>\n",
       "      <td>580489</td>\n",
       "      <td>en</td>\n",
       "      <td>Venom: Let There Be Carnage</td>\n",
       "      <td>연쇄살인마 클리터스 캐서디(우디 해럴슨)가 사형선고를 받는다. 죽을 생각이 전혀 없...</td>\n",
       "      <td>12506.888</td>\n",
       "      <td>/1Lh9LER4xRQ3INFFi2dfS2hpRwv.jpg</td>\n",
       "      <td>2021-09-30</td>\n",
       "      <td>베놈 2: 렛 데어 비 카니지</td>\n",
       "      <td>7.2</td>\n",
       "      <td>4025</td>\n",
       "    </tr>\n",
       "    <tr>\n",
       "      <th>1</th>\n",
       "      <td>512195</td>\n",
       "      <td>en</td>\n",
       "      <td>Red Notice</td>\n",
       "      <td>인터폴이 중범죄 피의자를 대상으로 내리는 전 세계적 경보인 레드 노티스. 세계 곳곳...</td>\n",
       "      <td>4404.247</td>\n",
       "      <td>/gG06Uu6UQseYaPx1RU2PQjFEUKK.jpg</td>\n",
       "      <td>2021-11-04</td>\n",
       "      <td>레드 노티스</td>\n",
       "      <td>6.9</td>\n",
       "      <td>1763</td>\n",
       "    </tr>\n",
       "  </tbody>\n",
       "</table>\n",
       "</div>"
      ],
      "text/plain": [
       "       id original_language               original_title  \\\n",
       "0  580489                en  Venom: Let There Be Carnage   \n",
       "1  512195                en                   Red Notice   \n",
       "\n",
       "                                            overview  popularity  \\\n",
       "0  연쇄살인마 클리터스 캐서디(우디 해럴슨)가 사형선고를 받는다. 죽을 생각이 전혀 없...   12506.888   \n",
       "1  인터폴이 중범죄 피의자를 대상으로 내리는 전 세계적 경보인 레드 노티스. 세계 곳곳...    4404.247   \n",
       "\n",
       "                        poster_path release_date             title  \\\n",
       "0  /1Lh9LER4xRQ3INFFi2dfS2hpRwv.jpg   2021-09-30  베놈 2: 렛 데어 비 카니지   \n",
       "1  /gG06Uu6UQseYaPx1RU2PQjFEUKK.jpg   2021-11-04            레드 노티스   \n",
       "\n",
       "   vote_average  vote_count  \n",
       "0           7.2        4025  \n",
       "1           6.9        1763  "
      ]
     },
     "execution_count": 6,
     "metadata": {},
     "output_type": "execute_result"
    }
   ],
   "source": [
    "popular_movies.head(2)"
   ]
  },
  {
   "cell_type": "code",
   "execution_count": 7,
   "metadata": {},
   "outputs": [
    {
     "data": {
      "text/html": [
       "<div>\n",
       "<style scoped>\n",
       "    .dataframe tbody tr th:only-of-type {\n",
       "        vertical-align: middle;\n",
       "    }\n",
       "\n",
       "    .dataframe tbody tr th {\n",
       "        vertical-align: top;\n",
       "    }\n",
       "\n",
       "    .dataframe thead th {\n",
       "        text-align: right;\n",
       "    }\n",
       "</style>\n",
       "<table border=\"1\" class=\"dataframe\">\n",
       "  <thead>\n",
       "    <tr style=\"text-align: right;\">\n",
       "      <th></th>\n",
       "      <th>movie_id</th>\n",
       "      <th>original_language</th>\n",
       "      <th>subtitle</th>\n",
       "      <th>overview</th>\n",
       "      <th>popularity</th>\n",
       "      <th>posterpath</th>\n",
       "      <th>release_date</th>\n",
       "      <th>title</th>\n",
       "      <th>vote_average</th>\n",
       "      <th>vote_count</th>\n",
       "    </tr>\n",
       "  </thead>\n",
       "  <tbody>\n",
       "    <tr>\n",
       "      <th>0</th>\n",
       "      <td>580489</td>\n",
       "      <td>en</td>\n",
       "      <td>Venom: Let There Be Carnage</td>\n",
       "      <td>연쇄살인마 클리터스 캐서디(우디 해럴슨)가 사형선고를 받는다. 죽을 생각이 전혀 없...</td>\n",
       "      <td>12506.888</td>\n",
       "      <td>/1Lh9LER4xRQ3INFFi2dfS2hpRwv.jpg</td>\n",
       "      <td>2021-09-30</td>\n",
       "      <td>베놈 2: 렛 데어 비 카니지</td>\n",
       "      <td>7.2</td>\n",
       "      <td>4025</td>\n",
       "    </tr>\n",
       "    <tr>\n",
       "      <th>1</th>\n",
       "      <td>512195</td>\n",
       "      <td>en</td>\n",
       "      <td>Red Notice</td>\n",
       "      <td>인터폴이 중범죄 피의자를 대상으로 내리는 전 세계적 경보인 레드 노티스. 세계 곳곳...</td>\n",
       "      <td>4404.247</td>\n",
       "      <td>/gG06Uu6UQseYaPx1RU2PQjFEUKK.jpg</td>\n",
       "      <td>2021-11-04</td>\n",
       "      <td>레드 노티스</td>\n",
       "      <td>6.9</td>\n",
       "      <td>1763</td>\n",
       "    </tr>\n",
       "  </tbody>\n",
       "</table>\n",
       "</div>"
      ],
      "text/plain": [
       "   movie_id original_language                     subtitle  \\\n",
       "0    580489                en  Venom: Let There Be Carnage   \n",
       "1    512195                en                   Red Notice   \n",
       "\n",
       "                                            overview  popularity  \\\n",
       "0  연쇄살인마 클리터스 캐서디(우디 해럴슨)가 사형선고를 받는다. 죽을 생각이 전혀 없...   12506.888   \n",
       "1  인터폴이 중범죄 피의자를 대상으로 내리는 전 세계적 경보인 레드 노티스. 세계 곳곳...    4404.247   \n",
       "\n",
       "                         posterpath release_date             title  \\\n",
       "0  /1Lh9LER4xRQ3INFFi2dfS2hpRwv.jpg   2021-09-30  베놈 2: 렛 데어 비 카니지   \n",
       "1  /gG06Uu6UQseYaPx1RU2PQjFEUKK.jpg   2021-11-04            레드 노티스   \n",
       "\n",
       "   vote_average  vote_count  \n",
       "0           7.2        4025  \n",
       "1           6.9        1763  "
      ]
     },
     "execution_count": 7,
     "metadata": {},
     "output_type": "execute_result"
    }
   ],
   "source": [
    "# 칼럼이름을 DB 칼럼이름과 동일하게 변경\n",
    "\n",
    "popular_movies=popular_movies.rename(columns={'id':'movie_id', 'original_title':'subtitle','poster_path':'posterpath'})\n",
    "popular_movies.head(2)"
   ]
  },
  {
   "cell_type": "code",
   "execution_count": 8,
   "metadata": {},
   "outputs": [
    {
     "data": {
      "text/plain": [
       "movie_id             0\n",
       "original_language    0\n",
       "subtitle             0\n",
       "overview             0\n",
       "popularity           0\n",
       "posterpath           0\n",
       "release_date         0\n",
       "title                0\n",
       "vote_average         0\n",
       "vote_count           0\n",
       "dtype: int64"
      ]
     },
     "execution_count": 8,
     "metadata": {},
     "output_type": "execute_result"
    }
   ],
   "source": [
    "popular_movies.isna().sum()"
   ]
  },
  {
   "cell_type": "code",
   "execution_count": 9,
   "metadata": {},
   "outputs": [
    {
     "data": {
      "text/html": [
       "<div>\n",
       "<style scoped>\n",
       "    .dataframe tbody tr th:only-of-type {\n",
       "        vertical-align: middle;\n",
       "    }\n",
       "\n",
       "    .dataframe tbody tr th {\n",
       "        vertical-align: top;\n",
       "    }\n",
       "\n",
       "    .dataframe thead th {\n",
       "        text-align: right;\n",
       "    }\n",
       "</style>\n",
       "<table border=\"1\" class=\"dataframe\">\n",
       "  <thead>\n",
       "    <tr style=\"text-align: right;\">\n",
       "      <th></th>\n",
       "      <th>movie_id</th>\n",
       "    </tr>\n",
       "  </thead>\n",
       "  <tbody>\n",
       "    <tr>\n",
       "      <th>0</th>\n",
       "      <td>580489</td>\n",
       "    </tr>\n",
       "    <tr>\n",
       "      <th>1</th>\n",
       "      <td>512195</td>\n",
       "    </tr>\n",
       "    <tr>\n",
       "      <th>2</th>\n",
       "      <td>585245</td>\n",
       "    </tr>\n",
       "    <tr>\n",
       "      <th>3</th>\n",
       "      <td>566525</td>\n",
       "    </tr>\n",
       "    <tr>\n",
       "      <th>4</th>\n",
       "      <td>589761</td>\n",
       "    </tr>\n",
       "    <tr>\n",
       "      <th>...</th>\n",
       "      <td>...</td>\n",
       "    </tr>\n",
       "    <tr>\n",
       "      <th>195</th>\n",
       "      <td>743439</td>\n",
       "    </tr>\n",
       "    <tr>\n",
       "      <th>196</th>\n",
       "      <td>866408</td>\n",
       "    </tr>\n",
       "    <tr>\n",
       "      <th>197</th>\n",
       "      <td>852663</td>\n",
       "    </tr>\n",
       "    <tr>\n",
       "      <th>198</th>\n",
       "      <td>15092</td>\n",
       "    </tr>\n",
       "    <tr>\n",
       "      <th>199</th>\n",
       "      <td>675</td>\n",
       "    </tr>\n",
       "  </tbody>\n",
       "</table>\n",
       "<p>200 rows × 1 columns</p>\n",
       "</div>"
      ],
      "text/plain": [
       "     movie_id\n",
       "0      580489\n",
       "1      512195\n",
       "2      585245\n",
       "3      566525\n",
       "4      589761\n",
       "..        ...\n",
       "195    743439\n",
       "196    866408\n",
       "197    852663\n",
       "198     15092\n",
       "199       675\n",
       "\n",
       "[200 rows x 1 columns]"
      ]
     },
     "execution_count": 9,
     "metadata": {},
     "output_type": "execute_result"
    }
   ],
   "source": [
    "popular_movies_ids=popular_movies[[\"movie_id\"]]\n",
    "popular_movies_ids"
   ]
  },
  {
   "cell_type": "code",
   "execution_count": 11,
   "metadata": {},
   "outputs": [],
   "source": [
    "import pymysql\n",
    "\n",
    "conn = pymysql.connect(host=\"localhost\",\n",
    "                       database=\"finalteam3\",\n",
    "                       user=\"kdigital\",\n",
    "                       password=\"mysql\",\n",
    "                       charset=\"utf8\")\n",
    "cursor = conn.cursor()\n",
    "\n",
    "# cursor.execute('DELETE FROM popular_movies')\n",
    "error_list=[]\n",
    "for movie_id in popular_movies_ids.values:\n",
    "    # print(type(movie_id), movie_id)  # movie_id type이 nd.arrary임.\n",
    "    try:\n",
    "        sql= \"INSERT INTO popular_movies VALUES(%s)\"\n",
    "        cursor.execute(sql, movie_id[0]) \n",
    "    except:\n",
    "        error_list.append(movie_id)\n",
    "    \n",
    "conn.commit()\n",
    "cursor.close()\n",
    "conn.close()"
   ]
  },
  {
   "cell_type": "code",
   "execution_count": 13,
   "metadata": {},
   "outputs": [
    {
     "data": {
      "text/plain": [
       "17"
      ]
     },
     "execution_count": 13,
     "metadata": {},
     "output_type": "execute_result"
    }
   ],
   "source": [
    "len(error_list)"
   ]
  }
 ],
 "metadata": {
  "interpreter": {
   "hash": "dfc1d8b9e40561b450c0b6847750c6fdfeb99218189e9277504933eee44f7507"
  },
  "kernelspec": {
   "display_name": "Python 3.7.11 64-bit ('kdigital-busan': conda)",
   "language": "python",
   "name": "python3"
  },
  "language_info": {
   "codemirror_mode": {
    "name": "ipython",
    "version": 3
   },
   "file_extension": ".py",
   "mimetype": "text/x-python",
   "name": "python",
   "nbconvert_exporter": "python",
   "pygments_lexer": "ipython3",
   "version": "3.9.7"
  },
  "orig_nbformat": 4
 },
 "nbformat": 4,
 "nbformat_minor": 2
}
