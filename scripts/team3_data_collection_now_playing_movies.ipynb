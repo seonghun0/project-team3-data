{
 "cells": [
  {
   "cell_type": "code",
   "execution_count": 37,
   "metadata": {},
   "outputs": [],
   "source": [
    "import json\n",
    "import pandas as pd\n",
    "import requests\n",
    "\n",
    "now_playing = []\n",
    "for i in range(1,1000):\n",
    "    url = 'https://api.themoviedb.org/3/movie/now_playing?api_key={1}&language=ko-KR&page={0}'.format(i,'5ecfbcb3280f5e9f7898c3ca00acca81')\n",
    "    resp = requests.get(url)\n",
    "    now_playing.append(json.loads(resp.content))\n",
    "\n",
    "    if i == 10:\n",
    "        break\n",
    "\n",
    "now_playing_movies = []\n",
    "for row in now_playing:\n",
    "    for result in row ['results']:\n",
    "        now_playing_movies.append(result)"
   ]
  },
  {
   "cell_type": "code",
   "execution_count": 38,
   "metadata": {},
   "outputs": [
    {
     "name": "stdout",
     "output_type": "stream",
     "text": [
      "<class 'pandas.core.frame.DataFrame'>\n",
      "RangeIndex: 200 entries, 0 to 199\n",
      "Data columns (total 14 columns):\n",
      " #   Column             Non-Null Count  Dtype  \n",
      "---  ------             --------------  -----  \n",
      " 0   adult              200 non-null    bool   \n",
      " 1   backdrop_path      200 non-null    object \n",
      " 2   genre_ids          200 non-null    object \n",
      " 3   id                 200 non-null    int64  \n",
      " 4   original_language  200 non-null    object \n",
      " 5   original_title     200 non-null    object \n",
      " 6   overview           200 non-null    object \n",
      " 7   popularity         200 non-null    float64\n",
      " 8   poster_path        200 non-null    object \n",
      " 9   release_date       200 non-null    object \n",
      " 10  title              200 non-null    object \n",
      " 11  video              200 non-null    bool   \n",
      " 12  vote_average       200 non-null    float64\n",
      " 13  vote_count         200 non-null    int64  \n",
      "dtypes: bool(2), float64(2), int64(2), object(8)\n",
      "memory usage: 19.3+ KB\n"
     ]
    }
   ],
   "source": [
    "now_playing_movies=pd.DataFrame(now_playing_movies)\n",
    "now_playing_movies.info()"
   ]
  },
  {
   "cell_type": "code",
   "execution_count": 39,
   "metadata": {},
   "outputs": [],
   "source": [
    "now_playing_movies.to_csv(\"../data-files/now_playing_movies.csv\", header=True, index=True)"
   ]
  },
  {
   "cell_type": "code",
   "execution_count": 5,
   "metadata": {},
   "outputs": [],
   "source": [
    "now_playing_movies=now_playing_movies.drop(['adult', 'backdrop_path', 'video','genre_ids'], axis=1)"
   ]
  },
  {
   "cell_type": "code",
   "execution_count": 6,
   "metadata": {},
   "outputs": [
    {
     "data": {
      "text/html": [
       "<div>\n",
       "<style scoped>\n",
       "    .dataframe tbody tr th:only-of-type {\n",
       "        vertical-align: middle;\n",
       "    }\n",
       "\n",
       "    .dataframe tbody tr th {\n",
       "        vertical-align: top;\n",
       "    }\n",
       "\n",
       "    .dataframe thead th {\n",
       "        text-align: right;\n",
       "    }\n",
       "</style>\n",
       "<table border=\"1\" class=\"dataframe\">\n",
       "  <thead>\n",
       "    <tr style=\"text-align: right;\">\n",
       "      <th></th>\n",
       "      <th>id</th>\n",
       "      <th>original_language</th>\n",
       "      <th>original_title</th>\n",
       "      <th>overview</th>\n",
       "      <th>popularity</th>\n",
       "      <th>poster_path</th>\n",
       "      <th>release_date</th>\n",
       "      <th>title</th>\n",
       "      <th>vote_average</th>\n",
       "      <th>vote_count</th>\n",
       "    </tr>\n",
       "  </thead>\n",
       "  <tbody>\n",
       "    <tr>\n",
       "      <th>0</th>\n",
       "      <td>580489</td>\n",
       "      <td>en</td>\n",
       "      <td>Venom: Let There Be Carnage</td>\n",
       "      <td>연쇄살인마 클리터스 캐서디(우디 해럴슨)가 사형선고를 받는다. 죽을 생각이 전혀 없...</td>\n",
       "      <td>11473.714</td>\n",
       "      <td>/1Lh9LER4xRQ3INFFi2dfS2hpRwv.jpg</td>\n",
       "      <td>2021-09-30</td>\n",
       "      <td>베놈 2: 렛 데어 비 카니지</td>\n",
       "      <td>7.2</td>\n",
       "      <td>3947</td>\n",
       "    </tr>\n",
       "    <tr>\n",
       "      <th>1</th>\n",
       "      <td>512195</td>\n",
       "      <td>en</td>\n",
       "      <td>Red Notice</td>\n",
       "      <td>인터폴이 중범죄 피의자를 대상으로 내리는 전 세계적 경보인 레드 노티스. 세계 곳곳...</td>\n",
       "      <td>3991.047</td>\n",
       "      <td>/gG06Uu6UQseYaPx1RU2PQjFEUKK.jpg</td>\n",
       "      <td>2021-11-04</td>\n",
       "      <td>레드 노티스</td>\n",
       "      <td>6.9</td>\n",
       "      <td>1716</td>\n",
       "    </tr>\n",
       "  </tbody>\n",
       "</table>\n",
       "</div>"
      ],
      "text/plain": [
       "       id original_language               original_title  \\\n",
       "0  580489                en  Venom: Let There Be Carnage   \n",
       "1  512195                en                   Red Notice   \n",
       "\n",
       "                                            overview  popularity  \\\n",
       "0  연쇄살인마 클리터스 캐서디(우디 해럴슨)가 사형선고를 받는다. 죽을 생각이 전혀 없...   11473.714   \n",
       "1  인터폴이 중범죄 피의자를 대상으로 내리는 전 세계적 경보인 레드 노티스. 세계 곳곳...    3991.047   \n",
       "\n",
       "                        poster_path release_date             title  \\\n",
       "0  /1Lh9LER4xRQ3INFFi2dfS2hpRwv.jpg   2021-09-30  베놈 2: 렛 데어 비 카니지   \n",
       "1  /gG06Uu6UQseYaPx1RU2PQjFEUKK.jpg   2021-11-04            레드 노티스   \n",
       "\n",
       "   vote_average  vote_count  \n",
       "0           7.2        3947  \n",
       "1           6.9        1716  "
      ]
     },
     "execution_count": 6,
     "metadata": {},
     "output_type": "execute_result"
    }
   ],
   "source": [
    "now_playing_movies.head(2)"
   ]
  },
  {
   "cell_type": "code",
   "execution_count": 7,
   "metadata": {},
   "outputs": [
    {
     "data": {
      "text/html": [
       "<div>\n",
       "<style scoped>\n",
       "    .dataframe tbody tr th:only-of-type {\n",
       "        vertical-align: middle;\n",
       "    }\n",
       "\n",
       "    .dataframe tbody tr th {\n",
       "        vertical-align: top;\n",
       "    }\n",
       "\n",
       "    .dataframe thead th {\n",
       "        text-align: right;\n",
       "    }\n",
       "</style>\n",
       "<table border=\"1\" class=\"dataframe\">\n",
       "  <thead>\n",
       "    <tr style=\"text-align: right;\">\n",
       "      <th></th>\n",
       "      <th>movie_id</th>\n",
       "      <th>original_language</th>\n",
       "      <th>subtitle</th>\n",
       "      <th>overview</th>\n",
       "      <th>popularity</th>\n",
       "      <th>posterpath</th>\n",
       "      <th>release_date</th>\n",
       "      <th>title</th>\n",
       "      <th>vote_average</th>\n",
       "      <th>vote_count</th>\n",
       "    </tr>\n",
       "  </thead>\n",
       "  <tbody>\n",
       "    <tr>\n",
       "      <th>0</th>\n",
       "      <td>580489</td>\n",
       "      <td>en</td>\n",
       "      <td>Venom: Let There Be Carnage</td>\n",
       "      <td>연쇄살인마 클리터스 캐서디(우디 해럴슨)가 사형선고를 받는다. 죽을 생각이 전혀 없...</td>\n",
       "      <td>11473.714</td>\n",
       "      <td>/1Lh9LER4xRQ3INFFi2dfS2hpRwv.jpg</td>\n",
       "      <td>2021-09-30</td>\n",
       "      <td>베놈 2: 렛 데어 비 카니지</td>\n",
       "      <td>7.2</td>\n",
       "      <td>3947</td>\n",
       "    </tr>\n",
       "    <tr>\n",
       "      <th>1</th>\n",
       "      <td>512195</td>\n",
       "      <td>en</td>\n",
       "      <td>Red Notice</td>\n",
       "      <td>인터폴이 중범죄 피의자를 대상으로 내리는 전 세계적 경보인 레드 노티스. 세계 곳곳...</td>\n",
       "      <td>3991.047</td>\n",
       "      <td>/gG06Uu6UQseYaPx1RU2PQjFEUKK.jpg</td>\n",
       "      <td>2021-11-04</td>\n",
       "      <td>레드 노티스</td>\n",
       "      <td>6.9</td>\n",
       "      <td>1716</td>\n",
       "    </tr>\n",
       "  </tbody>\n",
       "</table>\n",
       "</div>"
      ],
      "text/plain": [
       "   movie_id original_language                     subtitle  \\\n",
       "0    580489                en  Venom: Let There Be Carnage   \n",
       "1    512195                en                   Red Notice   \n",
       "\n",
       "                                            overview  popularity  \\\n",
       "0  연쇄살인마 클리터스 캐서디(우디 해럴슨)가 사형선고를 받는다. 죽을 생각이 전혀 없...   11473.714   \n",
       "1  인터폴이 중범죄 피의자를 대상으로 내리는 전 세계적 경보인 레드 노티스. 세계 곳곳...    3991.047   \n",
       "\n",
       "                         posterpath release_date             title  \\\n",
       "0  /1Lh9LER4xRQ3INFFi2dfS2hpRwv.jpg   2021-09-30  베놈 2: 렛 데어 비 카니지   \n",
       "1  /gG06Uu6UQseYaPx1RU2PQjFEUKK.jpg   2021-11-04            레드 노티스   \n",
       "\n",
       "   vote_average  vote_count  \n",
       "0           7.2        3947  \n",
       "1           6.9        1716  "
      ]
     },
     "execution_count": 7,
     "metadata": {},
     "output_type": "execute_result"
    }
   ],
   "source": [
    "# 칼럼이름을 DB 칼럼이름과 동일하게 변경\n",
    "\n",
    "now_playing_movies=now_playing_movies.rename(columns={'id':'movie_id', 'original_title':'subtitle','poster_path':'posterpath'})\n",
    "now_playing_movies.head(2)"
   ]
  },
  {
   "cell_type": "code",
   "execution_count": 8,
   "metadata": {},
   "outputs": [
    {
     "data": {
      "text/plain": [
       "movie_id             0\n",
       "original_language    0\n",
       "subtitle             0\n",
       "overview             0\n",
       "popularity           0\n",
       "posterpath           0\n",
       "release_date         0\n",
       "title                0\n",
       "vote_average         0\n",
       "vote_count           0\n",
       "dtype: int64"
      ]
     },
     "execution_count": 8,
     "metadata": {},
     "output_type": "execute_result"
    }
   ],
   "source": [
    "now_playing_movies.isna().sum()"
   ]
  },
  {
   "cell_type": "code",
   "execution_count": 9,
   "metadata": {},
   "outputs": [
    {
     "data": {
      "text/html": [
       "<div>\n",
       "<style scoped>\n",
       "    .dataframe tbody tr th:only-of-type {\n",
       "        vertical-align: middle;\n",
       "    }\n",
       "\n",
       "    .dataframe tbody tr th {\n",
       "        vertical-align: top;\n",
       "    }\n",
       "\n",
       "    .dataframe thead th {\n",
       "        text-align: right;\n",
       "    }\n",
       "</style>\n",
       "<table border=\"1\" class=\"dataframe\">\n",
       "  <thead>\n",
       "    <tr style=\"text-align: right;\">\n",
       "      <th></th>\n",
       "      <th>movie_id</th>\n",
       "    </tr>\n",
       "  </thead>\n",
       "  <tbody>\n",
       "    <tr>\n",
       "      <th>0</th>\n",
       "      <td>580489</td>\n",
       "    </tr>\n",
       "    <tr>\n",
       "      <th>1</th>\n",
       "      <td>512195</td>\n",
       "    </tr>\n",
       "    <tr>\n",
       "      <th>2</th>\n",
       "      <td>585245</td>\n",
       "    </tr>\n",
       "    <tr>\n",
       "      <th>3</th>\n",
       "      <td>566525</td>\n",
       "    </tr>\n",
       "    <tr>\n",
       "      <th>4</th>\n",
       "      <td>589761</td>\n",
       "    </tr>\n",
       "    <tr>\n",
       "      <th>...</th>\n",
       "      <td>...</td>\n",
       "    </tr>\n",
       "    <tr>\n",
       "      <th>195</th>\n",
       "      <td>447200</td>\n",
       "    </tr>\n",
       "    <tr>\n",
       "      <th>196</th>\n",
       "      <td>588099</td>\n",
       "    </tr>\n",
       "    <tr>\n",
       "      <th>197</th>\n",
       "      <td>424277</td>\n",
       "    </tr>\n",
       "    <tr>\n",
       "      <th>198</th>\n",
       "      <td>712121</td>\n",
       "    </tr>\n",
       "    <tr>\n",
       "      <th>199</th>\n",
       "      <td>8373</td>\n",
       "    </tr>\n",
       "  </tbody>\n",
       "</table>\n",
       "<p>200 rows × 1 columns</p>\n",
       "</div>"
      ],
      "text/plain": [
       "     movie_id\n",
       "0      580489\n",
       "1      512195\n",
       "2      585245\n",
       "3      566525\n",
       "4      589761\n",
       "..        ...\n",
       "195    447200\n",
       "196    588099\n",
       "197    424277\n",
       "198    712121\n",
       "199      8373\n",
       "\n",
       "[200 rows x 1 columns]"
      ]
     },
     "execution_count": 9,
     "metadata": {},
     "output_type": "execute_result"
    }
   ],
   "source": [
    "now_playing_movies_ids=now_playing_movies[[\"movie_id\"]]\n",
    "now_playing_movies_ids"
   ]
  },
  {
   "cell_type": "code",
   "execution_count": 48,
   "metadata": {},
   "outputs": [],
   "source": [
    "import pymysql\n",
    "\n",
    "conn = pymysql.connect(host=\"localhost\",\n",
    "                       database=\"finalteam3\",\n",
    "                       user=\"kdigital\",\n",
    "                       password=\"mysql\",\n",
    "                       charset=\"utf8\")\n",
    "cursor = conn.cursor()\n",
    "error_list = []\n",
    "cursor.execute('DELETE FROM actor')\n",
    "cursor.execute('DELETE FROM now_playing_movies')\n",
    "for movie_id in now_playing_movies_ids.values:\n",
    "    try:\n",
    "        # print(type(movie_id), movie_id)  # movie_id type이 nd.arrary임. \n",
    "        sql= \"INSERT INTO now_playing_movies VALUES(%s)\"\n",
    "        cursor.execute(sql, movie_id[0])\n",
    "    except:\n",
    "        error_list.append(movie_id)\n",
    "    \n",
    "conn.commit()\n",
    "cursor.close()\n",
    "conn.close()"
   ]
  },
  {
   "cell_type": "code",
   "execution_count": 40,
   "metadata": {},
   "outputs": [],
   "source": [
    "#없는 영화 업데이트\n",
    "\n",
    "popular_movies = []\n",
    "for i in error_list:\n",
    "        for e in i:\n",
    "                url=\"https://api.themoviedb.org/3/movie/{0}?api_key={1}&language=ko-KR\".format(e,'36927ad1d2817ff0fa31947e47d186fd')\n",
    "                response = requests.get(url)\n",
    "                popular_movies.append(json.loads(response.content))"
   ]
  },
  {
   "cell_type": "code",
   "execution_count": 43,
   "metadata": {},
   "outputs": [],
   "source": [
    "movies2 = pd.DataFrame(popular_movies)"
   ]
  },
  {
   "cell_type": "code",
   "execution_count": 45,
   "metadata": {},
   "outputs": [
    {
     "name": "stdout",
     "output_type": "stream",
     "text": [
      "(34, 25)\n"
     ]
    }
   ],
   "source": [
    "# 3. DB에 저장 ( \"resource you requested could not be found.\"행 영화는 제거하고 필요한 컬럼만 가져온 후 저장)\n",
    "import numpy as np\n",
    "# 1. connect\n",
    "conn = pymysql.connect(host=\"127.0.0.1\", port=3306, db='finalteam3', user=\"kdigital\", password=\"mysql\", charset=\"utf8\")\n",
    "\n",
    "# 2. get command object\n",
    "cursor = conn.cursor()\n",
    "\n",
    "# cursor.execute(\"delete from movie\") #기존 데이터를 지울 때 주석을 풀어주세요 \n",
    "\n",
    "error_list = []   ##결과 18개\n",
    "            \n",
    "# movies2['original_language'] = movies2['original_language'].apply(lambda ol: ol if ol else '')\n",
    "movies2['overview'] = movies2['overview'].apply(lambda ov : ov if str(ov) != 'nan' else '')\n",
    "movies2['release_date'] = movies2['release_date'].apply(lambda ov : ov if str(ov) != 'nan' else '')\n",
    "movies2['poster_path'] = movies2['poster_path'].apply(lambda ov : ov if str(ov) != 'nan' else '')\n",
    "print(movies2.values.shape)\n",
    "##결과: 630186 entries  ???????????????\n",
    "\n",
    "# 3. execute command\n",
    "sql = \"\"\"insert into movie (movie_id, title, subtitle, original_language, overview, popularity, release_date, vote_average, vote_count, posterpath) \n",
    "        values (%s, %s, %s, %s, %s, %s, %s, %s, %s, %s)\"\"\"\n",
    "for movie in movies2.values:\n",
    "    cursor.execute(sql, list(movie[list(np.array([9, 24, 12, 11, 13, 14, 18, 26, 27, 15]) - 3)]))\n",
    "\n",
    "# movie3.append(list(movies2.values)) ##결과: 467108 entries    ????????????????????\n",
    "                \n",
    "\n",
    "conn.commit() # confirm previous execution\n",
    "# 4. close resource\n",
    "cursor.close()\n",
    "conn.close()"
   ]
  }
 ],
 "metadata": {
  "interpreter": {
   "hash": "dfc1d8b9e40561b450c0b6847750c6fdfeb99218189e9277504933eee44f7507"
  },
  "kernelspec": {
   "display_name": "Python 3.7.11 64-bit ('kdigital-busan': conda)",
   "language": "python",
   "name": "python3"
  },
  "language_info": {
   "codemirror_mode": {
    "name": "ipython",
    "version": 3
   },
   "file_extension": ".py",
   "mimetype": "text/x-python",
   "name": "python",
   "nbconvert_exporter": "python",
   "pygments_lexer": "ipython3",
   "version": "3.9.7"
  },
  "orig_nbformat": 4
 },
 "nbformat": 4,
 "nbformat_minor": 2
}
