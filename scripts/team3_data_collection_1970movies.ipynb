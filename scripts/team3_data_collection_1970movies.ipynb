{
 "cells": [
  {
   "cell_type": "code",
   "execution_count": 8,
   "metadata": {},
   "outputs": [],
   "source": [
    "import requests\n",
    "import json\n",
    "import pandas as pd\n",
    "import numpy as np\n",
    "import pymysql\n",
    "import os"
   ]
  },
  {
   "cell_type": "code",
   "execution_count": 9,
   "metadata": {},
   "outputs": [],
   "source": [
    "# 0.1970년대 영화 크롤링\n",
    "\n",
    "movies_1970s = []\n",
    "for i in range(1,1000):\n",
    "    url = 'https://api.themoviedb.org/3/discover/movie?api_key=36927ad1d2817ff0fa31947e47d186fd&primary_release_date.gte=1970-01-01&primary_release_date.lte=1979-12-31&sort_by=popularity.desc&include_video=false&page={0}'.format(i)\n",
    "    resp = requests.get(url)\n",
    "    movies_1970s.append(json.loads(resp.content))\n",
    "\n",
    "    if i == 3:\n",
    "        break\n",
    "\n",
    "movies = []\n",
    "for row in movies_1970s:\n",
    "    for result in row['results']:\n",
    "        movies.append(result)"
   ]
  },
  {
   "cell_type": "code",
   "execution_count": 10,
   "metadata": {},
   "outputs": [],
   "source": [
    "movies_1970s=pd.DataFrame(movies)"
   ]
  },
  {
   "cell_type": "code",
   "execution_count": 12,
   "metadata": {},
   "outputs": [
    {
     "data": {
      "text/plain": [
       "adult                0\n",
       "backdrop_path        6\n",
       "genre_ids            0\n",
       "id                   0\n",
       "original_language    0\n",
       "original_title       0\n",
       "overview             0\n",
       "popularity           0\n",
       "poster_path          1\n",
       "release_date         0\n",
       "title                0\n",
       "video                0\n",
       "vote_average         0\n",
       "vote_count           0\n",
       "dtype: int64"
      ]
     },
     "execution_count": 12,
     "metadata": {},
     "output_type": "execute_result"
    }
   ],
   "source": [
    "movies_1970s.isna().sum()"
   ]
  },
  {
   "cell_type": "code",
   "execution_count": 13,
   "metadata": {},
   "outputs": [],
   "source": [
    "movies_1970s=movies_1970s.dropna()"
   ]
  },
  {
   "cell_type": "code",
   "execution_count": 14,
   "metadata": {},
   "outputs": [
    {
     "data": {
      "text/plain": [
       "adult                0\n",
       "backdrop_path        0\n",
       "genre_ids            0\n",
       "id                   0\n",
       "original_language    0\n",
       "original_title       0\n",
       "overview             0\n",
       "popularity           0\n",
       "poster_path          0\n",
       "release_date         0\n",
       "title                0\n",
       "video                0\n",
       "vote_average         0\n",
       "vote_count           0\n",
       "dtype: int64"
      ]
     },
     "execution_count": 14,
     "metadata": {},
     "output_type": "execute_result"
    }
   ],
   "source": [
    "movies_1970s.isna().sum()"
   ]
  },
  {
   "cell_type": "code",
   "execution_count": 15,
   "metadata": {},
   "outputs": [],
   "source": [
    "# na가 제거된 1970년대 영화리스트를 csv파일로 저장\n",
    "\n",
    "# movies_1970s.to_csv(\"movies_1970s.csv\", mode='w')"
   ]
  }
 ],
 "metadata": {
  "interpreter": {
   "hash": "f2fcd694705e23828841e6436414841c9e0551977625b01a6a0c570cf77493f9"
  },
  "kernelspec": {
   "display_name": "Python 3.7.11 64-bit ('ykseo': conda)",
   "language": "python",
   "name": "python3"
  },
  "language_info": {
   "codemirror_mode": {
    "name": "ipython",
    "version": 3
   },
   "file_extension": ".py",
   "mimetype": "text/x-python",
   "name": "python",
   "nbconvert_exporter": "python",
   "pygments_lexer": "ipython3",
   "version": "3.9.7"
  },
  "orig_nbformat": 4
 },
 "nbformat": 4,
 "nbformat_minor": 2
}
